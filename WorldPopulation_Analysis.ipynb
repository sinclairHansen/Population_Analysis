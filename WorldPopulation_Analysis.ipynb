{
  "metadata": {
    "kernelspec": {
      "language": "python",
      "display_name": "Python 3",
      "name": "python3"
    },
    "language_info": {
      "name": "python",
      "version": "3.10.14",
      "mimetype": "text/x-python",
      "codemirror_mode": {
        "name": "ipython",
        "version": 3
      },
      "pygments_lexer": "ipython3",
      "nbconvert_exporter": "python",
      "file_extension": ".py"
    },
    "kaggle": {
      "accelerator": "none",
      "dataSources": [
        {
          "sourceId": 7319047,
          "sourceType": "datasetVersion",
          "datasetId": 4247363
        }
      ],
      "dockerImageVersionId": 30786,
      "isInternetEnabled": true,
      "language": "python",
      "sourceType": "notebook",
      "isGpuEnabled": false
    },
    "colab": {
      "name": "WorldPopulation Analysis",
      "provenance": []
    }
  },
  "nbformat_minor": 0,
  "nbformat": 4,
  "cells": [
    {
      "source": [
        "# IMPORTANT: RUN THIS CELL IN ORDER TO IMPORT YOUR KAGGLE DATA SOURCES,\n",
        "# THEN FEEL FREE TO DELETE THIS CELL.\n",
        "# NOTE: THIS NOTEBOOK ENVIRONMENT DIFFERS FROM KAGGLE'S PYTHON\n",
        "# ENVIRONMENT SO THERE MAY BE MISSING LIBRARIES USED BY YOUR\n",
        "# NOTEBOOK.\n",
        "import kagglehub\n",
        "sazidthe1_world_population_data_path = kagglehub.dataset_download('sazidthe1/world-population-data')\n",
        "\n",
        "print('Data source import complete.')\n"
      ],
      "metadata": {
        "id": "iN3BQm4UZi-W"
      },
      "cell_type": "code",
      "outputs": [],
      "execution_count": null
    },
    {
      "cell_type": "markdown",
      "source": [
        "![image.png](attachment:c947f800-4250-49ac-86f9-2f1af509bdff.png)"
      ],
      "metadata": {
        "id": "ay3zyUz-Zi-W"
      }
    },
    {
      "cell_type": "markdown",
      "source": [
        "# **World Population Data Analysis**\n",
        "**Sinclair Hansen & Professor Choraszewski**"
      ],
      "metadata": {
        "id": "ZT4QCAkQZi-X"
      }
    },
    {
      "cell_type": "markdown",
      "source": [
        "In November of 2022, the UN reported that the world population reached 8 billion people. Currently, the population stands at a solid 8.2 billion. Studying population is important to understanding our world's demographics, age, birth rate, impact on economy, etc. It can also assist in our projections on where our population will end up over the next several decades.\n",
        "\n",
        "The primary dataset was retrieved from the World Population Review:\n",
        "[https://worldpopulationreview.com/](http://)\n",
        "\n",
        "I would like to note that this dataset acknowledges 234 nations worldwide. This number will change depending on which nation you reside in. The UN recognizes 193 nations. This dataset breaks some regions into smaller parts.\n"
      ],
      "metadata": {
        "id": "wquJH9BsZi-X"
      }
    },
    {
      "cell_type": "markdown",
      "source": [
        "**Importing Proper Libraries**"
      ],
      "metadata": {
        "id": "yoVgCe6hZi-X"
      }
    },
    {
      "cell_type": "code",
      "source": [
        "\n",
        "import numpy as np # linear algebra\n",
        "import pandas as pd # data processing, CSV file I/O (e.g. pd.read_csv)\n",
        "import matplotlib.pyplot as plt\n",
        "\n",
        "import os\n",
        "for dirname, _, filenames in os.walk('/kaggle/input'):\n",
        "    for filename in filenames:\n",
        "        print(os.path.join(dirname, filename))\n",
        "\n",
        "import kagglehub\n",
        "import seaborn as sns\n",
        "import plotly.express as px\n",
        "import plotly.graph_objects as go\n",
        "from plotly.offline import init_notebook_mode\n",
        "init_notebook_mode(connected=True)\n",
        "from wordcloud import WordCloud, STOPWORDS\n",
        "from ipywidgets import interact\n",
        "\n",
        "# Download latest version\n",
        "path = kagglehub.dataset_download(\"sazidthe1/world-population-data\")\n",
        "\n",
        "print(\"Path to dataset files:\", path)"
      ],
      "metadata": {
        "_uuid": "8f2839f25d086af736a60e9eeb907d3b93b6e0e5",
        "_cell_guid": "b1076dfc-b9ad-4769-8c92-a6c4dae69d19",
        "execution": {
          "iopub.status.busy": "2024-11-28T19:56:51.684803Z",
          "iopub.execute_input": "2024-11-28T19:56:51.685354Z",
          "iopub.status.idle": "2024-11-28T19:56:52.668649Z",
          "shell.execute_reply.started": "2024-11-28T19:56:51.685304Z",
          "shell.execute_reply": "2024-11-28T19:56:52.667553Z"
        },
        "trusted": true,
        "id": "Jnzpy95bZi-X",
        "outputId": "76debe3f-3b98-4c63-d500-39dd4ec5286c"
      },
      "outputs": [
        {
          "name": "stdout",
          "text": "/kaggle/input/world-population-data/world_population_data.csv\n",
          "output_type": "stream"
        },
        {
          "output_type": "display_data",
          "data": {
            "text/html": "        <script type=\"text/javascript\">\n        window.PlotlyConfig = {MathJaxConfig: 'local'};\n        if (window.MathJax && window.MathJax.Hub && window.MathJax.Hub.Config) {window.MathJax.Hub.Config({SVG: {font: \"STIX-Web\"}});}\n        if (typeof require !== 'undefined') {\n        require.undef(\"plotly\");\n        requirejs.config({\n            paths: {\n                'plotly': ['https://cdn.plot.ly/plotly-2.32.0.min']\n            }\n        });\n        require(['plotly'], function(Plotly) {\n            window._Plotly = Plotly;\n        });\n        }\n        </script>\n        "
          },
          "metadata": {}
        },
        {
          "name": "stdout",
          "text": "Path to dataset files: /kaggle/input/world-population-data\n",
          "output_type": "stream"
        }
      ],
      "execution_count": null
    },
    {
      "cell_type": "markdown",
      "source": [
        "**Connecting to dataset**"
      ],
      "metadata": {
        "id": "6JAdWkqbZi-Y"
      }
    },
    {
      "cell_type": "code",
      "source": [
        "pd.set_option('display.max_columns', None) # View all columns\n",
        "pd.options.display.float_format = '{:.0f}'.format # Avoid Scientific notation while showing numbers"
      ],
      "metadata": {
        "execution": {
          "iopub.status.busy": "2024-11-28T19:56:52.670896Z",
          "iopub.execute_input": "2024-11-28T19:56:52.671363Z",
          "iopub.status.idle": "2024-11-28T19:56:52.676642Z",
          "shell.execute_reply.started": "2024-11-28T19:56:52.671315Z",
          "shell.execute_reply": "2024-11-28T19:56:52.675519Z"
        },
        "trusted": true,
        "id": "jn2bW3cQZi-Y"
      },
      "outputs": [],
      "execution_count": null
    },
    {
      "cell_type": "code",
      "source": [
        "df = pd.read_csv('/kaggle/input/world-population-data/world_population_data.csv').drop_duplicates()\n",
        "#df is our data and it is set to our file\n"
      ],
      "metadata": {
        "execution": {
          "iopub.status.busy": "2024-11-28T19:56:52.678255Z",
          "iopub.execute_input": "2024-11-28T19:56:52.679006Z",
          "iopub.status.idle": "2024-11-28T19:56:52.703999Z",
          "shell.execute_reply.started": "2024-11-28T19:56:52.678909Z",
          "shell.execute_reply": "2024-11-28T19:56:52.702823Z"
        },
        "trusted": true,
        "id": "s-svTU8AZi-Y"
      },
      "outputs": [],
      "execution_count": null
    },
    {
      "cell_type": "markdown",
      "source": [
        "**Going through some of the prevalent data**"
      ],
      "metadata": {
        "id": "RmmEvVXgZi-Y"
      }
    },
    {
      "cell_type": "code",
      "source": [
        "df.describe().style.set_properties(**{\"background-color\": \"#32a895\", \"color\": \"white\", \"border\": \"2 px solid black\"})\n",
        "#General stats about the various categories in the dataset"
      ],
      "metadata": {
        "trusted": true,
        "execution": {
          "iopub.status.busy": "2024-11-28T19:56:52.705359Z",
          "iopub.execute_input": "2024-11-28T19:56:52.705895Z",
          "iopub.status.idle": "2024-11-28T19:56:52.746633Z",
          "shell.execute_reply.started": "2024-11-28T19:56:52.705844Z",
          "shell.execute_reply": "2024-11-28T19:56:52.745572Z"
        },
        "id": "EDJPSR9vZi-Y",
        "outputId": "6533c002-cf7a-4645-c1bf-8fd02b579183"
      },
      "outputs": [
        {
          "execution_count": 118,
          "output_type": "execute_result",
          "data": {
            "text/plain": "<pandas.io.formats.style.Styler at 0x79a4d212ffa0>",
            "text/html": "<style type=\"text/css\">\n#T_ec7dc_row0_col0, #T_ec7dc_row0_col1, #T_ec7dc_row0_col2, #T_ec7dc_row0_col3, #T_ec7dc_row0_col4, #T_ec7dc_row0_col5, #T_ec7dc_row0_col6, #T_ec7dc_row0_col7, #T_ec7dc_row0_col8, #T_ec7dc_row0_col9, #T_ec7dc_row0_col10, #T_ec7dc_row0_col11, #T_ec7dc_row1_col0, #T_ec7dc_row1_col1, #T_ec7dc_row1_col2, #T_ec7dc_row1_col3, #T_ec7dc_row1_col4, #T_ec7dc_row1_col5, #T_ec7dc_row1_col6, #T_ec7dc_row1_col7, #T_ec7dc_row1_col8, #T_ec7dc_row1_col9, #T_ec7dc_row1_col10, #T_ec7dc_row1_col11, #T_ec7dc_row2_col0, #T_ec7dc_row2_col1, #T_ec7dc_row2_col2, #T_ec7dc_row2_col3, #T_ec7dc_row2_col4, #T_ec7dc_row2_col5, #T_ec7dc_row2_col6, #T_ec7dc_row2_col7, #T_ec7dc_row2_col8, #T_ec7dc_row2_col9, #T_ec7dc_row2_col10, #T_ec7dc_row2_col11, #T_ec7dc_row3_col0, #T_ec7dc_row3_col1, #T_ec7dc_row3_col2, #T_ec7dc_row3_col3, #T_ec7dc_row3_col4, #T_ec7dc_row3_col5, #T_ec7dc_row3_col6, #T_ec7dc_row3_col7, #T_ec7dc_row3_col8, #T_ec7dc_row3_col9, #T_ec7dc_row3_col10, #T_ec7dc_row3_col11, #T_ec7dc_row4_col0, #T_ec7dc_row4_col1, #T_ec7dc_row4_col2, #T_ec7dc_row4_col3, #T_ec7dc_row4_col4, #T_ec7dc_row4_col5, #T_ec7dc_row4_col6, #T_ec7dc_row4_col7, #T_ec7dc_row4_col8, #T_ec7dc_row4_col9, #T_ec7dc_row4_col10, #T_ec7dc_row4_col11, #T_ec7dc_row5_col0, #T_ec7dc_row5_col1, #T_ec7dc_row5_col2, #T_ec7dc_row5_col3, #T_ec7dc_row5_col4, #T_ec7dc_row5_col5, #T_ec7dc_row5_col6, #T_ec7dc_row5_col7, #T_ec7dc_row5_col8, #T_ec7dc_row5_col9, #T_ec7dc_row5_col10, #T_ec7dc_row5_col11, #T_ec7dc_row6_col0, #T_ec7dc_row6_col1, #T_ec7dc_row6_col2, #T_ec7dc_row6_col3, #T_ec7dc_row6_col4, #T_ec7dc_row6_col5, #T_ec7dc_row6_col6, #T_ec7dc_row6_col7, #T_ec7dc_row6_col8, #T_ec7dc_row6_col9, #T_ec7dc_row6_col10, #T_ec7dc_row6_col11, #T_ec7dc_row7_col0, #T_ec7dc_row7_col1, #T_ec7dc_row7_col2, #T_ec7dc_row7_col3, #T_ec7dc_row7_col4, #T_ec7dc_row7_col5, #T_ec7dc_row7_col6, #T_ec7dc_row7_col7, #T_ec7dc_row7_col8, #T_ec7dc_row7_col9, #T_ec7dc_row7_col10, #T_ec7dc_row7_col11 {\n  background-color: #32a895;\n  color: white;\n  border: 2 px solid black;\n}\n</style>\n<table id=\"T_ec7dc\">\n  <thead>\n    <tr>\n      <th class=\"blank level0\" >&nbsp;</th>\n      <th id=\"T_ec7dc_level0_col0\" class=\"col_heading level0 col0\" >rank</th>\n      <th id=\"T_ec7dc_level0_col1\" class=\"col_heading level0 col1\" >2023 population</th>\n      <th id=\"T_ec7dc_level0_col2\" class=\"col_heading level0 col2\" >2022 population</th>\n      <th id=\"T_ec7dc_level0_col3\" class=\"col_heading level0 col3\" >2020 population</th>\n      <th id=\"T_ec7dc_level0_col4\" class=\"col_heading level0 col4\" >2015 population</th>\n      <th id=\"T_ec7dc_level0_col5\" class=\"col_heading level0 col5\" >2010 population</th>\n      <th id=\"T_ec7dc_level0_col6\" class=\"col_heading level0 col6\" >2000 population</th>\n      <th id=\"T_ec7dc_level0_col7\" class=\"col_heading level0 col7\" >1990 population</th>\n      <th id=\"T_ec7dc_level0_col8\" class=\"col_heading level0 col8\" >1980 population</th>\n      <th id=\"T_ec7dc_level0_col9\" class=\"col_heading level0 col9\" >1970 population</th>\n      <th id=\"T_ec7dc_level0_col10\" class=\"col_heading level0 col10\" >area (km²)</th>\n      <th id=\"T_ec7dc_level0_col11\" class=\"col_heading level0 col11\" >density (km²)</th>\n    </tr>\n  </thead>\n  <tbody>\n    <tr>\n      <th id=\"T_ec7dc_level0_row0\" class=\"row_heading level0 row0\" >count</th>\n      <td id=\"T_ec7dc_row0_col0\" class=\"data row0 col0\" >234.000000</td>\n      <td id=\"T_ec7dc_row0_col1\" class=\"data row0 col1\" >234.000000</td>\n      <td id=\"T_ec7dc_row0_col2\" class=\"data row0 col2\" >234.000000</td>\n      <td id=\"T_ec7dc_row0_col3\" class=\"data row0 col3\" >234.000000</td>\n      <td id=\"T_ec7dc_row0_col4\" class=\"data row0 col4\" >234.000000</td>\n      <td id=\"T_ec7dc_row0_col5\" class=\"data row0 col5\" >234.000000</td>\n      <td id=\"T_ec7dc_row0_col6\" class=\"data row0 col6\" >234.000000</td>\n      <td id=\"T_ec7dc_row0_col7\" class=\"data row0 col7\" >234.000000</td>\n      <td id=\"T_ec7dc_row0_col8\" class=\"data row0 col8\" >234.000000</td>\n      <td id=\"T_ec7dc_row0_col9\" class=\"data row0 col9\" >234.000000</td>\n      <td id=\"T_ec7dc_row0_col10\" class=\"data row0 col10\" >234.000000</td>\n      <td id=\"T_ec7dc_row0_col11\" class=\"data row0 col11\" >234.000000</td>\n    </tr>\n    <tr>\n      <th id=\"T_ec7dc_level0_row1\" class=\"row_heading level0 row1\" >mean</th>\n      <td id=\"T_ec7dc_row1_col0\" class=\"data row1 col0\" >117.500000</td>\n      <td id=\"T_ec7dc_row1_col1\" class=\"data row1 col1\" >34374424.743590</td>\n      <td id=\"T_ec7dc_row1_col2\" class=\"data row1 col2\" >34074414.713675</td>\n      <td id=\"T_ec7dc_row1_col3\" class=\"data row1 col3\" >33501070.952991</td>\n      <td id=\"T_ec7dc_row1_col4\" class=\"data row1 col4\" >31729956.243590</td>\n      <td id=\"T_ec7dc_row1_col5\" class=\"data row1 col5\" >29845235.042735</td>\n      <td id=\"T_ec7dc_row1_col6\" class=\"data row1 col6\" >26269468.816239</td>\n      <td id=\"T_ec7dc_row1_col7\" class=\"data row1 col7\" >22710220.790598</td>\n      <td id=\"T_ec7dc_row1_col8\" class=\"data row1 col8\" >18984616.982906</td>\n      <td id=\"T_ec7dc_row1_col9\" class=\"data row1 col9\" >15786908.807692</td>\n      <td id=\"T_ec7dc_row1_col10\" class=\"data row1 col10\" >581449.983590</td>\n      <td id=\"T_ec7dc_row1_col11\" class=\"data row1 col11\" >451.282051</td>\n    </tr>\n    <tr>\n      <th id=\"T_ec7dc_level0_row2\" class=\"row_heading level0 row2\" >std</th>\n      <td id=\"T_ec7dc_row2_col0\" class=\"data row2 col0\" >67.694165</td>\n      <td id=\"T_ec7dc_row2_col1\" class=\"data row2 col1\" >137386405.597263</td>\n      <td id=\"T_ec7dc_row2_col2\" class=\"data row2 col2\" >136766424.804728</td>\n      <td id=\"T_ec7dc_row2_col3\" class=\"data row2 col3\" >135589876.924439</td>\n      <td id=\"T_ec7dc_row2_col4\" class=\"data row2 col4\" >130404992.751760</td>\n      <td id=\"T_ec7dc_row2_col5\" class=\"data row2 col5\" >124218487.631581</td>\n      <td id=\"T_ec7dc_row2_col6\" class=\"data row2 col6\" >111698206.719070</td>\n      <td id=\"T_ec7dc_row2_col7\" class=\"data row2 col7\" >97832173.346751</td>\n      <td id=\"T_ec7dc_row2_col8\" class=\"data row2 col8\" >81785186.081872</td>\n      <td id=\"T_ec7dc_row2_col9\" class=\"data row2 col9\" >67795091.643236</td>\n      <td id=\"T_ec7dc_row2_col10\" class=\"data row2 col10\" >1761840.665609</td>\n      <td id=\"T_ec7dc_row2_col11\" class=\"data row2 col11\" >1979.398922</td>\n    </tr>\n    <tr>\n      <th id=\"T_ec7dc_level0_row3\" class=\"row_heading level0 row3\" >min</th>\n      <td id=\"T_ec7dc_row3_col0\" class=\"data row3 col0\" >1.000000</td>\n      <td id=\"T_ec7dc_row3_col1\" class=\"data row3 col1\" >518.000000</td>\n      <td id=\"T_ec7dc_row3_col2\" class=\"data row3 col2\" >510.000000</td>\n      <td id=\"T_ec7dc_row3_col3\" class=\"data row3 col3\" >520.000000</td>\n      <td id=\"T_ec7dc_row3_col4\" class=\"data row3 col4\" >564.000000</td>\n      <td id=\"T_ec7dc_row3_col5\" class=\"data row3 col5\" >596.000000</td>\n      <td id=\"T_ec7dc_row3_col6\" class=\"data row3 col6\" >651.000000</td>\n      <td id=\"T_ec7dc_row3_col7\" class=\"data row3 col7\" >700.000000</td>\n      <td id=\"T_ec7dc_row3_col8\" class=\"data row3 col8\" >733.000000</td>\n      <td id=\"T_ec7dc_row3_col9\" class=\"data row3 col9\" >752.000000</td>\n      <td id=\"T_ec7dc_row3_col10\" class=\"data row3 col10\" >0.440000</td>\n      <td id=\"T_ec7dc_row3_col11\" class=\"data row3 col11\" >0.000000</td>\n    </tr>\n    <tr>\n      <th id=\"T_ec7dc_level0_row4\" class=\"row_heading level0 row4\" >25%</th>\n      <td id=\"T_ec7dc_row4_col0\" class=\"data row4 col0\" >59.250000</td>\n      <td id=\"T_ec7dc_row4_col1\" class=\"data row4 col1\" >422598.250000</td>\n      <td id=\"T_ec7dc_row4_col2\" class=\"data row4 col2\" >419738.500000</td>\n      <td id=\"T_ec7dc_row4_col3\" class=\"data row4 col3\" >415284.500000</td>\n      <td id=\"T_ec7dc_row4_col4\" class=\"data row4 col4\" >404676.000000</td>\n      <td id=\"T_ec7dc_row4_col5\" class=\"data row4 col5\" >393149.000000</td>\n      <td id=\"T_ec7dc_row4_col6\" class=\"data row4 col6\" >327242.000000</td>\n      <td id=\"T_ec7dc_row4_col7\" class=\"data row4 col7\" >264115.750000</td>\n      <td id=\"T_ec7dc_row4_col8\" class=\"data row4 col8\" >229614.250000</td>\n      <td id=\"T_ec7dc_row4_col9\" class=\"data row4 col9\" >155997.000000</td>\n      <td id=\"T_ec7dc_row4_col10\" class=\"data row4 col10\" >2650.000000</td>\n      <td id=\"T_ec7dc_row4_col11\" class=\"data row4 col11\" >39.500000</td>\n    </tr>\n    <tr>\n      <th id=\"T_ec7dc_level0_row5\" class=\"row_heading level0 row5\" >50%</th>\n      <td id=\"T_ec7dc_row5_col0\" class=\"data row5 col0\" >117.500000</td>\n      <td id=\"T_ec7dc_row5_col1\" class=\"data row5 col1\" >5643895.000000</td>\n      <td id=\"T_ec7dc_row5_col2\" class=\"data row5 col2\" >5559944.500000</td>\n      <td id=\"T_ec7dc_row5_col3\" class=\"data row5 col3\" >5493074.500000</td>\n      <td id=\"T_ec7dc_row5_col4\" class=\"data row5 col4\" >5307400.000000</td>\n      <td id=\"T_ec7dc_row5_col5\" class=\"data row5 col5\" >4942770.500000</td>\n      <td id=\"T_ec7dc_row5_col6\" class=\"data row5 col6\" >4292907.000000</td>\n      <td id=\"T_ec7dc_row5_col7\" class=\"data row5 col7\" >3825409.500000</td>\n      <td id=\"T_ec7dc_row5_col8\" class=\"data row5 col8\" >3141145.500000</td>\n      <td id=\"T_ec7dc_row5_col9\" class=\"data row5 col9\" >2604830.000000</td>\n      <td id=\"T_ec7dc_row5_col10\" class=\"data row5 col10\" >81199.500000</td>\n      <td id=\"T_ec7dc_row5_col11\" class=\"data row5 col11\" >97.500000</td>\n    </tr>\n    <tr>\n      <th id=\"T_ec7dc_level0_row6\" class=\"row_heading level0 row6\" >75%</th>\n      <td id=\"T_ec7dc_row6_col0\" class=\"data row6 col0\" >175.750000</td>\n      <td id=\"T_ec7dc_row6_col1\" class=\"data row6 col1\" >23245367.250000</td>\n      <td id=\"T_ec7dc_row6_col2\" class=\"data row6 col2\" >22476504.750000</td>\n      <td id=\"T_ec7dc_row6_col3\" class=\"data row6 col3\" >21447979.500000</td>\n      <td id=\"T_ec7dc_row6_col4\" class=\"data row6 col4\" >19730853.750000</td>\n      <td id=\"T_ec7dc_row6_col5\" class=\"data row6 col5\" >19159567.500000</td>\n      <td id=\"T_ec7dc_row6_col6\" class=\"data row6 col6\" >15762301.000000</td>\n      <td id=\"T_ec7dc_row6_col7\" class=\"data row6 col7\" >11869231.000000</td>\n      <td id=\"T_ec7dc_row6_col8\" class=\"data row6 col8\" >9826053.750000</td>\n      <td id=\"T_ec7dc_row6_col9\" class=\"data row6 col9\" >8817329.000000</td>\n      <td id=\"T_ec7dc_row6_col10\" class=\"data row6 col10\" >430425.750000</td>\n      <td id=\"T_ec7dc_row6_col11\" class=\"data row6 col11\" >242.750000</td>\n    </tr>\n    <tr>\n      <th id=\"T_ec7dc_level0_row7\" class=\"row_heading level0 row7\" >max</th>\n      <td id=\"T_ec7dc_row7_col0\" class=\"data row7 col0\" >234.000000</td>\n      <td id=\"T_ec7dc_row7_col1\" class=\"data row7 col1\" >1428627663.000000</td>\n      <td id=\"T_ec7dc_row7_col2\" class=\"data row7 col2\" >1425887337.000000</td>\n      <td id=\"T_ec7dc_row7_col3\" class=\"data row7 col3\" >1424929781.000000</td>\n      <td id=\"T_ec7dc_row7_col4\" class=\"data row7 col4\" >1393715448.000000</td>\n      <td id=\"T_ec7dc_row7_col5\" class=\"data row7 col5\" >1348191368.000000</td>\n      <td id=\"T_ec7dc_row7_col6\" class=\"data row7 col6\" >1264099069.000000</td>\n      <td id=\"T_ec7dc_row7_col7\" class=\"data row7 col7\" >1153704252.000000</td>\n      <td id=\"T_ec7dc_row7_col8\" class=\"data row7 col8\" >982372466.000000</td>\n      <td id=\"T_ec7dc_row7_col9\" class=\"data row7 col9\" >822534450.000000</td>\n      <td id=\"T_ec7dc_row7_col10\" class=\"data row7 col10\" >17098242.000000</td>\n      <td id=\"T_ec7dc_row7_col11\" class=\"data row7 col11\" >21403.000000</td>\n    </tr>\n  </tbody>\n</table>\n"
          },
          "metadata": {}
        }
      ],
      "execution_count": null
    },
    {
      "cell_type": "code",
      "source": [
        "df.head(10).style.set_properties(**{\"background-color\": \"#32a895\", \"color\": \"white\", \"border\": \"2 px solid black\"})\n",
        "#This prints the top 10 highest population nations currently"
      ],
      "metadata": {
        "execution": {
          "iopub.status.busy": "2024-11-28T19:56:52.750323Z",
          "iopub.execute_input": "2024-11-28T19:56:52.75083Z",
          "iopub.status.idle": "2024-11-28T19:56:52.771594Z",
          "shell.execute_reply.started": "2024-11-28T19:56:52.750777Z",
          "shell.execute_reply": "2024-11-28T19:56:52.769846Z"
        },
        "trusted": true,
        "id": "tOnI6V15Zi-Z",
        "outputId": "3c25e914-eff3-46e5-ac38-1627f2bf0ad3"
      },
      "outputs": [
        {
          "execution_count": 119,
          "output_type": "execute_result",
          "data": {
            "text/plain": "<pandas.io.formats.style.Styler at 0x79a4d150d690>",
            "text/html": "<style type=\"text/css\">\n#T_b12f4_row0_col0, #T_b12f4_row0_col1, #T_b12f4_row0_col2, #T_b12f4_row0_col3, #T_b12f4_row0_col4, #T_b12f4_row0_col5, #T_b12f4_row0_col6, #T_b12f4_row0_col7, #T_b12f4_row0_col8, #T_b12f4_row0_col9, #T_b12f4_row0_col10, #T_b12f4_row0_col11, #T_b12f4_row0_col12, #T_b12f4_row0_col13, #T_b12f4_row0_col14, #T_b12f4_row0_col15, #T_b12f4_row0_col16, #T_b12f4_row1_col0, #T_b12f4_row1_col1, #T_b12f4_row1_col2, #T_b12f4_row1_col3, #T_b12f4_row1_col4, #T_b12f4_row1_col5, #T_b12f4_row1_col6, #T_b12f4_row1_col7, #T_b12f4_row1_col8, #T_b12f4_row1_col9, #T_b12f4_row1_col10, #T_b12f4_row1_col11, #T_b12f4_row1_col12, #T_b12f4_row1_col13, #T_b12f4_row1_col14, #T_b12f4_row1_col15, #T_b12f4_row1_col16, #T_b12f4_row2_col0, #T_b12f4_row2_col1, #T_b12f4_row2_col2, #T_b12f4_row2_col3, #T_b12f4_row2_col4, #T_b12f4_row2_col5, #T_b12f4_row2_col6, #T_b12f4_row2_col7, #T_b12f4_row2_col8, #T_b12f4_row2_col9, #T_b12f4_row2_col10, #T_b12f4_row2_col11, #T_b12f4_row2_col12, #T_b12f4_row2_col13, #T_b12f4_row2_col14, #T_b12f4_row2_col15, #T_b12f4_row2_col16, #T_b12f4_row3_col0, #T_b12f4_row3_col1, #T_b12f4_row3_col2, #T_b12f4_row3_col3, #T_b12f4_row3_col4, #T_b12f4_row3_col5, #T_b12f4_row3_col6, #T_b12f4_row3_col7, #T_b12f4_row3_col8, #T_b12f4_row3_col9, #T_b12f4_row3_col10, #T_b12f4_row3_col11, #T_b12f4_row3_col12, #T_b12f4_row3_col13, #T_b12f4_row3_col14, #T_b12f4_row3_col15, #T_b12f4_row3_col16, #T_b12f4_row4_col0, #T_b12f4_row4_col1, #T_b12f4_row4_col2, #T_b12f4_row4_col3, #T_b12f4_row4_col4, #T_b12f4_row4_col5, #T_b12f4_row4_col6, #T_b12f4_row4_col7, #T_b12f4_row4_col8, #T_b12f4_row4_col9, #T_b12f4_row4_col10, #T_b12f4_row4_col11, #T_b12f4_row4_col12, #T_b12f4_row4_col13, #T_b12f4_row4_col14, #T_b12f4_row4_col15, #T_b12f4_row4_col16, #T_b12f4_row5_col0, #T_b12f4_row5_col1, #T_b12f4_row5_col2, #T_b12f4_row5_col3, #T_b12f4_row5_col4, #T_b12f4_row5_col5, #T_b12f4_row5_col6, #T_b12f4_row5_col7, #T_b12f4_row5_col8, #T_b12f4_row5_col9, #T_b12f4_row5_col10, #T_b12f4_row5_col11, #T_b12f4_row5_col12, #T_b12f4_row5_col13, #T_b12f4_row5_col14, #T_b12f4_row5_col15, #T_b12f4_row5_col16, #T_b12f4_row6_col0, #T_b12f4_row6_col1, #T_b12f4_row6_col2, #T_b12f4_row6_col3, #T_b12f4_row6_col4, #T_b12f4_row6_col5, #T_b12f4_row6_col6, #T_b12f4_row6_col7, #T_b12f4_row6_col8, #T_b12f4_row6_col9, #T_b12f4_row6_col10, #T_b12f4_row6_col11, #T_b12f4_row6_col12, #T_b12f4_row6_col13, #T_b12f4_row6_col14, #T_b12f4_row6_col15, #T_b12f4_row6_col16, #T_b12f4_row7_col0, #T_b12f4_row7_col1, #T_b12f4_row7_col2, #T_b12f4_row7_col3, #T_b12f4_row7_col4, #T_b12f4_row7_col5, #T_b12f4_row7_col6, #T_b12f4_row7_col7, #T_b12f4_row7_col8, #T_b12f4_row7_col9, #T_b12f4_row7_col10, #T_b12f4_row7_col11, #T_b12f4_row7_col12, #T_b12f4_row7_col13, #T_b12f4_row7_col14, #T_b12f4_row7_col15, #T_b12f4_row7_col16, #T_b12f4_row8_col0, #T_b12f4_row8_col1, #T_b12f4_row8_col2, #T_b12f4_row8_col3, #T_b12f4_row8_col4, #T_b12f4_row8_col5, #T_b12f4_row8_col6, #T_b12f4_row8_col7, #T_b12f4_row8_col8, #T_b12f4_row8_col9, #T_b12f4_row8_col10, #T_b12f4_row8_col11, #T_b12f4_row8_col12, #T_b12f4_row8_col13, #T_b12f4_row8_col14, #T_b12f4_row8_col15, #T_b12f4_row8_col16, #T_b12f4_row9_col0, #T_b12f4_row9_col1, #T_b12f4_row9_col2, #T_b12f4_row9_col3, #T_b12f4_row9_col4, #T_b12f4_row9_col5, #T_b12f4_row9_col6, #T_b12f4_row9_col7, #T_b12f4_row9_col8, #T_b12f4_row9_col9, #T_b12f4_row9_col10, #T_b12f4_row9_col11, #T_b12f4_row9_col12, #T_b12f4_row9_col13, #T_b12f4_row9_col14, #T_b12f4_row9_col15, #T_b12f4_row9_col16 {\n  background-color: #32a895;\n  color: white;\n  border: 2 px solid black;\n}\n</style>\n<table id=\"T_b12f4\">\n  <thead>\n    <tr>\n      <th class=\"blank level0\" >&nbsp;</th>\n      <th id=\"T_b12f4_level0_col0\" class=\"col_heading level0 col0\" >rank</th>\n      <th id=\"T_b12f4_level0_col1\" class=\"col_heading level0 col1\" >cca3</th>\n      <th id=\"T_b12f4_level0_col2\" class=\"col_heading level0 col2\" >country</th>\n      <th id=\"T_b12f4_level0_col3\" class=\"col_heading level0 col3\" >continent</th>\n      <th id=\"T_b12f4_level0_col4\" class=\"col_heading level0 col4\" >2023 population</th>\n      <th id=\"T_b12f4_level0_col5\" class=\"col_heading level0 col5\" >2022 population</th>\n      <th id=\"T_b12f4_level0_col6\" class=\"col_heading level0 col6\" >2020 population</th>\n      <th id=\"T_b12f4_level0_col7\" class=\"col_heading level0 col7\" >2015 population</th>\n      <th id=\"T_b12f4_level0_col8\" class=\"col_heading level0 col8\" >2010 population</th>\n      <th id=\"T_b12f4_level0_col9\" class=\"col_heading level0 col9\" >2000 population</th>\n      <th id=\"T_b12f4_level0_col10\" class=\"col_heading level0 col10\" >1990 population</th>\n      <th id=\"T_b12f4_level0_col11\" class=\"col_heading level0 col11\" >1980 population</th>\n      <th id=\"T_b12f4_level0_col12\" class=\"col_heading level0 col12\" >1970 population</th>\n      <th id=\"T_b12f4_level0_col13\" class=\"col_heading level0 col13\" >area (km²)</th>\n      <th id=\"T_b12f4_level0_col14\" class=\"col_heading level0 col14\" >density (km²)</th>\n      <th id=\"T_b12f4_level0_col15\" class=\"col_heading level0 col15\" >growth rate</th>\n      <th id=\"T_b12f4_level0_col16\" class=\"col_heading level0 col16\" >world percentage</th>\n    </tr>\n  </thead>\n  <tbody>\n    <tr>\n      <th id=\"T_b12f4_level0_row0\" class=\"row_heading level0 row0\" >0</th>\n      <td id=\"T_b12f4_row0_col0\" class=\"data row0 col0\" >1</td>\n      <td id=\"T_b12f4_row0_col1\" class=\"data row0 col1\" >IND</td>\n      <td id=\"T_b12f4_row0_col2\" class=\"data row0 col2\" >India</td>\n      <td id=\"T_b12f4_row0_col3\" class=\"data row0 col3\" >Asia</td>\n      <td id=\"T_b12f4_row0_col4\" class=\"data row0 col4\" >1428627663</td>\n      <td id=\"T_b12f4_row0_col5\" class=\"data row0 col5\" >1417173173</td>\n      <td id=\"T_b12f4_row0_col6\" class=\"data row0 col6\" >1396387127</td>\n      <td id=\"T_b12f4_row0_col7\" class=\"data row0 col7\" >1322866505</td>\n      <td id=\"T_b12f4_row0_col8\" class=\"data row0 col8\" >1240613620</td>\n      <td id=\"T_b12f4_row0_col9\" class=\"data row0 col9\" >1059633675</td>\n      <td id=\"T_b12f4_row0_col10\" class=\"data row0 col10\" >870452165</td>\n      <td id=\"T_b12f4_row0_col11\" class=\"data row0 col11\" >696828385</td>\n      <td id=\"T_b12f4_row0_col12\" class=\"data row0 col12\" >557501301</td>\n      <td id=\"T_b12f4_row0_col13\" class=\"data row0 col13\" >3287590.000000</td>\n      <td id=\"T_b12f4_row0_col14\" class=\"data row0 col14\" >481</td>\n      <td id=\"T_b12f4_row0_col15\" class=\"data row0 col15\" >0.81%</td>\n      <td id=\"T_b12f4_row0_col16\" class=\"data row0 col16\" >17.85%</td>\n    </tr>\n    <tr>\n      <th id=\"T_b12f4_level0_row1\" class=\"row_heading level0 row1\" >1</th>\n      <td id=\"T_b12f4_row1_col0\" class=\"data row1 col0\" >2</td>\n      <td id=\"T_b12f4_row1_col1\" class=\"data row1 col1\" >CHN</td>\n      <td id=\"T_b12f4_row1_col2\" class=\"data row1 col2\" >China</td>\n      <td id=\"T_b12f4_row1_col3\" class=\"data row1 col3\" >Asia</td>\n      <td id=\"T_b12f4_row1_col4\" class=\"data row1 col4\" >1425671352</td>\n      <td id=\"T_b12f4_row1_col5\" class=\"data row1 col5\" >1425887337</td>\n      <td id=\"T_b12f4_row1_col6\" class=\"data row1 col6\" >1424929781</td>\n      <td id=\"T_b12f4_row1_col7\" class=\"data row1 col7\" >1393715448</td>\n      <td id=\"T_b12f4_row1_col8\" class=\"data row1 col8\" >1348191368</td>\n      <td id=\"T_b12f4_row1_col9\" class=\"data row1 col9\" >1264099069</td>\n      <td id=\"T_b12f4_row1_col10\" class=\"data row1 col10\" >1153704252</td>\n      <td id=\"T_b12f4_row1_col11\" class=\"data row1 col11\" >982372466</td>\n      <td id=\"T_b12f4_row1_col12\" class=\"data row1 col12\" >822534450</td>\n      <td id=\"T_b12f4_row1_col13\" class=\"data row1 col13\" >9706961.000000</td>\n      <td id=\"T_b12f4_row1_col14\" class=\"data row1 col14\" >151</td>\n      <td id=\"T_b12f4_row1_col15\" class=\"data row1 col15\" >-0.02%</td>\n      <td id=\"T_b12f4_row1_col16\" class=\"data row1 col16\" >17.81%</td>\n    </tr>\n    <tr>\n      <th id=\"T_b12f4_level0_row2\" class=\"row_heading level0 row2\" >2</th>\n      <td id=\"T_b12f4_row2_col0\" class=\"data row2 col0\" >3</td>\n      <td id=\"T_b12f4_row2_col1\" class=\"data row2 col1\" >USA</td>\n      <td id=\"T_b12f4_row2_col2\" class=\"data row2 col2\" >United States</td>\n      <td id=\"T_b12f4_row2_col3\" class=\"data row2 col3\" >North America</td>\n      <td id=\"T_b12f4_row2_col4\" class=\"data row2 col4\" >339996563</td>\n      <td id=\"T_b12f4_row2_col5\" class=\"data row2 col5\" >338289857</td>\n      <td id=\"T_b12f4_row2_col6\" class=\"data row2 col6\" >335942003</td>\n      <td id=\"T_b12f4_row2_col7\" class=\"data row2 col7\" >324607776</td>\n      <td id=\"T_b12f4_row2_col8\" class=\"data row2 col8\" >311182845</td>\n      <td id=\"T_b12f4_row2_col9\" class=\"data row2 col9\" >282398554</td>\n      <td id=\"T_b12f4_row2_col10\" class=\"data row2 col10\" >248083732</td>\n      <td id=\"T_b12f4_row2_col11\" class=\"data row2 col11\" >223140018</td>\n      <td id=\"T_b12f4_row2_col12\" class=\"data row2 col12\" >200328340</td>\n      <td id=\"T_b12f4_row2_col13\" class=\"data row2 col13\" >9372610.000000</td>\n      <td id=\"T_b12f4_row2_col14\" class=\"data row2 col14\" >37</td>\n      <td id=\"T_b12f4_row2_col15\" class=\"data row2 col15\" >0.50%</td>\n      <td id=\"T_b12f4_row2_col16\" class=\"data row2 col16\" >4.25%</td>\n    </tr>\n    <tr>\n      <th id=\"T_b12f4_level0_row3\" class=\"row_heading level0 row3\" >3</th>\n      <td id=\"T_b12f4_row3_col0\" class=\"data row3 col0\" >4</td>\n      <td id=\"T_b12f4_row3_col1\" class=\"data row3 col1\" >IDN</td>\n      <td id=\"T_b12f4_row3_col2\" class=\"data row3 col2\" >Indonesia</td>\n      <td id=\"T_b12f4_row3_col3\" class=\"data row3 col3\" >Asia</td>\n      <td id=\"T_b12f4_row3_col4\" class=\"data row3 col4\" >277534122</td>\n      <td id=\"T_b12f4_row3_col5\" class=\"data row3 col5\" >275501339</td>\n      <td id=\"T_b12f4_row3_col6\" class=\"data row3 col6\" >271857970</td>\n      <td id=\"T_b12f4_row3_col7\" class=\"data row3 col7\" >259091970</td>\n      <td id=\"T_b12f4_row3_col8\" class=\"data row3 col8\" >244016173</td>\n      <td id=\"T_b12f4_row3_col9\" class=\"data row3 col9\" >214072421</td>\n      <td id=\"T_b12f4_row3_col10\" class=\"data row3 col10\" >182159874</td>\n      <td id=\"T_b12f4_row3_col11\" class=\"data row3 col11\" >148177096</td>\n      <td id=\"T_b12f4_row3_col12\" class=\"data row3 col12\" >115228394</td>\n      <td id=\"T_b12f4_row3_col13\" class=\"data row3 col13\" >1904569.000000</td>\n      <td id=\"T_b12f4_row3_col14\" class=\"data row3 col14\" >148</td>\n      <td id=\"T_b12f4_row3_col15\" class=\"data row3 col15\" >0.74%</td>\n      <td id=\"T_b12f4_row3_col16\" class=\"data row3 col16\" >3.47%</td>\n    </tr>\n    <tr>\n      <th id=\"T_b12f4_level0_row4\" class=\"row_heading level0 row4\" >4</th>\n      <td id=\"T_b12f4_row4_col0\" class=\"data row4 col0\" >5</td>\n      <td id=\"T_b12f4_row4_col1\" class=\"data row4 col1\" >PAK</td>\n      <td id=\"T_b12f4_row4_col2\" class=\"data row4 col2\" >Pakistan</td>\n      <td id=\"T_b12f4_row4_col3\" class=\"data row4 col3\" >Asia</td>\n      <td id=\"T_b12f4_row4_col4\" class=\"data row4 col4\" >240485658</td>\n      <td id=\"T_b12f4_row4_col5\" class=\"data row4 col5\" >235824862</td>\n      <td id=\"T_b12f4_row4_col6\" class=\"data row4 col6\" >227196741</td>\n      <td id=\"T_b12f4_row4_col7\" class=\"data row4 col7\" >210969298</td>\n      <td id=\"T_b12f4_row4_col8\" class=\"data row4 col8\" >194454498</td>\n      <td id=\"T_b12f4_row4_col9\" class=\"data row4 col9\" >154369924</td>\n      <td id=\"T_b12f4_row4_col10\" class=\"data row4 col10\" >115414069</td>\n      <td id=\"T_b12f4_row4_col11\" class=\"data row4 col11\" >80624057</td>\n      <td id=\"T_b12f4_row4_col12\" class=\"data row4 col12\" >59290872</td>\n      <td id=\"T_b12f4_row4_col13\" class=\"data row4 col13\" >881912.000000</td>\n      <td id=\"T_b12f4_row4_col14\" class=\"data row4 col14\" >312</td>\n      <td id=\"T_b12f4_row4_col15\" class=\"data row4 col15\" >1.98%</td>\n      <td id=\"T_b12f4_row4_col16\" class=\"data row4 col16\" >3.00%</td>\n    </tr>\n    <tr>\n      <th id=\"T_b12f4_level0_row5\" class=\"row_heading level0 row5\" >5</th>\n      <td id=\"T_b12f4_row5_col0\" class=\"data row5 col0\" >6</td>\n      <td id=\"T_b12f4_row5_col1\" class=\"data row5 col1\" >NGA</td>\n      <td id=\"T_b12f4_row5_col2\" class=\"data row5 col2\" >Nigeria</td>\n      <td id=\"T_b12f4_row5_col3\" class=\"data row5 col3\" >Africa</td>\n      <td id=\"T_b12f4_row5_col4\" class=\"data row5 col4\" >223804632</td>\n      <td id=\"T_b12f4_row5_col5\" class=\"data row5 col5\" >218541212</td>\n      <td id=\"T_b12f4_row5_col6\" class=\"data row5 col6\" >208327405</td>\n      <td id=\"T_b12f4_row5_col7\" class=\"data row5 col7\" >183995785</td>\n      <td id=\"T_b12f4_row5_col8\" class=\"data row5 col8\" >160952853</td>\n      <td id=\"T_b12f4_row5_col9\" class=\"data row5 col9\" >122851984</td>\n      <td id=\"T_b12f4_row5_col10\" class=\"data row5 col10\" >95214257</td>\n      <td id=\"T_b12f4_row5_col11\" class=\"data row5 col11\" >72951439</td>\n      <td id=\"T_b12f4_row5_col12\" class=\"data row5 col12\" >55569264</td>\n      <td id=\"T_b12f4_row5_col13\" class=\"data row5 col13\" >923768.000000</td>\n      <td id=\"T_b12f4_row5_col14\" class=\"data row5 col14\" >246</td>\n      <td id=\"T_b12f4_row5_col15\" class=\"data row5 col15\" >2.41%</td>\n      <td id=\"T_b12f4_row5_col16\" class=\"data row5 col16\" >2.80%</td>\n    </tr>\n    <tr>\n      <th id=\"T_b12f4_level0_row6\" class=\"row_heading level0 row6\" >6</th>\n      <td id=\"T_b12f4_row6_col0\" class=\"data row6 col0\" >7</td>\n      <td id=\"T_b12f4_row6_col1\" class=\"data row6 col1\" >BRA</td>\n      <td id=\"T_b12f4_row6_col2\" class=\"data row6 col2\" >Brazil</td>\n      <td id=\"T_b12f4_row6_col3\" class=\"data row6 col3\" >South America</td>\n      <td id=\"T_b12f4_row6_col4\" class=\"data row6 col4\" >216422446</td>\n      <td id=\"T_b12f4_row6_col5\" class=\"data row6 col5\" >215313498</td>\n      <td id=\"T_b12f4_row6_col6\" class=\"data row6 col6\" >213196304</td>\n      <td id=\"T_b12f4_row6_col7\" class=\"data row6 col7\" >205188205</td>\n      <td id=\"T_b12f4_row6_col8\" class=\"data row6 col8\" >196353492</td>\n      <td id=\"T_b12f4_row6_col9\" class=\"data row6 col9\" >175873720</td>\n      <td id=\"T_b12f4_row6_col10\" class=\"data row6 col10\" >150706446</td>\n      <td id=\"T_b12f4_row6_col11\" class=\"data row6 col11\" >122288383</td>\n      <td id=\"T_b12f4_row6_col12\" class=\"data row6 col12\" >96369875</td>\n      <td id=\"T_b12f4_row6_col13\" class=\"data row6 col13\" >8515767.000000</td>\n      <td id=\"T_b12f4_row6_col14\" class=\"data row6 col14\" >26</td>\n      <td id=\"T_b12f4_row6_col15\" class=\"data row6 col15\" >0.52%</td>\n      <td id=\"T_b12f4_row6_col16\" class=\"data row6 col16\" >2.70%</td>\n    </tr>\n    <tr>\n      <th id=\"T_b12f4_level0_row7\" class=\"row_heading level0 row7\" >7</th>\n      <td id=\"T_b12f4_row7_col0\" class=\"data row7 col0\" >8</td>\n      <td id=\"T_b12f4_row7_col1\" class=\"data row7 col1\" >BGD</td>\n      <td id=\"T_b12f4_row7_col2\" class=\"data row7 col2\" >Bangladesh</td>\n      <td id=\"T_b12f4_row7_col3\" class=\"data row7 col3\" >Asia</td>\n      <td id=\"T_b12f4_row7_col4\" class=\"data row7 col4\" >172954319</td>\n      <td id=\"T_b12f4_row7_col5\" class=\"data row7 col5\" >171186372</td>\n      <td id=\"T_b12f4_row7_col6\" class=\"data row7 col6\" >167420951</td>\n      <td id=\"T_b12f4_row7_col7\" class=\"data row7 col7\" >157830000</td>\n      <td id=\"T_b12f4_row7_col8\" class=\"data row7 col8\" >148391139</td>\n      <td id=\"T_b12f4_row7_col9\" class=\"data row7 col9\" >129193327</td>\n      <td id=\"T_b12f4_row7_col10\" class=\"data row7 col10\" >107147651</td>\n      <td id=\"T_b12f4_row7_col11\" class=\"data row7 col11\" >83929765</td>\n      <td id=\"T_b12f4_row7_col12\" class=\"data row7 col12\" >67541860</td>\n      <td id=\"T_b12f4_row7_col13\" class=\"data row7 col13\" >147570.000000</td>\n      <td id=\"T_b12f4_row7_col14\" class=\"data row7 col14\" >1329</td>\n      <td id=\"T_b12f4_row7_col15\" class=\"data row7 col15\" >1.03%</td>\n      <td id=\"T_b12f4_row7_col16\" class=\"data row7 col16\" >2.16%</td>\n    </tr>\n    <tr>\n      <th id=\"T_b12f4_level0_row8\" class=\"row_heading level0 row8\" >8</th>\n      <td id=\"T_b12f4_row8_col0\" class=\"data row8 col0\" >9</td>\n      <td id=\"T_b12f4_row8_col1\" class=\"data row8 col1\" >RUS</td>\n      <td id=\"T_b12f4_row8_col2\" class=\"data row8 col2\" >Russia</td>\n      <td id=\"T_b12f4_row8_col3\" class=\"data row8 col3\" >Europe</td>\n      <td id=\"T_b12f4_row8_col4\" class=\"data row8 col4\" >144444359</td>\n      <td id=\"T_b12f4_row8_col5\" class=\"data row8 col5\" >144713314</td>\n      <td id=\"T_b12f4_row8_col6\" class=\"data row8 col6\" >145617329</td>\n      <td id=\"T_b12f4_row8_col7\" class=\"data row8 col7\" >144668389</td>\n      <td id=\"T_b12f4_row8_col8\" class=\"data row8 col8\" >143242599</td>\n      <td id=\"T_b12f4_row8_col9\" class=\"data row8 col9\" >146844839</td>\n      <td id=\"T_b12f4_row8_col10\" class=\"data row8 col10\" >148005704</td>\n      <td id=\"T_b12f4_row8_col11\" class=\"data row8 col11\" >138257420</td>\n      <td id=\"T_b12f4_row8_col12\" class=\"data row8 col12\" >130093010</td>\n      <td id=\"T_b12f4_row8_col13\" class=\"data row8 col13\" >17098242.000000</td>\n      <td id=\"T_b12f4_row8_col14\" class=\"data row8 col14\" >9</td>\n      <td id=\"T_b12f4_row8_col15\" class=\"data row8 col15\" >-0.19%</td>\n      <td id=\"T_b12f4_row8_col16\" class=\"data row8 col16\" >1.80%</td>\n    </tr>\n    <tr>\n      <th id=\"T_b12f4_level0_row9\" class=\"row_heading level0 row9\" >9</th>\n      <td id=\"T_b12f4_row9_col0\" class=\"data row9 col0\" >10</td>\n      <td id=\"T_b12f4_row9_col1\" class=\"data row9 col1\" >MEX</td>\n      <td id=\"T_b12f4_row9_col2\" class=\"data row9 col2\" >Mexico</td>\n      <td id=\"T_b12f4_row9_col3\" class=\"data row9 col3\" >North America</td>\n      <td id=\"T_b12f4_row9_col4\" class=\"data row9 col4\" >128455567</td>\n      <td id=\"T_b12f4_row9_col5\" class=\"data row9 col5\" >127504125</td>\n      <td id=\"T_b12f4_row9_col6\" class=\"data row9 col6\" >125998302</td>\n      <td id=\"T_b12f4_row9_col7\" class=\"data row9 col7\" >120149897</td>\n      <td id=\"T_b12f4_row9_col8\" class=\"data row9 col8\" >112532401</td>\n      <td id=\"T_b12f4_row9_col9\" class=\"data row9 col9\" >97873442</td>\n      <td id=\"T_b12f4_row9_col10\" class=\"data row9 col10\" >81720428</td>\n      <td id=\"T_b12f4_row9_col11\" class=\"data row9 col11\" >67705186</td>\n      <td id=\"T_b12f4_row9_col12\" class=\"data row9 col12\" >50289306</td>\n      <td id=\"T_b12f4_row9_col13\" class=\"data row9 col13\" >1964375.000000</td>\n      <td id=\"T_b12f4_row9_col14\" class=\"data row9 col14\" >66</td>\n      <td id=\"T_b12f4_row9_col15\" class=\"data row9 col15\" >0.75%</td>\n      <td id=\"T_b12f4_row9_col16\" class=\"data row9 col16\" >1.60%</td>\n    </tr>\n  </tbody>\n</table>\n"
          },
          "metadata": {}
        }
      ],
      "execution_count": null
    },
    {
      "cell_type": "code",
      "source": [
        "\n",
        "print(\"Shape: \")\n",
        "df.shape #The shape shows that\n",
        "#there are 234 countries and 17 different categories to sort them\n",
        "\n",
        "df.info() #Gives better explaination for the categories"
      ],
      "metadata": {
        "execution": {
          "iopub.status.busy": "2024-11-28T19:56:52.773407Z",
          "iopub.execute_input": "2024-11-28T19:56:52.774652Z",
          "iopub.status.idle": "2024-11-28T19:56:52.788488Z",
          "shell.execute_reply.started": "2024-11-28T19:56:52.774598Z",
          "shell.execute_reply": "2024-11-28T19:56:52.787474Z"
        },
        "trusted": true,
        "id": "1lcx8v3zZi-Z",
        "outputId": "2db7b039-3eff-4944-97ff-50364fcada96"
      },
      "outputs": [
        {
          "name": "stdout",
          "text": "Shape: \n<class 'pandas.core.frame.DataFrame'>\nRangeIndex: 234 entries, 0 to 233\nData columns (total 17 columns):\n #   Column            Non-Null Count  Dtype  \n---  ------            --------------  -----  \n 0   rank              234 non-null    int64  \n 1   cca3              234 non-null    object \n 2   country           234 non-null    object \n 3   continent         234 non-null    object \n 4   2023 population   234 non-null    int64  \n 5   2022 population   234 non-null    int64  \n 6   2020 population   234 non-null    int64  \n 7   2015 population   234 non-null    int64  \n 8   2010 population   234 non-null    int64  \n 9   2000 population   234 non-null    int64  \n 10  1990 population   234 non-null    int64  \n 11  1980 population   234 non-null    int64  \n 12  1970 population   234 non-null    int64  \n 13  area (km²)        234 non-null    float64\n 14  density (km²)     234 non-null    int64  \n 15  growth rate       234 non-null    object \n 16  world percentage  234 non-null    object \ndtypes: float64(1), int64(11), object(5)\nmemory usage: 31.2+ KB\n",
          "output_type": "stream"
        }
      ],
      "execution_count": null
    },
    {
      "cell_type": "code",
      "source": [
        "# Looking for duplicate values\n",
        "print(f'There are {df.duplicated().sum()} duplicate values.')"
      ],
      "metadata": {
        "execution": {
          "iopub.status.busy": "2024-11-28T19:56:52.789826Z",
          "iopub.execute_input": "2024-11-28T19:56:52.790255Z",
          "iopub.status.idle": "2024-11-28T19:56:52.804625Z",
          "shell.execute_reply.started": "2024-11-28T19:56:52.790221Z",
          "shell.execute_reply": "2024-11-28T19:56:52.803445Z"
        },
        "trusted": true,
        "id": "hjmwHgxvZi-Z",
        "outputId": "c90cf088-075d-4547-c262-a3b714a6633e"
      },
      "outputs": [
        {
          "name": "stdout",
          "text": "There are 0 duplicate values.\n",
          "output_type": "stream"
        }
      ],
      "execution_count": null
    },
    {
      "cell_type": "code",
      "source": [
        "# nunique() checks for all unique values in each of the 17 categories\n",
        "df.nunique().to_frame().T #Other two functions are for styling choices"
      ],
      "metadata": {
        "execution": {
          "iopub.status.busy": "2024-11-28T19:56:52.805997Z",
          "iopub.execute_input": "2024-11-28T19:56:52.806365Z",
          "iopub.status.idle": "2024-11-28T19:56:52.831251Z",
          "shell.execute_reply.started": "2024-11-28T19:56:52.80633Z",
          "shell.execute_reply": "2024-11-28T19:56:52.830262Z"
        },
        "trusted": true,
        "id": "5dDBE0LhZi-Z",
        "outputId": "0e6e240d-9e2b-446b-9dd0-a0da548b7dd9"
      },
      "outputs": [
        {
          "execution_count": 122,
          "output_type": "execute_result",
          "data": {
            "text/plain": "   rank  cca3  country  continent  2023 population  2022 population  \\\n0   234   234      234          6              234              234   \n\n   2020 population  2015 population  2010 population  2000 population  \\\n0              234              234              234              234   \n\n   1990 population  1980 population  1970 population  area (km²)  \\\n0              234              234              234         232   \n\n   density (km²)  growth rate  world percentage  \n0            167          176                73  ",
            "text/html": "<div>\n<style scoped>\n    .dataframe tbody tr th:only-of-type {\n        vertical-align: middle;\n    }\n\n    .dataframe tbody tr th {\n        vertical-align: top;\n    }\n\n    .dataframe thead th {\n        text-align: right;\n    }\n</style>\n<table border=\"1\" class=\"dataframe\">\n  <thead>\n    <tr style=\"text-align: right;\">\n      <th></th>\n      <th>rank</th>\n      <th>cca3</th>\n      <th>country</th>\n      <th>continent</th>\n      <th>2023 population</th>\n      <th>2022 population</th>\n      <th>2020 population</th>\n      <th>2015 population</th>\n      <th>2010 population</th>\n      <th>2000 population</th>\n      <th>1990 population</th>\n      <th>1980 population</th>\n      <th>1970 population</th>\n      <th>area (km²)</th>\n      <th>density (km²)</th>\n      <th>growth rate</th>\n      <th>world percentage</th>\n    </tr>\n  </thead>\n  <tbody>\n    <tr>\n      <th>0</th>\n      <td>234</td>\n      <td>234</td>\n      <td>234</td>\n      <td>6</td>\n      <td>234</td>\n      <td>234</td>\n      <td>234</td>\n      <td>234</td>\n      <td>234</td>\n      <td>234</td>\n      <td>234</td>\n      <td>234</td>\n      <td>234</td>\n      <td>232</td>\n      <td>167</td>\n      <td>176</td>\n      <td>73</td>\n    </tr>\n  </tbody>\n</table>\n</div>"
          },
          "metadata": {}
        }
      ],
      "execution_count": null
    },
    {
      "cell_type": "markdown",
      "source": [
        "# Box Plot of Each Category"
      ],
      "metadata": {
        "id": "zl8jhSqKZi-Z"
      }
    },
    {
      "cell_type": "code",
      "source": [
        "palette = \"tab20c\"\n",
        "df.boxplot(figsize=(10,5))\n",
        "plt.xticks(rotation=45, ha=\"right\")"
      ],
      "metadata": {
        "trusted": true,
        "execution": {
          "iopub.status.busy": "2024-11-28T19:56:52.833283Z",
          "iopub.execute_input": "2024-11-28T19:56:52.833627Z",
          "iopub.status.idle": "2024-11-28T19:56:53.223286Z",
          "shell.execute_reply.started": "2024-11-28T19:56:52.833593Z",
          "shell.execute_reply": "2024-11-28T19:56:53.222039Z"
        },
        "id": "du1xX9bhZi-Z",
        "outputId": "18acbd15-fe0f-4d97-bbe5-437b617db8e0"
      },
      "outputs": [
        {
          "execution_count": 123,
          "output_type": "execute_result",
          "data": {
            "text/plain": "(array([ 1,  2,  3,  4,  5,  6,  7,  8,  9, 10, 11, 12]),\n [Text(1, 0, 'rank'),\n  Text(2, 0, '2023 population'),\n  Text(3, 0, '2022 population'),\n  Text(4, 0, '2020 population'),\n  Text(5, 0, '2015 population'),\n  Text(6, 0, '2010 population'),\n  Text(7, 0, '2000 population'),\n  Text(8, 0, '1990 population'),\n  Text(9, 0, '1980 population'),\n  Text(10, 0, '1970 population'),\n  Text(11, 0, 'area (km²)'),\n  Text(12, 0, 'density (km²)')])"
          },
          "metadata": {}
        },
        {
          "output_type": "display_data",
          "data": {
            "text/plain": "<Figure size 1000x500 with 1 Axes>",
            "image/png": "[encoded data removed]"
          },
          "metadata": {}
        }
      ],
      "execution_count": null
    },
    {
      "cell_type": "markdown",
      "source": [
        "# **Creating First Population Maps**"
      ],
      "metadata": {
        "id": "D4yUGMueZi-Z"
      }
    },
    {
      "cell_type": "code",
      "source": [
        "##Picking color for the map\n",
        "palette = \"mako\"\n",
        "\n",
        "plt.figure(figsize=(10,5))\n",
        "\n",
        "ax = sns.countplot(x='continent', data=df, order=df['continent']\n",
        "                   .value_counts().index, palette=palette)\n",
        "\n",
        "# Display values on top of the bars\n",
        "for p in ax.patches:\n",
        "    ax.annotate(f'{p.get_height()}', (p.get_x() + p.get_width() / 2., p.get_height()), ha='center', va='center', xytext=(0, 10), textcoords='offset points')\n",
        "\n",
        "# Title and labels\n",
        "plt.title('Distribution of Countries by Continent', fontsize=16)\n",
        "plt.xlabel('Continent', fontsize=14)\n",
        "plt.ylabel('Number of Countries', fontsize=14)\n",
        "\n",
        "# Rotate x-axis labels for better readability\n",
        "plt.xticks(rotation=45, ha=\"right\")\n",
        "\n",
        "# Remove grid lines\n",
        "ax.yaxis.grid(False)\n",
        "\n",
        "# Show the plot\n",
        "plt.show()\n",
        "\n"
      ],
      "metadata": {
        "trusted": true,
        "execution": {
          "iopub.status.busy": "2024-11-28T19:56:53.22498Z",
          "iopub.execute_input": "2024-11-28T19:56:53.22544Z",
          "iopub.status.idle": "2024-11-28T19:56:53.508321Z",
          "shell.execute_reply.started": "2024-11-28T19:56:53.22539Z",
          "shell.execute_reply": "2024-11-28T19:56:53.50709Z"
        },
        "id": "x4eGuIkbZi-Z",
        "outputId": "bdb9a1be-335b-4fe3-9d8e-ece9b5a71f54"
      },
      "outputs": [
        {
          "output_type": "display_data",
          "data": {
            "text/plain": "<Figure size 1000x500 with 1 Axes>",
            "image/png": "[encoded data removed]"
          },
          "metadata": {}
        }
      ],
      "execution_count": null
    },
    {
      "cell_type": "markdown",
      "source": [
        "**World Population in 2023**"
      ],
      "metadata": {
        "id": "IFPQGPQBZi-Z"
      }
    },
    {
      "cell_type": "code",
      "source": [
        "##Picking color for the map\n",
        "palette = \"mako\"\n",
        "contPopulation = df.groupby('continent')['2023 population'].sum() / 1e6\n",
        "\n",
        "plt.figure(figsize=(10,5))\n",
        "\n",
        "sorted_continents = contPopulation.sort_values(ascending=False).index\n",
        "\n",
        "\n",
        "ax =sns.barplot(x=sorted_continents, y=contPopulation[sorted_continents], palette=palette)\n",
        "# Display values on top of the bars\n",
        "for p in ax.patches:\n",
        "    ax.annotate(f'{int(p.get_height())}M', (p.get_x() + p.get_width() / 2., p.get_height()), ha='center', va='center', xytext=(0, 10), textcoords='offset points')\n",
        "\n",
        "# Title and labels\n",
        "plt.title('World Population By Continent 2023', fontsize=16)\n",
        "plt.xlabel('Continent', fontsize=14)\n",
        "plt.ylabel('Population (millions)', fontsize=14)\n",
        "\n",
        "# Rotate x-axis labels for better readability\n",
        "plt.xticks(rotation=45, ha=\"right\")\n",
        "\n",
        "# Remove grid lines\n",
        "ax.yaxis.grid(False)\n",
        "\n",
        "# Show the plot\n",
        "plt.show()\n",
        "\n"
      ],
      "metadata": {
        "trusted": true,
        "execution": {
          "iopub.status.busy": "2024-11-28T19:56:53.509869Z",
          "iopub.execute_input": "2024-11-28T19:56:53.510323Z",
          "iopub.status.idle": "2024-11-28T19:56:53.793552Z",
          "shell.execute_reply.started": "2024-11-28T19:56:53.510276Z",
          "shell.execute_reply": "2024-11-28T19:56:53.792464Z"
        },
        "id": "Vm-pLYWoZi-Z",
        "outputId": "3c8b0bf5-5b19-48bb-9e66-e3286f378496"
      },
      "outputs": [
        {
          "output_type": "display_data",
          "data": {
            "text/plain": "<Figure size 1000x500 with 1 Axes>",
            "image/png": "[encoded data removed]"
          },
          "metadata": {}
        }
      ],
      "execution_count": null
    },
    {
      "cell_type": "markdown",
      "source": [
        "**World Population in 1990**"
      ],
      "metadata": {
        "id": "GCCTUNJPZi-Z"
      }
    },
    {
      "cell_type": "code",
      "source": [
        "\n",
        "palette = \"tab20c\"\n",
        "contPopulation = df.groupby('continent')['1990 population'].sum() / 1e6\n",
        "\n",
        "plt.figure(figsize=(10,5))\n",
        "\n",
        "sorted_continents = contPopulation.sort_values(ascending=False).index\n",
        "\n",
        "\n",
        "ax =sns.barplot(x=sorted_continents, y=contPopulation[sorted_continents], palette=palette)\n",
        "# Display values on top of the bars\n",
        "for p in ax.patches:\n",
        "    ax.annotate(f'{int(p.get_height())}M', (p.get_x() + p.get_width() / 2., p.get_height()), ha='center', va='center', xytext=(0, 10), textcoords='offset points')\n",
        "\n",
        "# Title and labels\n",
        "plt.title('World Population By Continent 1990', fontsize=16)\n",
        "plt.xlabel('Continent', fontsize=14)\n",
        "plt.ylabel('Population (millions)', fontsize=14)\n",
        "\n",
        "# Rotate x-axis labels for better readability\n",
        "plt.xticks(rotation=45, ha=\"right\")\n",
        "\n",
        "# Remove grid lines\n",
        "ax.yaxis.grid(False)\n",
        "\n",
        "# Show the plot\n",
        "plt.show()\n"
      ],
      "metadata": {
        "trusted": true,
        "execution": {
          "iopub.status.busy": "2024-11-28T19:56:53.795108Z",
          "iopub.execute_input": "2024-11-28T19:56:53.795552Z",
          "iopub.status.idle": "2024-11-28T19:56:54.04686Z",
          "shell.execute_reply.started": "2024-11-28T19:56:53.795502Z",
          "shell.execute_reply": "2024-11-28T19:56:54.045665Z"
        },
        "id": "ylnE8Vj7Zi-Z",
        "outputId": "c2a4cdcf-5121-4174-dbb0-a3474596987d"
      },
      "outputs": [
        {
          "output_type": "display_data",
          "data": {
            "text/plain": "<Figure size 1000x500 with 1 Axes>",
            "image/png": "[encoded data removed]"
          },
          "metadata": {}
        }
      ],
      "execution_count": null
    },
    {
      "cell_type": "code",
      "source": [
        "# Create a choropleth map for the world population\n",
        "fig = px.choropleth(df,\n",
        "                    locations='cca3',\n",
        "                    color='2023 population',\n",
        "                    hover_name='country',\n",
        "                    color_continuous_scale='YlGnBu',\n",
        "                    title='World Population Distribution',\n",
        "                    labels={'2023 population': 'Population'},\n",
        "                    height=800,\n",
        "                    width=1200)\n",
        "\n",
        "# Show the interactive map\n",
        "fig.show()"
      ],
      "metadata": {
        "trusted": true,
        "execution": {
          "iopub.status.busy": "2024-11-28T19:56:54.0482Z",
          "iopub.execute_input": "2024-11-28T19:56:54.048531Z",
          "iopub.status.idle": "2024-11-28T19:56:54.107337Z",
          "shell.execute_reply.started": "2024-11-28T19:56:54.048498Z",
          "shell.execute_reply": "2024-11-28T19:56:54.106289Z"
        },
        "id": "HgEIDSw0Zi-Z",
        "outputId": "98936aaa-da59-4761-f291-60e4ab7b664c"
      },
      "outputs": [
        {
          "output_type": "display_data",
          "data": {
            "application/vnd.plotly.v1+json": {
              "data": [
                {
                  "coloraxis": "coloraxis",
                  "geo": "geo",
                  "hovertemplate": "<b>%{hovertext}</b><br><br>cca3=%{location}<br>Population=%{z}<extra></extra>",
                  "hovertext": [
                    "India",
                    "China",
                    "United States",
                    "Indonesia",
                    "Pakistan",
                    "Nigeria",
                    "Brazil",
                    "Bangladesh",
                    "Russia",
                    "Mexico",
                    "Ethiopia",
                    "Japan",
                    "Philippines",
                    "Egypt",
                    "DR Congo",
                    "Vietnam",
                    "Iran",
                    "Turkey",
                    "Germany",
                    "Thailand",
                    "United Kingdom",
                    "Tanzania",
                    "France",
                    "South Africa",
                    "Italy",
                    "Kenya",
                    "Myanmar",
                    "Colombia",
                    "South Korea",
                    "Uganda",
                    "Sudan",
                    "Spain",
                    "Argentina",
                    "Algeria",
                    "Iraq",
                    "Afghanistan",
                    "Poland",
                    "Canada",
                    "Morocco",
                    "Saudi Arabia",
                    "Ukraine",
                    "Angola",
                    "Uzbekistan",
                    "Yemen",
                    "Peru",
                    "Malaysia",
                    "Ghana",
                    "Mozambique",
                    "Nepal",
                    "Madagascar",
                    "Ivory Coast",
                    "Venezuela",
                    "Cameroon",
                    "Niger",
                    "Australia",
                    "North Korea",
                    "Taiwan",
                    "Mali",
                    "Burkina Faso",
                    "Syria",
                    "Sri Lanka",
                    "Malawi",
                    "Zambia",
                    "Romania",
                    "Chile",
                    "Kazakhstan",
                    "Chad",
                    "Ecuador",
                    "Somalia",
                    "Guatemala",
                    "Senegal",
                    "Netherlands",
                    "Cambodia",
                    "Zimbabwe",
                    "Guinea",
                    "Rwanda",
                    "Benin",
                    "Burundi",
                    "Tunisia",
                    "Bolivia",
                    "Haiti",
                    "Belgium",
                    "Jordan",
                    "Dominican Republic",
                    "Cuba",
                    "South Sudan",
                    "Sweden",
                    "Honduras",
                    "Czech Republic",
                    "Azerbaijan",
                    "Greece",
                    "Papua New Guinea",
                    "Portugal",
                    "Hungary",
                    "Tajikistan",
                    "United Arab Emirates",
                    "Belarus",
                    "Israel",
                    "Togo",
                    "Austria",
                    "Switzerland",
                    "Sierra Leone",
                    "Laos",
                    "Hong Kong",
                    "Serbia",
                    "Nicaragua",
                    "Libya",
                    "Paraguay",
                    "Kyrgyzstan",
                    "Bulgaria",
                    "Turkmenistan",
                    "El Salvador",
                    "Republic of the Congo",
                    "Singapore",
                    "Denmark",
                    "Slovakia",
                    "Central African Republic",
                    "Finland",
                    "Norway",
                    "Liberia",
                    "Palestine",
                    "Lebanon",
                    "New Zealand",
                    "Costa Rica",
                    "Ireland",
                    "Mauritania",
                    "Oman",
                    "Panama",
                    "Kuwait",
                    "Croatia",
                    "Eritrea",
                    "Georgia",
                    "Mongolia",
                    "Moldova",
                    "Uruguay",
                    "Puerto Rico",
                    "Bosnia and Herzegovina",
                    "Albania",
                    "Jamaica",
                    "Armenia",
                    "Gambia",
                    "Lithuania",
                    "Qatar",
                    "Botswana",
                    "Namibia",
                    "Gabon",
                    "Lesotho",
                    "Guinea-Bissau",
                    "Slovenia",
                    "North Macedonia",
                    "Latvia",
                    "Equatorial Guinea",
                    "Trinidad and Tobago",
                    "Bahrain",
                    "Timor-Leste",
                    "Estonia",
                    "Mauritius",
                    "Cyprus",
                    "Eswatini",
                    "Djibouti",
                    "Reunion",
                    "Fiji",
                    "Comoros",
                    "Guyana",
                    "Bhutan",
                    "Solomon Islands",
                    "Macau",
                    "Luxembourg",
                    "Montenegro",
                    "Suriname",
                    "Cape Verde",
                    "Western Sahara",
                    "Malta",
                    "Maldives",
                    "Brunei",
                    "Bahamas",
                    "Belize",
                    "Guadeloupe",
                    "Iceland",
                    "Martinique",
                    "Mayotte",
                    "Vanuatu",
                    "French Guiana",
                    "French Polynesia",
                    "New Caledonia",
                    "Barbados",
                    "Sao Tome and Principe",
                    "Samoa",
                    "Curacao",
                    "Saint Lucia",
                    "Guam",
                    "Kiribati",
                    "Grenada",
                    "Micronesia",
                    "Jersey",
                    "Tonga",
                    "Seychelles",
                    "Aruba",
                    "Saint Vincent and the Grenadines",
                    "United States Virgin Islands",
                    "Antigua and Barbuda",
                    "Isle of Man",
                    "Andorra",
                    "Dominica",
                    "Cayman Islands",
                    "Bermuda",
                    "Guernsey",
                    "Greenland",
                    "Faroe Islands",
                    "Northern Mariana Islands",
                    "Saint Kitts and Nevis",
                    "Turks and Caicos Islands",
                    "Sint Maarten",
                    "American Samoa",
                    "Marshall Islands",
                    "Liechtenstein",
                    "Monaco",
                    "San Marino",
                    "Gibraltar",
                    "Saint Martin",
                    "British Virgin Islands",
                    "Palau",
                    "Cook Islands",
                    "Anguilla",
                    "Nauru",
                    "Wallis and Futuna",
                    "Tuvalu",
                    "Saint Barthelemy",
                    "Saint Pierre and Miquelon",
                    "Montserrat",
                    "Falkland Islands",
                    "Niue",
                    "Tokelau",
                    "Vatican City"
                  ],
                  "locations": [
                    "IND",
                    "CHN",
                    "USA",
                    "IDN",
                    "PAK",
                    "NGA",
                    "BRA",
                    "BGD",
                    "RUS",
                    "MEX",
                    "ETH",
                    "JPN",
                    "PHL",
                    "EGY",
                    "COD",
                    "VNM",
                    "IRN",
                    "TUR",
                    "DEU",
                    "THA",
                    "GBR",
                    "TZA",
                    "FRA",
                    "ZAF",
                    "ITA",
                    "KEN",
                    "MMR",
                    "COL",
                    "KOR",
                    "UGA",
                    "SDN",
                    "ESP",
                    "ARG",
                    "DZA",
                    "IRQ",
                    "AFG",
                    "POL",
                    "CAN",
                    "MAR",
                    "SAU",
                    "UKR",
                    "AGO",
                    "UZB",
                    "YEM",
                    "PER",
                    "MYS",
                    "GHA",
                    "MOZ",
                    "NPL",
                    "MDG",
                    "CIV",
                    "VEN",
                    "CMR",
                    "NER",
                    "AUS",
                    "PRK",
                    "TWN",
                    "MLI",
                    "BFA",
                    "SYR",
                    "LKA",
                    "MWI",
                    "ZMB",
                    "ROU",
                    "CHL",
                    "KAZ",
                    "TCD",
                    "ECU",
                    "SOM",
                    "GTM",
                    "SEN",
                    "NLD",
                    "KHM",
                    "ZWE",
                    "GIN",
                    "RWA",
                    "BEN",
                    "BDI",
                    "TUN",
                    "BOL",
                    "HTI",
                    "BEL",
                    "JOR",
                    "DOM",
                    "CUB",
                    "SSD",
                    "SWE",
                    "HND",
                    "CZE",
                    "AZE",
                    "GRC",
                    "PNG",
                    "PRT",
                    "HUN",
                    "TJK",
                    "ARE",
                    "BLR",
                    "ISR",
                    "TGO",
                    "AUT",
                    "CHE",
                    "SLE",
                    "LAO",
                    "HKG",
                    "SRB",
                    "NIC",
                    "LBY",
                    "PRY",
                    "KGZ",
                    "BGR",
                    "TKM",
                    "SLV",
                    "COG",
                    "SGP",
                    "DNK",
                    "SVK",
                    "CAF",
                    "FIN",
                    "NOR",
                    "LBR",
                    "PSE",
                    "LBN",
                    "NZL",
                    "CRI",
                    "IRL",
                    "MRT",
                    "OMN",
                    "PAN",
                    "KWT",
                    "HRV",
                    "ERI",
                    "GEO",
                    "MNG",
                    "MDA",
                    "URY",
                    "PRI",
                    "BIH",
                    "ALB",
                    "JAM",
                    "ARM",
                    "GMB",
                    "LTU",
                    "QAT",
                    "BWA",
                    "NAM",
                    "GAB",
                    "LSO",
                    "GNB",
                    "SVN",
                    "MKD",
                    "LVA",
                    "GNQ",
                    "TTO",
                    "BHR",
                    "TLS",
                    "EST",
                    "MUS",
                    "CYP",
                    "SWZ",
                    "DJI",
                    "REU",
                    "FJI",
                    "COM",
                    "GUY",
                    "BTN",
                    "SLB",
                    "MAC",
                    "LUX",
                    "MNE",
                    "SUR",
                    "CPV",
                    "ESH",
                    "MLT",
                    "MDV",
                    "BRN",
                    "BHS",
                    "BLZ",
                    "GLP",
                    "ISL",
                    "MTQ",
                    "MYT",
                    "VUT",
                    "GUF",
                    "PYF",
                    "NCL",
                    "BRB",
                    "STP",
                    "WSM",
                    "CUW",
                    "LCA",
                    "GUM",
                    "KIR",
                    "GRD",
                    "FSM",
                    "JEY",
                    "TON",
                    "SYC",
                    "ABW",
                    "VCT",
                    "VIR",
                    "ATG",
                    "IMN",
                    "AND",
                    "DMA",
                    "CYM",
                    "BMU",
                    "GGY",
                    "GRL",
                    "FRO",
                    "MNP",
                    "KNA",
                    "TCA",
                    "SXM",
                    "ASM",
                    "MHL",
                    "LIE",
                    "MCO",
                    "SMR",
                    "GIB",
                    "MAF",
                    "VGB",
                    "PLW",
                    "COK",
                    "AIA",
                    "NRU",
                    "WLF",
                    "TUV",
                    "BLM",
                    "SPM",
                    "MSR",
                    "FLK",
                    "NIU",
                    "TKL",
                    "VAT"
                  ],
                  "name": "",
                  "z": [
                    1428627663,
                    1425671352,
                    339996563,
                    277534122,
                    240485658,
                    223804632,
                    216422446,
                    172954319,
                    144444359,
                    128455567,
                    126527060,
                    123294513,
                    117337368,
                    112716598,
                    102262808,
                    98858950,
                    89172767,
                    85816199,
                    83294633,
                    71801279,
                    67736802,
                    67438106,
                    64756584,
                    60414495,
                    58870762,
                    55100586,
                    54577997,
                    52085168,
                    51784059,
                    48582334,
                    48109006,
                    47519628,
                    45773884,
                    45606480,
                    45504560,
                    42239854,
                    41026067,
                    38781291,
                    37840044,
                    36947025,
                    36744634,
                    36684202,
                    35163944,
                    34449825,
                    34352719,
                    34308525,
                    34121985,
                    33897354,
                    30896590,
                    30325732,
                    28873034,
                    28838499,
                    28647293,
                    27202843,
                    26439111,
                    26160821,
                    23923276,
                    23293698,
                    23251485,
                    23227014,
                    21893579,
                    20931751,
                    20569737,
                    19892812,
                    19629590,
                    19606633,
                    18278568,
                    18190484,
                    18143378,
                    18092026,
                    17763163,
                    17618299,
                    16944826,
                    16665409,
                    14190612,
                    14094683,
                    13712828,
                    13238559,
                    12458223,
                    12388571,
                    11724763,
                    11686140,
                    11337052,
                    11332972,
                    11194449,
                    11088796,
                    10612086,
                    10593798,
                    10495295,
                    10412651,
                    10341277,
                    10329931,
                    10247605,
                    10156239,
                    10143543,
                    9516871,
                    9498238,
                    9174520,
                    9053799,
                    8958960,
                    8796669,
                    8791092,
                    7633779,
                    7491609,
                    7149077,
                    7046310,
                    6888388,
                    6861524,
                    6735347,
                    6687717,
                    6516100,
                    6364943,
                    6106869,
                    6014723,
                    5910913,
                    5795199,
                    5742315,
                    5545475,
                    5474360,
                    5418377,
                    5371230,
                    5353930,
                    5228100,
                    5212173,
                    5056935,
                    4862989,
                    4644384,
                    4468087,
                    4310108,
                    4008617,
                    3748901,
                    3728282,
                    3447157,
                    3435931,
                    3423108,
                    3260314,
                    3210847,
                    2832439,
                    2825544,
                    2777970,
                    2773168,
                    2718352,
                    2716391,
                    2675352,
                    2604172,
                    2436566,
                    2330318,
                    2150842,
                    2119675,
                    2085679,
                    1830211,
                    1714671,
                    1534937,
                    1485509,
                    1360596,
                    1322765,
                    1300557,
                    1260138,
                    1210822,
                    1136455,
                    981796,
                    936375,
                    852075,
                    813834,
                    787424,
                    740424,
                    704149,
                    654768,
                    626485,
                    623236,
                    598682,
                    587259,
                    535064,
                    521021,
                    452524,
                    412623,
                    410825,
                    395839,
                    375318,
                    366981,
                    335995,
                    334506,
                    312155,
                    308872,
                    292991,
                    281995,
                    231856,
                    225681,
                    192077,
                    180251,
                    172952,
                    133515,
                    126183,
                    115224,
                    111802,
                    107773,
                    107660,
                    106277,
                    103698,
                    98750,
                    94298,
                    84710,
                    80088,
                    73040,
                    69310,
                    64069,
                    63544,
                    56643,
                    53270,
                    49796,
                    47755,
                    46062,
                    44222,
                    43914,
                    41996,
                    39584,
                    36297,
                    33642,
                    32688,
                    32077,
                    31538,
                    18058,
                    17044,
                    15899,
                    12780,
                    11502,
                    11396,
                    10994,
                    5840,
                    4386,
                    3791,
                    1935,
                    1893,
                    518
                  ],
                  "type": "choropleth"
                }
              ],
              "layout": {
                "template": {
                  "data": {
                    "histogram2dcontour": [
                      {
                        "type": "histogram2dcontour",
                        "colorbar": {
                          "outlinewidth": 0,
                          "ticks": ""
                        },
                        "colorscale": [
                          [
                            0,
                            "#0d0887"
                          ],
                          [
                            0.1111111111111111,
                            "#46039f"
                          ],
                          [
                            0.2222222222222222,
                            "#7201a8"
                          ],
                          [
                            0.3333333333333333,
                            "#9c179e"
                          ],
                          [
                            0.4444444444444444,
                            "#bd3786"
                          ],
                          [
                            0.5555555555555556,
                            "#d8576b"
                          ],
                          [
                            0.6666666666666666,
                            "#ed7953"
                          ],
                          [
                            0.7777777777777778,
                            "#fb9f3a"
                          ],
                          [
                            0.8888888888888888,
                            "#fdca26"
                          ],
                          [
                            1,
                            "#f0f921"
                          ]
                        ]
                      }
                    ],
                    "choropleth": [
                      {
                        "type": "choropleth",
                        "colorbar": {
                          "outlinewidth": 0,
                          "ticks": ""
                        }
                      }
                    ],
                    "histogram2d": [
                      {
                        "type": "histogram2d",
                        "colorbar": {
                          "outlinewidth": 0,
                          "ticks": ""
                        },
                        "colorscale": [
                          [
                            0,
                            "#0d0887"
                          ],
                          [
                            0.1111111111111111,
                            "#46039f"
                          ],
                          [
                            0.2222222222222222,
                            "#7201a8"
                          ],
                          [
                            0.3333333333333333,
                            "#9c179e"
                          ],
                          [
                            0.4444444444444444,
                            "#bd3786"
                          ],
                          [
                            0.5555555555555556,
                            "#d8576b"
                          ],
                          [
                            0.6666666666666666,
                            "#ed7953"
                          ],
                          [
                            0.7777777777777778,
                            "#fb9f3a"
                          ],
                          [
                            0.8888888888888888,
                            "#fdca26"
                          ],
                          [
                            1,
                            "#f0f921"
                          ]
                        ]
                      }
                    ],
                    "heatmap": [
                      {
                        "type": "heatmap",
                        "colorbar": {
                          "outlinewidth": 0,
                          "ticks": ""
                        },
                        "colorscale": [
                          [
                            0,
                            "#0d0887"
                          ],
                          [
                            0.1111111111111111,
                            "#46039f"
                          ],
                          [
                            0.2222222222222222,
                            "#7201a8"
                          ],
                          [
                            0.3333333333333333,
                            "#9c179e"
                          ],
                          [
                            0.4444444444444444,
                            "#bd3786"
                          ],
                          [
                            0.5555555555555556,
                            "#d8576b"
                          ],
                          [
                            0.6666666666666666,
                            "#ed7953"
                          ],
                          [
                            0.7777777777777778,
                            "#fb9f3a"
                          ],
                          [
                            0.8888888888888888,
                            "#fdca26"
                          ],
                          [
                            1,
                            "#f0f921"
                          ]
                        ]
                      }
                    ],
                    "heatmapgl": [
                      {
                        "type": "heatmapgl",
                        "colorbar": {
                          "outlinewidth": 0,
                          "ticks": ""
                        },
                        "colorscale": [
                          [
                            0,
                            "#0d0887"
                          ],
                          [
                            0.1111111111111111,
                            "#46039f"
                          ],
                          [
                            0.2222222222222222,
                            "#7201a8"
                          ],
                          [
                            0.3333333333333333,
                            "#9c179e"
                          ],
                          [
                            0.4444444444444444,
                            "#bd3786"
                          ],
                          [
                            0.5555555555555556,
                            "#d8576b"
                          ],
                          [
                            0.6666666666666666,
                            "#ed7953"
                          ],
                          [
                            0.7777777777777778,
                            "#fb9f3a"
                          ],
                          [
                            0.8888888888888888,
                            "#fdca26"
                          ],
                          [
                            1,
                            "#f0f921"
                          ]
                        ]
                      }
                    ],
                    "contourcarpet": [
                      {
                        "type": "contourcarpet",
                        "colorbar": {
                          "outlinewidth": 0,
                          "ticks": ""
                        }
                      }
                    ],
                    "contour": [
                      {
                        "type": "contour",
                        "colorbar": {
                          "outlinewidth": 0,
                          "ticks": ""
                        },
                        "colorscale": [
                          [
                            0,
                            "#0d0887"
                          ],
                          [
                            0.1111111111111111,
                            "#46039f"
                          ],
                          [
                            0.2222222222222222,
                            "#7201a8"
                          ],
                          [
                            0.3333333333333333,
                            "#9c179e"
                          ],
                          [
                            0.4444444444444444,
                            "#bd3786"
                          ],
                          [
                            0.5555555555555556,
                            "#d8576b"
                          ],
                          [
                            0.6666666666666666,
                            "#ed7953"
                          ],
                          [
                            0.7777777777777778,
                            "#fb9f3a"
                          ],
                          [
                            0.8888888888888888,
                            "#fdca26"
                          ],
                          [
                            1,
                            "#f0f921"
                          ]
                        ]
                      }
                    ],
                    "surface": [
                      {
                        "type": "surface",
                        "colorbar": {
                          "outlinewidth": 0,
                          "ticks": ""
                        },
                        "colorscale": [
                          [
                            0,
                            "#0d0887"
                          ],
                          [
                            0.1111111111111111,
                            "#46039f"
                          ],
                          [
                            0.2222222222222222,
                            "#7201a8"
                          ],
                          [
                            0.3333333333333333,
                            "#9c179e"
                          ],
                          [
                            0.4444444444444444,
                            "#bd3786"
                          ],
                          [
                            0.5555555555555556,
                            "#d8576b"
                          ],
                          [
                            0.6666666666666666,
                            "#ed7953"
                          ],
                          [
                            0.7777777777777778,
                            "#fb9f3a"
                          ],
                          [
                            0.8888888888888888,
                            "#fdca26"
                          ],
                          [
                            1,
                            "#f0f921"
                          ]
                        ]
                      }
                    ],
                    "mesh3d": [
                      {
                        "type": "mesh3d",
                        "colorbar": {
                          "outlinewidth": 0,
                          "ticks": ""
                        }
                      }
                    ],
                    "scatter": [
                      {
                        "fillpattern": {
                          "fillmode": "overlay",
                          "size": 10,
                          "solidity": 0.2
                        },
                        "type": "scatter"
                      }
                    ],
                    "parcoords": [
                      {
                        "type": "parcoords",
                        "line": {
                          "colorbar": {
                            "outlinewidth": 0,
                            "ticks": ""
                          }
                        }
                      }
                    ],
                    "scatterpolargl": [
                      {
                        "type": "scatterpolargl",
                        "marker": {
                          "colorbar": {
                            "outlinewidth": 0,
                            "ticks": ""
                          }
                        }
                      }
                    ],
                    "bar": [
                      {
                        "error_x": {
                          "color": "#2a3f5f"
                        },
                        "error_y": {
                          "color": "#2a3f5f"
                        },
                        "marker": {
                          "line": {
                            "color": "#E5ECF6",
                            "width": 0.5
                          },
                          "pattern": {
                            "fillmode": "overlay",
                            "size": 10,
                            "solidity": 0.2
                          }
                        },
                        "type": "bar"
                      }
                    ],
                    "scattergeo": [
                      {
                        "type": "scattergeo",
                        "marker": {
                          "colorbar": {
                            "outlinewidth": 0,
                            "ticks": ""
                          }
                        }
                      }
                    ],
                    "scatterpolar": [
                      {
                        "type": "scatterpolar",
                        "marker": {
                          "colorbar": {
                            "outlinewidth": 0,
                            "ticks": ""
                          }
                        }
                      }
                    ],
                    "histogram": [
                      {
                        "marker": {
                          "pattern": {
                            "fillmode": "overlay",
                            "size": 10,
                            "solidity": 0.2
                          }
                        },
                        "type": "histogram"
                      }
                    ],
                    "scattergl": [
                      {
                        "type": "scattergl",
                        "marker": {
                          "colorbar": {
                            "outlinewidth": 0,
                            "ticks": ""
                          }
                        }
                      }
                    ],
                    "scatter3d": [
                      {
                        "type": "scatter3d",
                        "line": {
                          "colorbar": {
                            "outlinewidth": 0,
                            "ticks": ""
                          }
                        },
                        "marker": {
                          "colorbar": {
                            "outlinewidth": 0,
                            "ticks": ""
                          }
                        }
                      }
                    ],
                    "scattermapbox": [
                      {
                        "type": "scattermapbox",
                        "marker": {
                          "colorbar": {
                            "outlinewidth": 0,
                            "ticks": ""
                          }
                        }
                      }
                    ],
                    "scatterternary": [
                      {
                        "type": "scatterternary",
                        "marker": {
                          "colorbar": {
                            "outlinewidth": 0,
                            "ticks": ""
                          }
                        }
                      }
                    ],
                    "scattercarpet": [
                      {
                        "type": "scattercarpet",
                        "marker": {
                          "colorbar": {
                            "outlinewidth": 0,
                            "ticks": ""
                          }
                        }
                      }
                    ],
                    "carpet": [
                      {
                        "aaxis": {
                          "endlinecolor": "#2a3f5f",
                          "gridcolor": "white",
                          "linecolor": "white",
                          "minorgridcolor": "white",
                          "startlinecolor": "#2a3f5f"
                        },
                        "baxis": {
                          "endlinecolor": "#2a3f5f",
                          "gridcolor": "white",
                          "linecolor": "white",
                          "minorgridcolor": "white",
                          "startlinecolor": "#2a3f5f"
                        },
                        "type": "carpet"
                      }
                    ],
                    "table": [
                      {
                        "cells": {
                          "fill": {
                            "color": "#EBF0F8"
                          },
                          "line": {
                            "color": "white"
                          }
                        },
                        "header": {
                          "fill": {
                            "color": "#C8D4E3"
                          },
                          "line": {
                            "color": "white"
                          }
                        },
                        "type": "table"
                      }
                    ],
                    "barpolar": [
                      {
                        "marker": {
                          "line": {
                            "color": "#E5ECF6",
                            "width": 0.5
                          },
                          "pattern": {
                            "fillmode": "overlay",
                            "size": 10,
                            "solidity": 0.2
                          }
                        },
                        "type": "barpolar"
                      }
                    ],
                    "pie": [
                      {
                        "automargin": true,
                        "type": "pie"
                      }
                    ]
                  },
                  "layout": {
                    "autotypenumbers": "strict",
                    "colorway": [
                      "#636efa",
                      "#EF553B",
                      "#00cc96",
                      "#ab63fa",
                      "#FFA15A",
                      "#19d3f3",
                      "#FF6692",
                      "#B6E880",
                      "#FF97FF",
                      "#FECB52"
                    ],
                    "font": {
                      "color": "#2a3f5f"
                    },
                    "hovermode": "closest",
                    "hoverlabel": {
                      "align": "left"
                    },
                    "paper_bgcolor": "white",
                    "plot_bgcolor": "#E5ECF6",
                    "polar": {
                      "bgcolor": "#E5ECF6",
                      "angularaxis": {
                        "gridcolor": "white",
                        "linecolor": "white",
                        "ticks": ""
                      },
                      "radialaxis": {
                        "gridcolor": "white",
                        "linecolor": "white",
                        "ticks": ""
                      }
                    },
                    "ternary": {
                      "bgcolor": "#E5ECF6",
                      "aaxis": {
                        "gridcolor": "white",
                        "linecolor": "white",
                        "ticks": ""
                      },
                      "baxis": {
                        "gridcolor": "white",
                        "linecolor": "white",
                        "ticks": ""
                      },
                      "caxis": {
                        "gridcolor": "white",
                        "linecolor": "white",
                        "ticks": ""
                      }
                    },
                    "coloraxis": {
                      "colorbar": {
                        "outlinewidth": 0,
                        "ticks": ""
                      }
                    },
                    "colorscale": {
                      "sequential": [
                        [
                          0,
                          "#0d0887"
                        ],
                        [
                          0.1111111111111111,
                          "#46039f"
                        ],
                        [
                          0.2222222222222222,
                          "#7201a8"
                        ],
                        [
                          0.3333333333333333,
                          "#9c179e"
                        ],
                        [
                          0.4444444444444444,
                          "#bd3786"
                        ],
                        [
                          0.5555555555555556,
                          "#d8576b"
                        ],
                        [
                          0.6666666666666666,
                          "#ed7953"
                        ],
                        [
                          0.7777777777777778,
                          "#fb9f3a"
                        ],
                        [
                          0.8888888888888888,
                          "#fdca26"
                        ],
                        [
                          1,
                          "#f0f921"
                        ]
                      ],
                      "sequentialminus": [
                        [
                          0,
                          "#0d0887"
                        ],
                        [
                          0.1111111111111111,
                          "#46039f"
                        ],
                        [
                          0.2222222222222222,
                          "#7201a8"
                        ],
                        [
                          0.3333333333333333,
                          "#9c179e"
                        ],
                        [
                          0.4444444444444444,
                          "#bd3786"
                        ],
                        [
                          0.5555555555555556,
                          "#d8576b"
                        ],
                        [
                          0.6666666666666666,
                          "#ed7953"
                        ],
                        [
                          0.7777777777777778,
                          "#fb9f3a"
                        ],
                        [
                          0.8888888888888888,
                          "#fdca26"
                        ],
                        [
                          1,
                          "#f0f921"
                        ]
                      ],
                      "diverging": [
                        [
                          0,
                          "#8e0152"
                        ],
                        [
                          0.1,
                          "#c51b7d"
                        ],
                        [
                          0.2,
                          "#de77ae"
                        ],
                        [
                          0.3,
                          "#f1b6da"
                        ],
                        [
                          0.4,
                          "#fde0ef"
                        ],
                        [
                          0.5,
                          "#f7f7f7"
                        ],
                        [
                          0.6,
                          "#e6f5d0"
                        ],
                        [
                          0.7,
                          "#b8e186"
                        ],
                        [
                          0.8,
                          "#7fbc41"
                        ],
                        [
                          0.9,
                          "#4d9221"
                        ],
                        [
                          1,
                          "#276419"
                        ]
                      ]
                    },
                    "xaxis": {
                      "gridcolor": "white",
                      "linecolor": "white",
                      "ticks": "",
                      "title": {
                        "standoff": 15
                      },
                      "zerolinecolor": "white",
                      "automargin": true,
                      "zerolinewidth": 2
                    },
                    "yaxis": {
                      "gridcolor": "white",
                      "linecolor": "white",
                      "ticks": "",
                      "title": {
                        "standoff": 15
                      },
                      "zerolinecolor": "white",
                      "automargin": true,
                      "zerolinewidth": 2
                    },
                    "scene": {
                      "xaxis": {
                        "backgroundcolor": "#E5ECF6",
                        "gridcolor": "white",
                        "linecolor": "white",
                        "showbackground": true,
                        "ticks": "",
                        "zerolinecolor": "white",
                        "gridwidth": 2
                      },
                      "yaxis": {
                        "backgroundcolor": "#E5ECF6",
                        "gridcolor": "white",
                        "linecolor": "white",
                        "showbackground": true,
                        "ticks": "",
                        "zerolinecolor": "white",
                        "gridwidth": 2
                      },
                      "zaxis": {
                        "backgroundcolor": "#E5ECF6",
                        "gridcolor": "white",
                        "linecolor": "white",
                        "showbackground": true,
                        "ticks": "",
                        "zerolinecolor": "white",
                        "gridwidth": 2
                      }
                    },
                    "shapedefaults": {
                      "line": {
                        "color": "#2a3f5f"
                      }
                    },
                    "annotationdefaults": {
                      "arrowcolor": "#2a3f5f",
                      "arrowhead": 0,
                      "arrowwidth": 1
                    },
                    "geo": {
                      "bgcolor": "white",
                      "landcolor": "#E5ECF6",
                      "subunitcolor": "white",
                      "showland": true,
                      "showlakes": true,
                      "lakecolor": "white"
                    },
                    "title": {
                      "x": 0.05
                    },
                    "mapbox": {
                      "style": "light"
                    }
                  }
                },
                "geo": {
                  "domain": {
                    "x": [
                      0,
                      1
                    ],
                    "y": [
                      0,
                      1
                    ]
                  },
                  "center": {}
                },
                "coloraxis": {
                  "colorbar": {
                    "title": {
                      "text": "Population"
                    }
                  },
                  "colorscale": [
                    [
                      0,
                      "rgb(255,255,217)"
                    ],
                    [
                      0.125,
                      "rgb(237,248,177)"
                    ],
                    [
                      0.25,
                      "rgb(199,233,180)"
                    ],
                    [
                      0.375,
                      "rgb(127,205,187)"
                    ],
                    [
                      0.5,
                      "rgb(65,182,196)"
                    ],
                    [
                      0.625,
                      "rgb(29,145,192)"
                    ],
                    [
                      0.75,
                      "rgb(34,94,168)"
                    ],
                    [
                      0.875,
                      "rgb(37,52,148)"
                    ],
                    [
                      1,
                      "rgb(8,29,88)"
                    ]
                  ]
                },
                "legend": {
                  "tracegroupgap": 0
                },
                "title": {
                  "text": "World Population Distribution"
                },
                "height": 800,
                "width": 1200
              },
              "config": {
                "plotlyServerURL": "https://plot.ly"
              }
            },
            "text/html": "<div>                            <div id=\"426e7760-1b3e-4123-8f36-e8a0e38a53b5\" class=\"plotly-graph-div\" style=\"height:800px; width:1200px;\"></div>            <script type=\"text/javascript\">                require([\"plotly\"], function(Plotly) {                    window.PLOTLYENV=window.PLOTLYENV || {};                                    if (document.getElementById(\"426e7760-1b3e-4123-8f36-e8a0e38a53b5\")) {                    Plotly.newPlot(                        \"426e7760-1b3e-4123-8f36-e8a0e38a53b5\",                        [{\"coloraxis\":\"coloraxis\",\"geo\":\"geo\",\"hovertemplate\":\"\\u003cb\\u003e%{hovertext}\\u003c\\u002fb\\u003e\\u003cbr\\u003e\\u003cbr\\u003ecca3=%{location}\\u003cbr\\u003ePopulation=%{z}\\u003cextra\\u003e\\u003c\\u002fextra\\u003e\",\"hovertext\":[\"India\",\"China\",\"United States\",\"Indonesia\",\"Pakistan\",\"Nigeria\",\"Brazil\",\"Bangladesh\",\"Russia\",\"Mexico\",\"Ethiopia\",\"Japan\",\"Philippines\",\"Egypt\",\"DR Congo\",\"Vietnam\",\"Iran\",\"Turkey\",\"Germany\",\"Thailand\",\"United Kingdom\",\"Tanzania\",\"France\",\"South Africa\",\"Italy\",\"Kenya\",\"Myanmar\",\"Colombia\",\"South Korea\",\"Uganda\",\"Sudan\",\"Spain\",\"Argentina\",\"Algeria\",\"Iraq\",\"Afghanistan\",\"Poland\",\"Canada\",\"Morocco\",\"Saudi Arabia\",\"Ukraine\",\"Angola\",\"Uzbekistan\",\"Yemen\",\"Peru\",\"Malaysia\",\"Ghana\",\"Mozambique\",\"Nepal\",\"Madagascar\",\"Ivory Coast\",\"Venezuela\",\"Cameroon\",\"Niger\",\"Australia\",\"North Korea\",\"Taiwan\",\"Mali\",\"Burkina Faso\",\"Syria\",\"Sri Lanka\",\"Malawi\",\"Zambia\",\"Romania\",\"Chile\",\"Kazakhstan\",\"Chad\",\"Ecuador\",\"Somalia\",\"Guatemala\",\"Senegal\",\"Netherlands\",\"Cambodia\",\"Zimbabwe\",\"Guinea\",\"Rwanda\",\"Benin\",\"Burundi\",\"Tunisia\",\"Bolivia\",\"Haiti\",\"Belgium\",\"Jordan\",\"Dominican Republic\",\"Cuba\",\"South Sudan\",\"Sweden\",\"Honduras\",\"Czech Republic\",\"Azerbaijan\",\"Greece\",\"Papua New Guinea\",\"Portugal\",\"Hungary\",\"Tajikistan\",\"United Arab Emirates\",\"Belarus\",\"Israel\",\"Togo\",\"Austria\",\"Switzerland\",\"Sierra Leone\",\"Laos\",\"Hong Kong\",\"Serbia\",\"Nicaragua\",\"Libya\",\"Paraguay\",\"Kyrgyzstan\",\"Bulgaria\",\"Turkmenistan\",\"El Salvador\",\"Republic of the Congo\",\"Singapore\",\"Denmark\",\"Slovakia\",\"Central African Republic\",\"Finland\",\"Norway\",\"Liberia\",\"Palestine\",\"Lebanon\",\"New Zealand\",\"Costa Rica\",\"Ireland\",\"Mauritania\",\"Oman\",\"Panama\",\"Kuwait\",\"Croatia\",\"Eritrea\",\"Georgia\",\"Mongolia\",\"Moldova\",\"Uruguay\",\"Puerto Rico\",\"Bosnia and Herzegovina\",\"Albania\",\"Jamaica\",\"Armenia\",\"Gambia\",\"Lithuania\",\"Qatar\",\"Botswana\",\"Namibia\",\"Gabon\",\"Lesotho\",\"Guinea-Bissau\",\"Slovenia\",\"North Macedonia\",\"Latvia\",\"Equatorial Guinea\",\"Trinidad and Tobago\",\"Bahrain\",\"Timor-Leste\",\"Estonia\",\"Mauritius\",\"Cyprus\",\"Eswatini\",\"Djibouti\",\"Reunion\",\"Fiji\",\"Comoros\",\"Guyana\",\"Bhutan\",\"Solomon Islands\",\"Macau\",\"Luxembourg\",\"Montenegro\",\"Suriname\",\"Cape Verde\",\"Western Sahara\",\"Malta\",\"Maldives\",\"Brunei\",\"Bahamas\",\"Belize\",\"Guadeloupe\",\"Iceland\",\"Martinique\",\"Mayotte\",\"Vanuatu\",\"French Guiana\",\"French Polynesia\",\"New Caledonia\",\"Barbados\",\"Sao Tome and Principe\",\"Samoa\",\"Curacao\",\"Saint Lucia\",\"Guam\",\"Kiribati\",\"Grenada\",\"Micronesia\",\"Jersey\",\"Tonga\",\"Seychelles\",\"Aruba\",\"Saint Vincent and the Grenadines\",\"United States Virgin Islands\",\"Antigua and Barbuda\",\"Isle of Man\",\"Andorra\",\"Dominica\",\"Cayman Islands\",\"Bermuda\",\"Guernsey\",\"Greenland\",\"Faroe Islands\",\"Northern Mariana Islands\",\"Saint Kitts and Nevis\",\"Turks and Caicos Islands\",\"Sint Maarten\",\"American Samoa\",\"Marshall Islands\",\"Liechtenstein\",\"Monaco\",\"San Marino\",\"Gibraltar\",\"Saint Martin\",\"British Virgin Islands\",\"Palau\",\"Cook Islands\",\"Anguilla\",\"Nauru\",\"Wallis and Futuna\",\"Tuvalu\",\"Saint Barthelemy\",\"Saint Pierre and Miquelon\",\"Montserrat\",\"Falkland Islands\",\"Niue\",\"Tokelau\",\"Vatican City\"],\"locations\":[\"IND\",\"CHN\",\"USA\",\"IDN\",\"PAK\",\"NGA\",\"BRA\",\"BGD\",\"RUS\",\"MEX\",\"ETH\",\"JPN\",\"PHL\",\"EGY\",\"COD\",\"VNM\",\"IRN\",\"TUR\",\"DEU\",\"THA\",\"GBR\",\"TZA\",\"FRA\",\"ZAF\",\"ITA\",\"KEN\",\"MMR\",\"COL\",\"KOR\",\"UGA\",\"SDN\",\"ESP\",\"ARG\",\"DZA\",\"IRQ\",\"AFG\",\"POL\",\"CAN\",\"MAR\",\"SAU\",\"UKR\",\"AGO\",\"UZB\",\"YEM\",\"PER\",\"MYS\",\"GHA\",\"MOZ\",\"NPL\",\"MDG\",\"CIV\",\"VEN\",\"CMR\",\"NER\",\"AUS\",\"PRK\",\"TWN\",\"MLI\",\"BFA\",\"SYR\",\"LKA\",\"MWI\",\"ZMB\",\"ROU\",\"CHL\",\"KAZ\",\"TCD\",\"ECU\",\"SOM\",\"GTM\",\"SEN\",\"NLD\",\"KHM\",\"ZWE\",\"GIN\",\"RWA\",\"BEN\",\"BDI\",\"TUN\",\"BOL\",\"HTI\",\"BEL\",\"JOR\",\"DOM\",\"CUB\",\"SSD\",\"SWE\",\"HND\",\"CZE\",\"AZE\",\"GRC\",\"PNG\",\"PRT\",\"HUN\",\"TJK\",\"ARE\",\"BLR\",\"ISR\",\"TGO\",\"AUT\",\"CHE\",\"SLE\",\"LAO\",\"HKG\",\"SRB\",\"NIC\",\"LBY\",\"PRY\",\"KGZ\",\"BGR\",\"TKM\",\"SLV\",\"COG\",\"SGP\",\"DNK\",\"SVK\",\"CAF\",\"FIN\",\"NOR\",\"LBR\",\"PSE\",\"LBN\",\"NZL\",\"CRI\",\"IRL\",\"MRT\",\"OMN\",\"PAN\",\"KWT\",\"HRV\",\"ERI\",\"GEO\",\"MNG\",\"MDA\",\"URY\",\"PRI\",\"BIH\",\"ALB\",\"JAM\",\"ARM\",\"GMB\",\"LTU\",\"QAT\",\"BWA\",\"NAM\",\"GAB\",\"LSO\",\"GNB\",\"SVN\",\"MKD\",\"LVA\",\"GNQ\",\"TTO\",\"BHR\",\"TLS\",\"EST\",\"MUS\",\"CYP\",\"SWZ\",\"DJI\",\"REU\",\"FJI\",\"COM\",\"GUY\",\"BTN\",\"SLB\",\"MAC\",\"LUX\",\"MNE\",\"SUR\",\"CPV\",\"ESH\",\"MLT\",\"MDV\",\"BRN\",\"BHS\",\"BLZ\",\"GLP\",\"ISL\",\"MTQ\",\"MYT\",\"VUT\",\"GUF\",\"PYF\",\"NCL\",\"BRB\",\"STP\",\"WSM\",\"CUW\",\"LCA\",\"GUM\",\"KIR\",\"GRD\",\"FSM\",\"JEY\",\"TON\",\"SYC\",\"ABW\",\"VCT\",\"VIR\",\"ATG\",\"IMN\",\"AND\",\"DMA\",\"CYM\",\"BMU\",\"GGY\",\"GRL\",\"FRO\",\"MNP\",\"KNA\",\"TCA\",\"SXM\",\"ASM\",\"MHL\",\"LIE\",\"MCO\",\"SMR\",\"GIB\",\"MAF\",\"VGB\",\"PLW\",\"COK\",\"AIA\",\"NRU\",\"WLF\",\"TUV\",\"BLM\",\"SPM\",\"MSR\",\"FLK\",\"NIU\",\"TKL\",\"VAT\"],\"name\":\"\",\"z\":[1428627663,1425671352,339996563,277534122,240485658,223804632,216422446,172954319,144444359,128455567,126527060,123294513,117337368,112716598,102262808,98858950,89172767,85816199,83294633,71801279,67736802,67438106,64756584,60414495,58870762,55100586,54577997,52085168,51784059,48582334,48109006,47519628,45773884,45606480,45504560,42239854,41026067,38781291,37840044,36947025,36744634,36684202,35163944,34449825,34352719,34308525,34121985,33897354,30896590,30325732,28873034,28838499,28647293,27202843,26439111,26160821,23923276,23293698,23251485,23227014,21893579,20931751,20569737,19892812,19629590,19606633,18278568,18190484,18143378,18092026,17763163,17618299,16944826,16665409,14190612,14094683,13712828,13238559,12458223,12388571,11724763,11686140,11337052,11332972,11194449,11088796,10612086,10593798,10495295,10412651,10341277,10329931,10247605,10156239,10143543,9516871,9498238,9174520,9053799,8958960,8796669,8791092,7633779,7491609,7149077,7046310,6888388,6861524,6735347,6687717,6516100,6364943,6106869,6014723,5910913,5795199,5742315,5545475,5474360,5418377,5371230,5353930,5228100,5212173,5056935,4862989,4644384,4468087,4310108,4008617,3748901,3728282,3447157,3435931,3423108,3260314,3210847,2832439,2825544,2777970,2773168,2718352,2716391,2675352,2604172,2436566,2330318,2150842,2119675,2085679,1830211,1714671,1534937,1485509,1360596,1322765,1300557,1260138,1210822,1136455,981796,936375,852075,813834,787424,740424,704149,654768,626485,623236,598682,587259,535064,521021,452524,412623,410825,395839,375318,366981,335995,334506,312155,308872,292991,281995,231856,225681,192077,180251,172952,133515,126183,115224,111802,107773,107660,106277,103698,98750,94298,84710,80088,73040,69310,64069,63544,56643,53270,49796,47755,46062,44222,43914,41996,39584,36297,33642,32688,32077,31538,18058,17044,15899,12780,11502,11396,10994,5840,4386,3791,1935,1893,518],\"type\":\"choropleth\"}],                        {\"template\":{\"data\":{\"histogram2dcontour\":[{\"type\":\"histogram2dcontour\",\"colorbar\":{\"outlinewidth\":0,\"ticks\":\"\"},\"colorscale\":[[0.0,\"#0d0887\"],[0.1111111111111111,\"#46039f\"],[0.2222222222222222,\"#7201a8\"],[0.3333333333333333,\"#9c179e\"],[0.4444444444444444,\"#bd3786\"],[0.5555555555555556,\"#d8576b\"],[0.6666666666666666,\"#ed7953\"],[0.7777777777777778,\"#fb9f3a\"],[0.8888888888888888,\"#fdca26\"],[1.0,\"#f0f921\"]]}],\"choropleth\":[{\"type\":\"choropleth\",\"colorbar\":{\"outlinewidth\":0,\"ticks\":\"\"}}],\"histogram2d\":[{\"type\":\"histogram2d\",\"colorbar\":{\"outlinewidth\":0,\"ticks\":\"\"},\"colorscale\":[[0.0,\"#0d0887\"],[0.1111111111111111,\"#46039f\"],[0.2222222222222222,\"#7201a8\"],[0.3333333333333333,\"#9c179e\"],[0.4444444444444444,\"#bd3786\"],[0.5555555555555556,\"#d8576b\"],[0.6666666666666666,\"#ed7953\"],[0.7777777777777778,\"#fb9f3a\"],[0.8888888888888888,\"#fdca26\"],[1.0,\"#f0f921\"]]}],\"heatmap\":[{\"type\":\"heatmap\",\"colorbar\":{\"outlinewidth\":0,\"ticks\":\"\"},\"colorscale\":[[0.0,\"#0d0887\"],[0.1111111111111111,\"#46039f\"],[0.2222222222222222,\"#7201a8\"],[0.3333333333333333,\"#9c179e\"],[0.4444444444444444,\"#bd3786\"],[0.5555555555555556,\"#d8576b\"],[0.6666666666666666,\"#ed7953\"],[0.7777777777777778,\"#fb9f3a\"],[0.8888888888888888,\"#fdca26\"],[1.0,\"#f0f921\"]]}],\"heatmapgl\":[{\"type\":\"heatmapgl\",\"colorbar\":{\"outlinewidth\":0,\"ticks\":\"\"},\"colorscale\":[[0.0,\"#0d0887\"],[0.1111111111111111,\"#46039f\"],[0.2222222222222222,\"#7201a8\"],[0.3333333333333333,\"#9c179e\"],[0.4444444444444444,\"#bd3786\"],[0.5555555555555556,\"#d8576b\"],[0.6666666666666666,\"#ed7953\"],[0.7777777777777778,\"#fb9f3a\"],[0.8888888888888888,\"#fdca26\"],[1.0,\"#f0f921\"]]}],\"contourcarpet\":[{\"type\":\"contourcarpet\",\"colorbar\":{\"outlinewidth\":0,\"ticks\":\"\"}}],\"contour\":[{\"type\":\"contour\",\"colorbar\":{\"outlinewidth\":0,\"ticks\":\"\"},\"colorscale\":[[0.0,\"#0d0887\"],[0.1111111111111111,\"#46039f\"],[0.2222222222222222,\"#7201a8\"],[0.3333333333333333,\"#9c179e\"],[0.4444444444444444,\"#bd3786\"],[0.5555555555555556,\"#d8576b\"],[0.6666666666666666,\"#ed7953\"],[0.7777777777777778,\"#fb9f3a\"],[0.8888888888888888,\"#fdca26\"],[1.0,\"#f0f921\"]]}],\"surface\":[{\"type\":\"surface\",\"colorbar\":{\"outlinewidth\":0,\"ticks\":\"\"},\"colorscale\":[[0.0,\"#0d0887\"],[0.1111111111111111,\"#46039f\"],[0.2222222222222222,\"#7201a8\"],[0.3333333333333333,\"#9c179e\"],[0.4444444444444444,\"#bd3786\"],[0.5555555555555556,\"#d8576b\"],[0.6666666666666666,\"#ed7953\"],[0.7777777777777778,\"#fb9f3a\"],[0.8888888888888888,\"#fdca26\"],[1.0,\"#f0f921\"]]}],\"mesh3d\":[{\"type\":\"mesh3d\",\"colorbar\":{\"outlinewidth\":0,\"ticks\":\"\"}}],\"scatter\":[{\"fillpattern\":{\"fillmode\":\"overlay\",\"size\":10,\"solidity\":0.2},\"type\":\"scatter\"}],\"parcoords\":[{\"type\":\"parcoords\",\"line\":{\"colorbar\":{\"outlinewidth\":0,\"ticks\":\"\"}}}],\"scatterpolargl\":[{\"type\":\"scatterpolargl\",\"marker\":{\"colorbar\":{\"outlinewidth\":0,\"ticks\":\"\"}}}],\"bar\":[{\"error_x\":{\"color\":\"#2a3f5f\"},\"error_y\":{\"color\":\"#2a3f5f\"},\"marker\":{\"line\":{\"color\":\"#E5ECF6\",\"width\":0.5},\"pattern\":{\"fillmode\":\"overlay\",\"size\":10,\"solidity\":0.2}},\"type\":\"bar\"}],\"scattergeo\":[{\"type\":\"scattergeo\",\"marker\":{\"colorbar\":{\"outlinewidth\":0,\"ticks\":\"\"}}}],\"scatterpolar\":[{\"type\":\"scatterpolar\",\"marker\":{\"colorbar\":{\"outlinewidth\":0,\"ticks\":\"\"}}}],\"histogram\":[{\"marker\":{\"pattern\":{\"fillmode\":\"overlay\",\"size\":10,\"solidity\":0.2}},\"type\":\"histogram\"}],\"scattergl\":[{\"type\":\"scattergl\",\"marker\":{\"colorbar\":{\"outlinewidth\":0,\"ticks\":\"\"}}}],\"scatter3d\":[{\"type\":\"scatter3d\",\"line\":{\"colorbar\":{\"outlinewidth\":0,\"ticks\":\"\"}},\"marker\":{\"colorbar\":{\"outlinewidth\":0,\"ticks\":\"\"}}}],\"scattermapbox\":[{\"type\":\"scattermapbox\",\"marker\":{\"colorbar\":{\"outlinewidth\":0,\"ticks\":\"\"}}}],\"scatterternary\":[{\"type\":\"scatterternary\",\"marker\":{\"colorbar\":{\"outlinewidth\":0,\"ticks\":\"\"}}}],\"scattercarpet\":[{\"type\":\"scattercarpet\",\"marker\":{\"colorbar\":{\"outlinewidth\":0,\"ticks\":\"\"}}}],\"carpet\":[{\"aaxis\":{\"endlinecolor\":\"#2a3f5f\",\"gridcolor\":\"white\",\"linecolor\":\"white\",\"minorgridcolor\":\"white\",\"startlinecolor\":\"#2a3f5f\"},\"baxis\":{\"endlinecolor\":\"#2a3f5f\",\"gridcolor\":\"white\",\"linecolor\":\"white\",\"minorgridcolor\":\"white\",\"startlinecolor\":\"#2a3f5f\"},\"type\":\"carpet\"}],\"table\":[{\"cells\":{\"fill\":{\"color\":\"#EBF0F8\"},\"line\":{\"color\":\"white\"}},\"header\":{\"fill\":{\"color\":\"#C8D4E3\"},\"line\":{\"color\":\"white\"}},\"type\":\"table\"}],\"barpolar\":[{\"marker\":{\"line\":{\"color\":\"#E5ECF6\",\"width\":0.5},\"pattern\":{\"fillmode\":\"overlay\",\"size\":10,\"solidity\":0.2}},\"type\":\"barpolar\"}],\"pie\":[{\"automargin\":true,\"type\":\"pie\"}]},\"layout\":{\"autotypenumbers\":\"strict\",\"colorway\":[\"#636efa\",\"#EF553B\",\"#00cc96\",\"#ab63fa\",\"#FFA15A\",\"#19d3f3\",\"#FF6692\",\"#B6E880\",\"#FF97FF\",\"#FECB52\"],\"font\":{\"color\":\"#2a3f5f\"},\"hovermode\":\"closest\",\"hoverlabel\":{\"align\":\"left\"},\"paper_bgcolor\":\"white\",\"plot_bgcolor\":\"#E5ECF6\",\"polar\":{\"bgcolor\":\"#E5ECF6\",\"angularaxis\":{\"gridcolor\":\"white\",\"linecolor\":\"white\",\"ticks\":\"\"},\"radialaxis\":{\"gridcolor\":\"white\",\"linecolor\":\"white\",\"ticks\":\"\"}},\"ternary\":{\"bgcolor\":\"#E5ECF6\",\"aaxis\":{\"gridcolor\":\"white\",\"linecolor\":\"white\",\"ticks\":\"\"},\"baxis\":{\"gridcolor\":\"white\",\"linecolor\":\"white\",\"ticks\":\"\"},\"caxis\":{\"gridcolor\":\"white\",\"linecolor\":\"white\",\"ticks\":\"\"}},\"coloraxis\":{\"colorbar\":{\"outlinewidth\":0,\"ticks\":\"\"}},\"colorscale\":{\"sequential\":[[0.0,\"#0d0887\"],[0.1111111111111111,\"#46039f\"],[0.2222222222222222,\"#7201a8\"],[0.3333333333333333,\"#9c179e\"],[0.4444444444444444,\"#bd3786\"],[0.5555555555555556,\"#d8576b\"],[0.6666666666666666,\"#ed7953\"],[0.7777777777777778,\"#fb9f3a\"],[0.8888888888888888,\"#fdca26\"],[1.0,\"#f0f921\"]],\"sequentialminus\":[[0.0,\"#0d0887\"],[0.1111111111111111,\"#46039f\"],[0.2222222222222222,\"#7201a8\"],[0.3333333333333333,\"#9c179e\"],[0.4444444444444444,\"#bd3786\"],[0.5555555555555556,\"#d8576b\"],[0.6666666666666666,\"#ed7953\"],[0.7777777777777778,\"#fb9f3a\"],[0.8888888888888888,\"#fdca26\"],[1.0,\"#f0f921\"]],\"diverging\":[[0,\"#8e0152\"],[0.1,\"#c51b7d\"],[0.2,\"#de77ae\"],[0.3,\"#f1b6da\"],[0.4,\"#fde0ef\"],[0.5,\"#f7f7f7\"],[0.6,\"#e6f5d0\"],[0.7,\"#b8e186\"],[0.8,\"#7fbc41\"],[0.9,\"#4d9221\"],[1,\"#276419\"]]},\"xaxis\":{\"gridcolor\":\"white\",\"linecolor\":\"white\",\"ticks\":\"\",\"title\":{\"standoff\":15},\"zerolinecolor\":\"white\",\"automargin\":true,\"zerolinewidth\":2},\"yaxis\":{\"gridcolor\":\"white\",\"linecolor\":\"white\",\"ticks\":\"\",\"title\":{\"standoff\":15},\"zerolinecolor\":\"white\",\"automargin\":true,\"zerolinewidth\":2},\"scene\":{\"xaxis\":{\"backgroundcolor\":\"#E5ECF6\",\"gridcolor\":\"white\",\"linecolor\":\"white\",\"showbackground\":true,\"ticks\":\"\",\"zerolinecolor\":\"white\",\"gridwidth\":2},\"yaxis\":{\"backgroundcolor\":\"#E5ECF6\",\"gridcolor\":\"white\",\"linecolor\":\"white\",\"showbackground\":true,\"ticks\":\"\",\"zerolinecolor\":\"white\",\"gridwidth\":2},\"zaxis\":{\"backgroundcolor\":\"#E5ECF6\",\"gridcolor\":\"white\",\"linecolor\":\"white\",\"showbackground\":true,\"ticks\":\"\",\"zerolinecolor\":\"white\",\"gridwidth\":2}},\"shapedefaults\":{\"line\":{\"color\":\"#2a3f5f\"}},\"annotationdefaults\":{\"arrowcolor\":\"#2a3f5f\",\"arrowhead\":0,\"arrowwidth\":1},\"geo\":{\"bgcolor\":\"white\",\"landcolor\":\"#E5ECF6\",\"subunitcolor\":\"white\",\"showland\":true,\"showlakes\":true,\"lakecolor\":\"white\"},\"title\":{\"x\":0.05},\"mapbox\":{\"style\":\"light\"}}},\"geo\":{\"domain\":{\"x\":[0.0,1.0],\"y\":[0.0,1.0]},\"center\":{}},\"coloraxis\":{\"colorbar\":{\"title\":{\"text\":\"Population\"}},\"colorscale\":[[0.0,\"rgb(255,255,217)\"],[0.125,\"rgb(237,248,177)\"],[0.25,\"rgb(199,233,180)\"],[0.375,\"rgb(127,205,187)\"],[0.5,\"rgb(65,182,196)\"],[0.625,\"rgb(29,145,192)\"],[0.75,\"rgb(34,94,168)\"],[0.875,\"rgb(37,52,148)\"],[1.0,\"rgb(8,29,88)\"]]},\"legend\":{\"tracegroupgap\":0},\"title\":{\"text\":\"World Population Distribution\"},\"height\":800,\"width\":1200},                        {\"responsive\": true}                    ).then(function(){\n                            \nvar gd = document.getElementById('426e7760-1b3e-4123-8f36-e8a0e38a53b5');\nvar x = new MutationObserver(function (mutations, observer) {{\n        var display = window.getComputedStyle(gd).display;\n        if (!display || display === 'none') {{\n            console.log([gd, 'removed!']);\n            Plotly.purge(gd);\n            observer.disconnect();\n        }}\n}});\n\n// Listen for the removal of the full notebook cells\nvar notebookContainer = gd.closest('#notebook-container');\nif (notebookContainer) {{\n    x.observe(notebookContainer, {childList: true});\n}}\n\n// Listen for the clearing of the current output cell\nvar outputEl = gd.closest('.output');\nif (outputEl) {{\n    x.observe(outputEl, {childList: true});\n}}\n\n                        })                };                });            </script>        </div>"
          },
          "metadata": {}
        }
      ],
      "execution_count": null
    },
    {
      "cell_type": "markdown",
      "source": [
        "# World Population Over Time"
      ],
      "metadata": {
        "id": "f7UKi7AZZi-Z"
      }
    },
    {
      "cell_type": "code",
      "source": [
        "world_population = df.nlargest(5, '2023 population') ##Getting top populations\n",
        "world_population = world_population.set_index('country').iloc[:, 3:12].transpose()\n",
        "##Takes all the years since 1970\n",
        "world_population"
      ],
      "metadata": {
        "trusted": true,
        "execution": {
          "iopub.status.busy": "2024-11-28T19:56:54.110378Z",
          "iopub.execute_input": "2024-11-28T19:56:54.110729Z",
          "iopub.status.idle": "2024-11-28T19:56:54.126317Z",
          "shell.execute_reply.started": "2024-11-28T19:56:54.110695Z",
          "shell.execute_reply": "2024-11-28T19:56:54.125101Z"
        },
        "id": "yO1YT0pKZi-a",
        "outputId": "cffc17f4-271d-47f7-9e53-7819178054d7"
      },
      "outputs": [
        {
          "execution_count": 128,
          "output_type": "execute_result",
          "data": {
            "text/plain": "country               India       China  United States  Indonesia   Pakistan\n2023 population  1428627663  1425671352      339996563  277534122  240485658\n2022 population  1417173173  1425887337      338289857  275501339  235824862\n2020 population  1396387127  1424929781      335942003  271857970  227196741\n2015 population  1322866505  1393715448      324607776  259091970  210969298\n2010 population  1240613620  1348191368      311182845  244016173  194454498\n2000 population  1059633675  1264099069      282398554  214072421  154369924\n1990 population   870452165  1153704252      248083732  182159874  115414069\n1980 population   696828385   982372466      223140018  148177096   80624057\n1970 population   557501301   822534450      200328340  115228394   59290872",
            "text/html": "<div>\n<style scoped>\n    .dataframe tbody tr th:only-of-type {\n        vertical-align: middle;\n    }\n\n    .dataframe tbody tr th {\n        vertical-align: top;\n    }\n\n    .dataframe thead th {\n        text-align: right;\n    }\n</style>\n<table border=\"1\" class=\"dataframe\">\n  <thead>\n    <tr style=\"text-align: right;\">\n      <th>country</th>\n      <th>India</th>\n      <th>China</th>\n      <th>United States</th>\n      <th>Indonesia</th>\n      <th>Pakistan</th>\n    </tr>\n  </thead>\n  <tbody>\n    <tr>\n      <th>2023 population</th>\n      <td>1428627663</td>\n      <td>1425671352</td>\n      <td>339996563</td>\n      <td>277534122</td>\n      <td>240485658</td>\n    </tr>\n    <tr>\n      <th>2022 population</th>\n      <td>1417173173</td>\n      <td>1425887337</td>\n      <td>338289857</td>\n      <td>275501339</td>\n      <td>235824862</td>\n    </tr>\n    <tr>\n      <th>2020 population</th>\n      <td>1396387127</td>\n      <td>1424929781</td>\n      <td>335942003</td>\n      <td>271857970</td>\n      <td>227196741</td>\n    </tr>\n    <tr>\n      <th>2015 population</th>\n      <td>1322866505</td>\n      <td>1393715448</td>\n      <td>324607776</td>\n      <td>259091970</td>\n      <td>210969298</td>\n    </tr>\n    <tr>\n      <th>2010 population</th>\n      <td>1240613620</td>\n      <td>1348191368</td>\n      <td>311182845</td>\n      <td>244016173</td>\n      <td>194454498</td>\n    </tr>\n    <tr>\n      <th>2000 population</th>\n      <td>1059633675</td>\n      <td>1264099069</td>\n      <td>282398554</td>\n      <td>214072421</td>\n      <td>154369924</td>\n    </tr>\n    <tr>\n      <th>1990 population</th>\n      <td>870452165</td>\n      <td>1153704252</td>\n      <td>248083732</td>\n      <td>182159874</td>\n      <td>115414069</td>\n    </tr>\n    <tr>\n      <th>1980 population</th>\n      <td>696828385</td>\n      <td>982372466</td>\n      <td>223140018</td>\n      <td>148177096</td>\n      <td>80624057</td>\n    </tr>\n    <tr>\n      <th>1970 population</th>\n      <td>557501301</td>\n      <td>822534450</td>\n      <td>200328340</td>\n      <td>115228394</td>\n      <td>59290872</td>\n    </tr>\n  </tbody>\n</table>\n</div>"
          },
          "metadata": {}
        }
      ],
      "execution_count": null
    },
    {
      "cell_type": "code",
      "source": [
        "plt.figure(figsize=(12,6))\n",
        "i = 8\n",
        "for country in world_population.columns:\n",
        "    plt.plot(world_population.index, world_population[country], marker='o', label=country)\n",
        "\n",
        "plt.title('Most Population Nations Over Time')\n",
        "plt.xlabel('Year')\n",
        "plt.ylabel('Population (billions)')\n",
        "plt.xticks(rotation=45)\n",
        "plt.legend()\n",
        "plt.grid(True)\n",
        "plt.tight_layout()\n",
        "plt.show()"
      ],
      "metadata": {
        "trusted": true,
        "execution": {
          "iopub.status.busy": "2024-11-28T19:56:54.127681Z",
          "iopub.execute_input": "2024-11-28T19:56:54.128072Z",
          "iopub.status.idle": "2024-11-28T19:56:54.527089Z",
          "shell.execute_reply.started": "2024-11-28T19:56:54.12803Z",
          "shell.execute_reply": "2024-11-28T19:56:54.525868Z"
        },
        "id": "AKLJsuHeZi-a",
        "outputId": "5006aa6b-534f-4838-d7a6-df2c017060c1"
      },
      "outputs": [
        {
          "output_type": "display_data",
          "data": {
            "text/plain": "<Figure size 1200x600 with 1 Axes>",
            "image/png": "[encoded data removed]"
          },
          "metadata": {}
        }
      ],
      "execution_count": null
    },
    {
      "cell_type": "markdown",
      "source": [
        "This graph displays the populations of the top 5 most population nations since 1970. The years on the graph decend."
      ],
      "metadata": {
        "id": "zyGxwrKsZi-a"
      }
    },
    {
      "cell_type": "markdown",
      "source": [
        "# Let's Look at India"
      ],
      "metadata": {
        "id": "ljEGqmFBZi-a"
      }
    },
    {
      "cell_type": "markdown",
      "source": [
        "India is currently the most populated country in the world. As of 2023, India has clocked in a population of 1,428,627,663 people. This is over one-eighth of the total world population."
      ],
      "metadata": {
        "id": "139BbmefZi-a"
      }
    },
    {
      "cell_type": "code",
      "source": [
        "# Grabbing only India's data\n",
        "years = ['1970', '1980', '1990', '2000', '2010', '2015', '2020', '2022', '2023']\n",
        "yearly_population = [557501301,696828385, 870452165,1059633675,1240613620,1322866505,1396387127,1417173173,1428627663]\n",
        "\n",
        "india_population = df.nlargest(1, '2023 population') ##Getting India population\n",
        "india_population = india_population.set_index('country').iloc[:, 3:12].transpose()\n",
        "##Takes all the years since 1970\n",
        "india_population"
      ],
      "metadata": {
        "trusted": true,
        "execution": {
          "iopub.status.busy": "2024-11-28T19:56:54.529006Z",
          "iopub.execute_input": "2024-11-28T19:56:54.529467Z",
          "iopub.status.idle": "2024-11-28T19:56:54.54682Z",
          "shell.execute_reply.started": "2024-11-28T19:56:54.529421Z",
          "shell.execute_reply": "2024-11-28T19:56:54.545377Z"
        },
        "id": "i6_u2I-sZi-a",
        "outputId": "ff314eff-7593-4601-ae32-879613a0f6e6"
      },
      "outputs": [
        {
          "execution_count": 130,
          "output_type": "execute_result",
          "data": {
            "text/plain": "country               India\n2023 population  1428627663\n2022 population  1417173173\n2020 population  1396387127\n2015 population  1322866505\n2010 population  1240613620\n2000 population  1059633675\n1990 population   870452165\n1980 population   696828385\n1970 population   557501301",
            "text/html": "<div>\n<style scoped>\n    .dataframe tbody tr th:only-of-type {\n        vertical-align: middle;\n    }\n\n    .dataframe tbody tr th {\n        vertical-align: top;\n    }\n\n    .dataframe thead th {\n        text-align: right;\n    }\n</style>\n<table border=\"1\" class=\"dataframe\">\n  <thead>\n    <tr style=\"text-align: right;\">\n      <th>country</th>\n      <th>India</th>\n    </tr>\n  </thead>\n  <tbody>\n    <tr>\n      <th>2023 population</th>\n      <td>1428627663</td>\n    </tr>\n    <tr>\n      <th>2022 population</th>\n      <td>1417173173</td>\n    </tr>\n    <tr>\n      <th>2020 population</th>\n      <td>1396387127</td>\n    </tr>\n    <tr>\n      <th>2015 population</th>\n      <td>1322866505</td>\n    </tr>\n    <tr>\n      <th>2010 population</th>\n      <td>1240613620</td>\n    </tr>\n    <tr>\n      <th>2000 population</th>\n      <td>1059633675</td>\n    </tr>\n    <tr>\n      <th>1990 population</th>\n      <td>870452165</td>\n    </tr>\n    <tr>\n      <th>1980 population</th>\n      <td>696828385</td>\n    </tr>\n    <tr>\n      <th>1970 population</th>\n      <td>557501301</td>\n    </tr>\n  </tbody>\n</table>\n</div>"
          },
          "metadata": {}
        }
      ],
      "execution_count": null
    },
    {
      "cell_type": "code",
      "source": [
        "plt.figure(figsize=(12,6))\n",
        "plt.plot(years, yearly_population)\n",
        "\n",
        "plt.title('Population of India Over Time')\n",
        "plt.xlabel('Year')\n",
        "plt.ylabel('Population (billions)')\n",
        "plt.xticks(rotation=45)\n",
        "plt.legend()\n",
        "plt.grid(True)\n",
        "plt.tight_layout()\n",
        "plt.show()"
      ],
      "metadata": {
        "trusted": true,
        "execution": {
          "iopub.status.busy": "2024-11-28T19:56:54.548421Z",
          "iopub.execute_input": "2024-11-28T19:56:54.548781Z",
          "iopub.status.idle": "2024-11-28T19:56:54.821751Z",
          "shell.execute_reply.started": "2024-11-28T19:56:54.548745Z",
          "shell.execute_reply": "2024-11-28T19:56:54.820623Z"
        },
        "id": "_CoehtzpZi-a",
        "outputId": "ee60a81f-22c3-4a7b-f658-0f271feb039e"
      },
      "outputs": [
        {
          "output_type": "display_data",
          "data": {
            "text/plain": "<Figure size 1200x600 with 1 Axes>",
            "image/png": "[encoded data removed]"
          },
          "metadata": {}
        }
      ],
      "execution_count": null
    },
    {
      "cell_type": "markdown",
      "source": [
        "This line plot shows the growth of India's population since 1970.\n",
        "\n",
        "The graph below shows India's GDP since 1987 and it predicts the growth until 2029.\n",
        "\n",
        "Source to graph: [https://www.statista.com/statistics/263771/gross-domestic-product-gdp-in-india/](http://)"
      ],
      "metadata": {
        "id": "mirOdcF5Zi-a"
      }
    },
    {
      "cell_type": "markdown",
      "source": [
        "![image.png](attachment:d0add257-22c8-4862-9614-1e594428d844.png)"
      ],
      "metadata": {
        "id": "vvBs_pdCZi-a"
      }
    },
    {
      "cell_type": "code",
      "source": [
        "# Comparing Growth Rates\n",
        "custom_palette = [\"#440154\", \"#482677\", \"#3E4989\", \"#31688E\", \"#26828E\", \"#1F9E89\", \"#35B779\", \"#6DCD59\", \"#B4DE2C\", \"#FDE725\"]\n",
        "\n",
        "fig = px.scatter(df, x='density (km²)', y='growth rate', color='continent', size='2023 population',\n",
        "                 hover_name='country', title='Growth Rate vs. Population Density',\n",
        "                 labels={'density (km²)': 'Population Density (people/km²)', 'growth rate': 'Growth Rate'},\n",
        "                 size_max=30,\n",
        "                 color_discrete_sequence=custom_palette)\n",
        "\n",
        "fig.update_layout(\n",
        "    width = 1200,\n",
        "    height = 800,\n",
        ")\n",
        "\n",
        "fig.show()\n"
      ],
      "metadata": {
        "trusted": true,
        "execution": {
          "iopub.status.busy": "2024-11-28T19:56:54.823404Z",
          "iopub.execute_input": "2024-11-28T19:56:54.823871Z",
          "iopub.status.idle": "2024-11-28T19:56:54.915531Z",
          "shell.execute_reply.started": "2024-11-28T19:56:54.82382Z",
          "shell.execute_reply": "2024-11-28T19:56:54.914404Z"
        },
        "id": "LuW9PjHrZi-b",
        "outputId": "24157112-cf88-4998-f862-04e4e35e203b"
      },
      "outputs": [
        {
          "output_type": "display_data",
          "data": {
            "application/vnd.plotly.v1+json": {
              "data": [
                {
                  "hovertemplate": "<b>%{hovertext}</b><br><br>continent=Asia<br>Population Density (people/km²)=%{x}<br>Growth Rate=%{y}<br>2023 population=%{marker.size}<extra></extra>",
                  "hovertext": [
                    "India",
                    "China",
                    "Indonesia",
                    "Pakistan",
                    "Bangladesh",
                    "Japan",
                    "Philippines",
                    "Vietnam",
                    "Iran",
                    "Turkey",
                    "Thailand",
                    "Myanmar",
                    "South Korea",
                    "Iraq",
                    "Afghanistan",
                    "Saudi Arabia",
                    "Uzbekistan",
                    "Yemen",
                    "Malaysia",
                    "Nepal",
                    "North Korea",
                    "Taiwan",
                    "Syria",
                    "Sri Lanka",
                    "Kazakhstan",
                    "Cambodia",
                    "Jordan",
                    "Azerbaijan",
                    "Tajikistan",
                    "United Arab Emirates",
                    "Israel",
                    "Laos",
                    "Hong Kong",
                    "Kyrgyzstan",
                    "Turkmenistan",
                    "Singapore",
                    "Palestine",
                    "Lebanon",
                    "Oman",
                    "Kuwait",
                    "Georgia",
                    "Mongolia",
                    "Armenia",
                    "Qatar",
                    "Bahrain",
                    "Timor-Leste",
                    "Bhutan",
                    "Macau",
                    "Maldives",
                    "Brunei"
                  ],
                  "legendgroup": "Asia",
                  "marker": {
                    "color": "#440154",
                    "size": [
                      1428627663,
                      1425671352,
                      277534122,
                      240485658,
                      172954319,
                      123294513,
                      117337368,
                      98858950,
                      89172767,
                      85816199,
                      71801279,
                      54577997,
                      51784059,
                      45504560,
                      42239854,
                      36947025,
                      35163944,
                      34449825,
                      34308525,
                      30896590,
                      26160821,
                      23923276,
                      23227014,
                      21893579,
                      19606633,
                      16944826,
                      11337052,
                      10412651,
                      10143543,
                      9516871,
                      9174520,
                      7633779,
                      7491609,
                      6735347,
                      6516100,
                      6014723,
                      5371230,
                      5353930,
                      4644384,
                      4310108,
                      3728282,
                      3447157,
                      2777970,
                      2716391,
                      1485509,
                      1360596,
                      787424,
                      704149,
                      521021,
                      452524
                    ],
                    "sizemode": "area",
                    "sizeref": 1587364.07,
                    "symbol": "circle"
                  },
                  "mode": "markers",
                  "name": "Asia",
                  "orientation": "h",
                  "showlegend": true,
                  "x": [
                    481,
                    151,
                    148,
                    312,
                    1329,
                    338,
                    394,
                    315,
                    55,
                    110,
                    141,
                    84,
                    531,
                    105,
                    65,
                    17,
                    80,
                    65,
                    104,
                    216,
                    217,
                    661,
                    126,
                    354,
                    7,
                    96,
                    128,
                    126,
                    73,
                    134,
                    424,
                    33,
                    7135,
                    35,
                    14,
                    8377,
                    892,
                    523,
                    15,
                    242,
                    54,
                    2,
                    98,
                    236,
                    1892,
                    91,
                    21,
                    21403,
                    1737,
                    86
                  ],
                  "xaxis": "x",
                  "y": [
                    "0.81%",
                    "-0.02%",
                    "0.74%",
                    "1.98%",
                    "1.03%",
                    "-0.53%",
                    "1.54%",
                    "0.68%",
                    "0.70%",
                    "0.56%",
                    "0.15%",
                    "0.74%",
                    "-0.06%",
                    "2.27%",
                    "2.70%",
                    "1.48%",
                    "1.55%",
                    "2.24%",
                    "1.09%",
                    "1.14%",
                    "0.35%",
                    "0.13%",
                    "4.98%",
                    "0.28%",
                    "1.08%",
                    "1.06%",
                    "0.45%",
                    "0.53%",
                    "1.92%",
                    "0.80%",
                    "1.51%",
                    "1.39%",
                    "0.04%",
                    "1.58%",
                    "1.33%",
                    "0.65%",
                    "2.31%",
                    "-2.47%",
                    "1.49%",
                    "0.97%",
                    "-0.43%",
                    "1.44%",
                    "-0.09%",
                    "0.79%",
                    "0.90%",
                    "1.44%",
                    "0.64%",
                    "1.29%",
                    "-0.53%",
                    "0.78%"
                  ],
                  "yaxis": "y",
                  "type": "scatter"
                },
                {
                  "hovertemplate": "<b>%{hovertext}</b><br><br>continent=North America<br>Population Density (people/km²)=%{x}<br>Growth Rate=%{y}<br>2023 population=%{marker.size}<extra></extra>",
                  "hovertext": [
                    "United States",
                    "Mexico",
                    "Canada",
                    "Guatemala",
                    "Haiti",
                    "Dominican Republic",
                    "Cuba",
                    "Honduras",
                    "Nicaragua",
                    "El Salvador",
                    "Costa Rica",
                    "Panama",
                    "Puerto Rico",
                    "Jamaica",
                    "Trinidad and Tobago",
                    "Bahamas",
                    "Belize",
                    "Guadeloupe",
                    "Martinique",
                    "Barbados",
                    "Curacao",
                    "Saint Lucia",
                    "Grenada",
                    "Aruba",
                    "Saint Vincent and the Grenadines",
                    "United States Virgin Islands",
                    "Antigua and Barbuda",
                    "Dominica",
                    "Cayman Islands",
                    "Bermuda",
                    "Greenland",
                    "Saint Kitts and Nevis",
                    "Turks and Caicos Islands",
                    "Sint Maarten",
                    "Saint Martin",
                    "British Virgin Islands",
                    "Anguilla",
                    "Saint Barthelemy",
                    "Saint Pierre and Miquelon",
                    "Montserrat"
                  ],
                  "legendgroup": "North America",
                  "marker": {
                    "color": "#482677",
                    "size": [
                      339996563,
                      128455567,
                      38781291,
                      18092026,
                      11724763,
                      11332972,
                      11194449,
                      10593798,
                      7046310,
                      6364943,
                      5212173,
                      4468087,
                      3260314,
                      2825544,
                      1534937,
                      412623,
                      410825,
                      395839,
                      366981,
                      281995,
                      192077,
                      180251,
                      126183,
                      106277,
                      103698,
                      98750,
                      94298,
                      73040,
                      69310,
                      64069,
                      56643,
                      47755,
                      46062,
                      44222,
                      32077,
                      31538,
                      15899,
                      10994,
                      5840,
                      4386
                    ],
                    "sizemode": "area",
                    "sizeref": 1587364.07,
                    "symbol": "circle"
                  },
                  "mode": "markers",
                  "name": "North America",
                  "orientation": "h",
                  "showlegend": true,
                  "x": [
                    37,
                    66,
                    4,
                    169,
                    425,
                    235,
                    108,
                    95,
                    59,
                    307,
                    102,
                    60,
                    368,
                    261,
                    299,
                    41,
                    18,
                    243,
                    325,
                    656,
                    433,
                    295,
                    371,
                    590,
                    266,
                    285,
                    214,
                    97,
                    289,
                    1186,
                    0,
                    184,
                    49,
                    1301,
                    642,
                    210,
                    175,
                    440,
                    24,
                    43
                  ],
                  "xaxis": "x",
                  "y": [
                    "0.50%",
                    "0.75%",
                    "0.85%",
                    "1.39%",
                    "1.21%",
                    "0.93%",
                    "-0.16%",
                    "1.54%",
                    "1.41%",
                    "0.45%",
                    "0.60%",
                    "1.35%",
                    "0.24%",
                    "-0.06%",
                    "0.25%",
                    "0.64%",
                    "1.37%",
                    "0.02%",
                    "-0.14%",
                    "0.13%",
                    "0.48%",
                    "0.22%",
                    "0.59%",
                    "-0.16%",
                    "-0.24%",
                    "-0.72%",
                    "0.57%",
                    "0.42%",
                    "0.88%",
                    "-0.18%",
                    "0.31%",
                    "0.21%",
                    "0.79%",
                    "0.11%",
                    "0.90%",
                    "0.74%",
                    "0.26%",
                    "0.25%",
                    "-0.38%",
                    "-0.09%"
                  ],
                  "yaxis": "y",
                  "type": "scatter"
                },
                {
                  "hovertemplate": "<b>%{hovertext}</b><br><br>continent=Africa<br>Population Density (people/km²)=%{x}<br>Growth Rate=%{y}<br>2023 population=%{marker.size}<extra></extra>",
                  "hovertext": [
                    "Nigeria",
                    "Ethiopia",
                    "Egypt",
                    "DR Congo",
                    "Tanzania",
                    "South Africa",
                    "Kenya",
                    "Uganda",
                    "Sudan",
                    "Algeria",
                    "Morocco",
                    "Angola",
                    "Ghana",
                    "Mozambique",
                    "Madagascar",
                    "Ivory Coast",
                    "Cameroon",
                    "Niger",
                    "Mali",
                    "Burkina Faso",
                    "Malawi",
                    "Zambia",
                    "Chad",
                    "Somalia",
                    "Senegal",
                    "Zimbabwe",
                    "Guinea",
                    "Rwanda",
                    "Benin",
                    "Burundi",
                    "Tunisia",
                    "South Sudan",
                    "Togo",
                    "Sierra Leone",
                    "Libya",
                    "Republic of the Congo",
                    "Central African Republic",
                    "Liberia",
                    "Mauritania",
                    "Eritrea",
                    "Gambia",
                    "Botswana",
                    "Namibia",
                    "Gabon",
                    "Lesotho",
                    "Guinea-Bissau",
                    "Equatorial Guinea",
                    "Mauritius",
                    "Eswatini",
                    "Djibouti",
                    "Reunion",
                    "Comoros",
                    "Cape Verde",
                    "Western Sahara",
                    "Mayotte",
                    "Sao Tome and Principe",
                    "Seychelles"
                  ],
                  "legendgroup": "Africa",
                  "marker": {
                    "color": "#3E4989",
                    "size": [
                      223804632,
                      126527060,
                      112716598,
                      102262808,
                      67438106,
                      60414495,
                      55100586,
                      48582334,
                      48109006,
                      45606480,
                      37840044,
                      36684202,
                      34121985,
                      33897354,
                      30325732,
                      28873034,
                      28647293,
                      27202843,
                      23293698,
                      23251485,
                      20931751,
                      20569737,
                      18278568,
                      18143378,
                      17763163,
                      16665409,
                      14190612,
                      14094683,
                      13712828,
                      13238559,
                      12458223,
                      11088796,
                      9053799,
                      8791092,
                      6888388,
                      6106869,
                      5742315,
                      5418377,
                      4862989,
                      3748901,
                      2773168,
                      2675352,
                      2604172,
                      2436566,
                      2330318,
                      2150842,
                      1714671,
                      1300557,
                      1210822,
                      1136455,
                      981796,
                      852075,
                      598682,
                      587259,
                      335995,
                      231856,
                      107660
                    ],
                    "sizemode": "area",
                    "sizeref": 1587364.07,
                    "symbol": "circle"
                  },
                  "mode": "markers",
                  "name": "Africa",
                  "orientation": "h",
                  "showlegend": true,
                  "x": [
                    246,
                    112,
                    113,
                    45,
                    76,
                    50,
                    97,
                    242,
                    26,
                    19,
                    85,
                    29,
                    150,
                    43,
                    52,
                    91,
                    61,
                    21,
                    19,
                    85,
                    222,
                    28,
                    15,
                    29,
                    92,
                    43,
                    58,
                    571,
                    122,
                    516,
                    80,
                    18,
                    166,
                    122,
                    4,
                    18,
                    9,
                    56,
                    5,
                    31,
                    274,
                    5,
                    3,
                    9,
                    77,
                    76,
                    61,
                    641,
                    70,
                    49,
                    391,
                    458,
                    148,
                    2,
                    898,
                    242,
                    234
                  ],
                  "xaxis": "x",
                  "y": [
                    "2.41%",
                    "2.55%",
                    "1.56%",
                    "3.29%",
                    "2.96%",
                    "0.87%",
                    "1.99%",
                    "2.82%",
                    "2.63%",
                    "1.57%",
                    "1.02%",
                    "3.08%",
                    "1.93%",
                    "2.81%",
                    "2.41%",
                    "2.53%",
                    "2.63%",
                    "3.80%",
                    "3.10%",
                    "2.55%",
                    "2.58%",
                    "2.76%",
                    "3.13%",
                    "3.10%",
                    "2.58%",
                    "2.11%",
                    "2.39%",
                    "2.31%",
                    "2.70%",
                    "2.71%",
                    "0.83%",
                    "1.61%",
                    "2.32%",
                    "2.15%",
                    "1.12%",
                    "2.29%",
                    "2.92%",
                    "2.18%",
                    "2.68%",
                    "1.76%",
                    "2.48%",
                    "1.71%",
                    "1.45%",
                    "1.99%",
                    "1.06%",
                    "2.15%",
                    "2.37%",
                    "0.08%",
                    "0.76%",
                    "1.39%",
                    "0.80%",
                    "1.83%",
                    "0.93%",
                    "1.96%",
                    "3.03%",
                    "1.97%",
                    "0.51%"
                  ],
                  "yaxis": "y",
                  "type": "scatter"
                },
                {
                  "hovertemplate": "<b>%{hovertext}</b><br><br>continent=South America<br>Population Density (people/km²)=%{x}<br>Growth Rate=%{y}<br>2023 population=%{marker.size}<extra></extra>",
                  "hovertext": [
                    "Brazil",
                    "Colombia",
                    "Argentina",
                    "Peru",
                    "Venezuela",
                    "Chile",
                    "Ecuador",
                    "Bolivia",
                    "Paraguay",
                    "Uruguay",
                    "Guyana",
                    "Suriname",
                    "French Guiana",
                    "Falkland Islands"
                  ],
                  "legendgroup": "South America",
                  "marker": {
                    "color": "#31688E",
                    "size": [
                      216422446,
                      52085168,
                      45773884,
                      34352719,
                      28838499,
                      19629590,
                      18190484,
                      12388571,
                      6861524,
                      3423108,
                      813834,
                      623236,
                      312155,
                      3791
                    ],
                    "sizemode": "area",
                    "sizeref": 1587364.07,
                    "symbol": "circle"
                  },
                  "mode": "markers",
                  "name": "South America",
                  "orientation": "h",
                  "showlegend": true,
                  "x": [
                    26,
                    47,
                    17,
                    27,
                    33,
                    26,
                    73,
                    11,
                    17,
                    20,
                    4,
                    4,
                    4,
                    0
                  ],
                  "xaxis": "x",
                  "y": [
                    "0.52%",
                    "0.41%",
                    "0.58%",
                    "0.89%",
                    "1.90%",
                    "0.13%",
                    "1.05%",
                    "1.35%",
                    "1.19%",
                    "0.01%",
                    "0.63%",
                    "0.84%",
                    "2.49%",
                    "0.29%"
                  ],
                  "yaxis": "y",
                  "type": "scatter"
                },
                {
                  "hovertemplate": "<b>%{hovertext}</b><br><br>continent=Europe<br>Population Density (people/km²)=%{x}<br>Growth Rate=%{y}<br>2023 population=%{marker.size}<extra></extra>",
                  "hovertext": [
                    "Russia",
                    "Germany",
                    "United Kingdom",
                    "France",
                    "Italy",
                    "Spain",
                    "Poland",
                    "Ukraine",
                    "Romania",
                    "Netherlands",
                    "Belgium",
                    "Sweden",
                    "Czech Republic",
                    "Greece",
                    "Portugal",
                    "Hungary",
                    "Belarus",
                    "Austria",
                    "Switzerland",
                    "Serbia",
                    "Bulgaria",
                    "Denmark",
                    "Slovakia",
                    "Finland",
                    "Norway",
                    "Ireland",
                    "Croatia",
                    "Moldova",
                    "Bosnia and Herzegovina",
                    "Albania",
                    "Lithuania",
                    "Slovenia",
                    "North Macedonia",
                    "Latvia",
                    "Estonia",
                    "Cyprus",
                    "Luxembourg",
                    "Montenegro",
                    "Malta",
                    "Iceland",
                    "Jersey",
                    "Isle of Man",
                    "Andorra",
                    "Guernsey",
                    "Faroe Islands",
                    "Liechtenstein",
                    "Monaco",
                    "San Marino",
                    "Gibraltar",
                    "Vatican City"
                  ],
                  "legendgroup": "Europe",
                  "marker": {
                    "color": "#26828E",
                    "size": [
                      144444359,
                      83294633,
                      67736802,
                      64756584,
                      58870762,
                      47519628,
                      41026067,
                      36744634,
                      19892812,
                      17618299,
                      11686140,
                      10612086,
                      10495295,
                      10341277,
                      10247605,
                      10156239,
                      9498238,
                      8958960,
                      8796669,
                      7149077,
                      6687717,
                      5910913,
                      5795199,
                      5545475,
                      5474360,
                      5056935,
                      4008617,
                      3435931,
                      3210847,
                      2832439,
                      2718352,
                      2119675,
                      2085679,
                      1830211,
                      1322765,
                      1260138,
                      654768,
                      626485,
                      535064,
                      375318,
                      111802,
                      84710,
                      80088,
                      63544,
                      53270,
                      39584,
                      36297,
                      33642,
                      32688,
                      518
                    ],
                    "sizemode": "area",
                    "sizeref": 1587364.07,
                    "symbol": "circle"
                  },
                  "mode": "markers",
                  "name": "Europe",
                  "orientation": "h",
                  "showlegend": true,
                  "x": [
                    9,
                    238,
                    280,
                    118,
                    199,
                    95,
                    134,
                    63,
                    86,
                    523,
                    386,
                    26,
                    136,
                    80,
                    112,
                    111,
                    47,
                    109,
                    223,
                    82,
                    62,
                    148,
                    118,
                    18,
                    15,
                    73,
                    72,
                    104,
                    63,
                    103,
                    43,
                    105,
                    83,
                    29,
                    31,
                    136,
                    254,
                    47,
                    1672,
                    4,
                    932,
                    149,
                    170,
                    1009,
                    39,
                    247,
                    18149,
                    561,
                    4807,
                    1177
                  ],
                  "xaxis": "x",
                  "y": [
                    "-0.19%",
                    "-0.09%",
                    "0.34%",
                    "0.20%",
                    "-0.28%",
                    "-0.08%",
                    "2.93%",
                    "-7.45%",
                    "1.19%",
                    "0.31%",
                    "0.26%",
                    "0.59%",
                    "0.01%",
                    "-0.42%",
                    "-0.23%",
                    "1.90%",
                    "-0.39%",
                    "0.22%",
                    "0.64%",
                    "-1.00%",
                    "-1.39%",
                    "0.49%",
                    "2.69%",
                    "0.09%",
                    "0.74%",
                    "0.67%",
                    "-0.54%",
                    "4.98%",
                    "-0.70%",
                    "-0.35%",
                    "-1.15%",
                    "-0.01%",
                    "-0.38%",
                    "-1.10%",
                    "-0.25%",
                    "0.69%",
                    "1.11%",
                    "-0.10%",
                    "0.33%",
                    "0.65%",
                    "0.92%",
                    "0.23%",
                    "0.33%",
                    "0.38%",
                    "0.34%",
                    "0.65%",
                    "-0.47%",
                    "-0.05%",
                    "0.12%",
                    "1.57%"
                  ],
                  "yaxis": "y",
                  "type": "scatter"
                },
                {
                  "hovertemplate": "<b>%{hovertext}</b><br><br>continent=Oceania<br>Population Density (people/km²)=%{x}<br>Growth Rate=%{y}<br>2023 population=%{marker.size}<extra></extra>",
                  "hovertext": [
                    "Australia",
                    "Papua New Guinea",
                    "New Zealand",
                    "Fiji",
                    "Solomon Islands",
                    "Vanuatu",
                    "French Polynesia",
                    "New Caledonia",
                    "Samoa",
                    "Guam",
                    "Kiribati",
                    "Micronesia",
                    "Tonga",
                    "Northern Mariana Islands",
                    "American Samoa",
                    "Marshall Islands",
                    "Palau",
                    "Cook Islands",
                    "Nauru",
                    "Wallis and Futuna",
                    "Tuvalu",
                    "Niue",
                    "Tokelau"
                  ],
                  "legendgroup": "Oceania",
                  "marker": {
                    "color": "#1F9E89",
                    "size": [
                      26439111,
                      10329931,
                      5228100,
                      936375,
                      740424,
                      334506,
                      308872,
                      292991,
                      225681,
                      172952,
                      133515,
                      115224,
                      107773,
                      49796,
                      43914,
                      41996,
                      18058,
                      17044,
                      12780,
                      11502,
                      11396,
                      1935,
                      1893
                    ],
                    "sizemode": "area",
                    "sizeref": 1587364.07,
                    "symbol": "circle"
                  },
                  "mode": "markers",
                  "name": "Oceania",
                  "orientation": "h",
                  "showlegend": true,
                  "x": [
                    3,
                    23,
                    20,
                    51,
                    26,
                    27,
                    89,
                    16,
                    81,
                    320,
                    165,
                    165,
                    150,
                    108,
                    220,
                    233,
                    39,
                    71,
                    639,
                    42,
                    380,
                    7,
                    189
                  ],
                  "xaxis": "x",
                  "y": [
                    "1.00%",
                    "1.85%",
                    "0.83%",
                    "0.71%",
                    "2.23%",
                    "2.38%",
                    "0.85%",
                    "1.05%",
                    "1.48%",
                    "0.69%",
                    "1.74%",
                    "0.93%",
                    "0.86%",
                    "0.49%",
                    "-0.81%",
                    "1.03%",
                    "0.02%",
                    "0.19%",
                    "0.88%",
                    "-0.60%",
                    "0.74%",
                    "0.05%",
                    "1.18%"
                  ],
                  "yaxis": "y",
                  "type": "scatter"
                }
              ],
              "layout": {
                "template": {
                  "data": {
                    "histogram2dcontour": [
                      {
                        "type": "histogram2dcontour",
                        "colorbar": {
                          "outlinewidth": 0,
                          "ticks": ""
                        },
                        "colorscale": [
                          [
                            0,
                            "#0d0887"
                          ],
                          [
                            0.1111111111111111,
                            "#46039f"
                          ],
                          [
                            0.2222222222222222,
                            "#7201a8"
                          ],
                          [
                            0.3333333333333333,
                            "#9c179e"
                          ],
                          [
                            0.4444444444444444,
                            "#bd3786"
                          ],
                          [
                            0.5555555555555556,
                            "#d8576b"
                          ],
                          [
                            0.6666666666666666,
                            "#ed7953"
                          ],
                          [
                            0.7777777777777778,
                            "#fb9f3a"
                          ],
                          [
                            0.8888888888888888,
                            "#fdca26"
                          ],
                          [
                            1,
                            "#f0f921"
                          ]
                        ]
                      }
                    ],
                    "choropleth": [
                      {
                        "type": "choropleth",
                        "colorbar": {
                          "outlinewidth": 0,
                          "ticks": ""
                        }
                      }
                    ],
                    "histogram2d": [
                      {
                        "type": "histogram2d",
                        "colorbar": {
                          "outlinewidth": 0,
                          "ticks": ""
                        },
                        "colorscale": [
                          [
                            0,
                            "#0d0887"
                          ],
                          [
                            0.1111111111111111,
                            "#46039f"
                          ],
                          [
                            0.2222222222222222,
                            "#7201a8"
                          ],
                          [
                            0.3333333333333333,
                            "#9c179e"
                          ],
                          [
                            0.4444444444444444,
                            "#bd3786"
                          ],
                          [
                            0.5555555555555556,
                            "#d8576b"
                          ],
                          [
                            0.6666666666666666,
                            "#ed7953"
                          ],
                          [
                            0.7777777777777778,
                            "#fb9f3a"
                          ],
                          [
                            0.8888888888888888,
                            "#fdca26"
                          ],
                          [
                            1,
                            "#f0f921"
                          ]
                        ]
                      }
                    ],
                    "heatmap": [
                      {
                        "type": "heatmap",
                        "colorbar": {
                          "outlinewidth": 0,
                          "ticks": ""
                        },
                        "colorscale": [
                          [
                            0,
                            "#0d0887"
                          ],
                          [
                            0.1111111111111111,
                            "#46039f"
                          ],
                          [
                            0.2222222222222222,
                            "#7201a8"
                          ],
                          [
                            0.3333333333333333,
                            "#9c179e"
                          ],
                          [
                            0.4444444444444444,
                            "#bd3786"
                          ],
                          [
                            0.5555555555555556,
                            "#d8576b"
                          ],
                          [
                            0.6666666666666666,
                            "#ed7953"
                          ],
                          [
                            0.7777777777777778,
                            "#fb9f3a"
                          ],
                          [
                            0.8888888888888888,
                            "#fdca26"
                          ],
                          [
                            1,
                            "#f0f921"
                          ]
                        ]
                      }
                    ],
                    "heatmapgl": [
                      {
                        "type": "heatmapgl",
                        "colorbar": {
                          "outlinewidth": 0,
                          "ticks": ""
                        },
                        "colorscale": [
                          [
                            0,
                            "#0d0887"
                          ],
                          [
                            0.1111111111111111,
                            "#46039f"
                          ],
                          [
                            0.2222222222222222,
                            "#7201a8"
                          ],
                          [
                            0.3333333333333333,
                            "#9c179e"
                          ],
                          [
                            0.4444444444444444,
                            "#bd3786"
                          ],
                          [
                            0.5555555555555556,
                            "#d8576b"
                          ],
                          [
                            0.6666666666666666,
                            "#ed7953"
                          ],
                          [
                            0.7777777777777778,
                            "#fb9f3a"
                          ],
                          [
                            0.8888888888888888,
                            "#fdca26"
                          ],
                          [
                            1,
                            "#f0f921"
                          ]
                        ]
                      }
                    ],
                    "contourcarpet": [
                      {
                        "type": "contourcarpet",
                        "colorbar": {
                          "outlinewidth": 0,
                          "ticks": ""
                        }
                      }
                    ],
                    "contour": [
                      {
                        "type": "contour",
                        "colorbar": {
                          "outlinewidth": 0,
                          "ticks": ""
                        },
                        "colorscale": [
                          [
                            0,
                            "#0d0887"
                          ],
                          [
                            0.1111111111111111,
                            "#46039f"
                          ],
                          [
                            0.2222222222222222,
                            "#7201a8"
                          ],
                          [
                            0.3333333333333333,
                            "#9c179e"
                          ],
                          [
                            0.4444444444444444,
                            "#bd3786"
                          ],
                          [
                            0.5555555555555556,
                            "#d8576b"
                          ],
                          [
                            0.6666666666666666,
                            "#ed7953"
                          ],
                          [
                            0.7777777777777778,
                            "#fb9f3a"
                          ],
                          [
                            0.8888888888888888,
                            "#fdca26"
                          ],
                          [
                            1,
                            "#f0f921"
                          ]
                        ]
                      }
                    ],
                    "surface": [
                      {
                        "type": "surface",
                        "colorbar": {
                          "outlinewidth": 0,
                          "ticks": ""
                        },
                        "colorscale": [
                          [
                            0,
                            "#0d0887"
                          ],
                          [
                            0.1111111111111111,
                            "#46039f"
                          ],
                          [
                            0.2222222222222222,
                            "#7201a8"
                          ],
                          [
                            0.3333333333333333,
                            "#9c179e"
                          ],
                          [
                            0.4444444444444444,
                            "#bd3786"
                          ],
                          [
                            0.5555555555555556,
                            "#d8576b"
                          ],
                          [
                            0.6666666666666666,
                            "#ed7953"
                          ],
                          [
                            0.7777777777777778,
                            "#fb9f3a"
                          ],
                          [
                            0.8888888888888888,
                            "#fdca26"
                          ],
                          [
                            1,
                            "#f0f921"
                          ]
                        ]
                      }
                    ],
                    "mesh3d": [
                      {
                        "type": "mesh3d",
                        "colorbar": {
                          "outlinewidth": 0,
                          "ticks": ""
                        }
                      }
                    ],
                    "scatter": [
                      {
                        "fillpattern": {
                          "fillmode": "overlay",
                          "size": 10,
                          "solidity": 0.2
                        },
                        "type": "scatter"
                      }
                    ],
                    "parcoords": [
                      {
                        "type": "parcoords",
                        "line": {
                          "colorbar": {
                            "outlinewidth": 0,
                            "ticks": ""
                          }
                        }
                      }
                    ],
                    "scatterpolargl": [
                      {
                        "type": "scatterpolargl",
                        "marker": {
                          "colorbar": {
                            "outlinewidth": 0,
                            "ticks": ""
                          }
                        }
                      }
                    ],
                    "bar": [
                      {
                        "error_x": {
                          "color": "#2a3f5f"
                        },
                        "error_y": {
                          "color": "#2a3f5f"
                        },
                        "marker": {
                          "line": {
                            "color": "#E5ECF6",
                            "width": 0.5
                          },
                          "pattern": {
                            "fillmode": "overlay",
                            "size": 10,
                            "solidity": 0.2
                          }
                        },
                        "type": "bar"
                      }
                    ],
                    "scattergeo": [
                      {
                        "type": "scattergeo",
                        "marker": {
                          "colorbar": {
                            "outlinewidth": 0,
                            "ticks": ""
                          }
                        }
                      }
                    ],
                    "scatterpolar": [
                      {
                        "type": "scatterpolar",
                        "marker": {
                          "colorbar": {
                            "outlinewidth": 0,
                            "ticks": ""
                          }
                        }
                      }
                    ],
                    "histogram": [
                      {
                        "marker": {
                          "pattern": {
                            "fillmode": "overlay",
                            "size": 10,
                            "solidity": 0.2
                          }
                        },
                        "type": "histogram"
                      }
                    ],
                    "scattergl": [
                      {
                        "type": "scattergl",
                        "marker": {
                          "colorbar": {
                            "outlinewidth": 0,
                            "ticks": ""
                          }
                        }
                      }
                    ],
                    "scatter3d": [
                      {
                        "type": "scatter3d",
                        "line": {
                          "colorbar": {
                            "outlinewidth": 0,
                            "ticks": ""
                          }
                        },
                        "marker": {
                          "colorbar": {
                            "outlinewidth": 0,
                            "ticks": ""
                          }
                        }
                      }
                    ],
                    "scattermapbox": [
                      {
                        "type": "scattermapbox",
                        "marker": {
                          "colorbar": {
                            "outlinewidth": 0,
                            "ticks": ""
                          }
                        }
                      }
                    ],
                    "scatterternary": [
                      {
                        "type": "scatterternary",
                        "marker": {
                          "colorbar": {
                            "outlinewidth": 0,
                            "ticks": ""
                          }
                        }
                      }
                    ],
                    "scattercarpet": [
                      {
                        "type": "scattercarpet",
                        "marker": {
                          "colorbar": {
                            "outlinewidth": 0,
                            "ticks": ""
                          }
                        }
                      }
                    ],
                    "carpet": [
                      {
                        "aaxis": {
                          "endlinecolor": "#2a3f5f",
                          "gridcolor": "white",
                          "linecolor": "white",
                          "minorgridcolor": "white",
                          "startlinecolor": "#2a3f5f"
                        },
                        "baxis": {
                          "endlinecolor": "#2a3f5f",
                          "gridcolor": "white",
                          "linecolor": "white",
                          "minorgridcolor": "white",
                          "startlinecolor": "#2a3f5f"
                        },
                        "type": "carpet"
                      }
                    ],
                    "table": [
                      {
                        "cells": {
                          "fill": {
                            "color": "#EBF0F8"
                          },
                          "line": {
                            "color": "white"
                          }
                        },
                        "header": {
                          "fill": {
                            "color": "#C8D4E3"
                          },
                          "line": {
                            "color": "white"
                          }
                        },
                        "type": "table"
                      }
                    ],
                    "barpolar": [
                      {
                        "marker": {
                          "line": {
                            "color": "#E5ECF6",
                            "width": 0.5
                          },
                          "pattern": {
                            "fillmode": "overlay",
                            "size": 10,
                            "solidity": 0.2
                          }
                        },
                        "type": "barpolar"
                      }
                    ],
                    "pie": [
                      {
                        "automargin": true,
                        "type": "pie"
                      }
                    ]
                  },
                  "layout": {
                    "autotypenumbers": "strict",
                    "colorway": [
                      "#636efa",
                      "#EF553B",
                      "#00cc96",
                      "#ab63fa",
                      "#FFA15A",
                      "#19d3f3",
                      "#FF6692",
                      "#B6E880",
                      "#FF97FF",
                      "#FECB52"
                    ],
                    "font": {
                      "color": "#2a3f5f"
                    },
                    "hovermode": "closest",
                    "hoverlabel": {
                      "align": "left"
                    },
                    "paper_bgcolor": "white",
                    "plot_bgcolor": "#E5ECF6",
                    "polar": {
                      "bgcolor": "#E5ECF6",
                      "angularaxis": {
                        "gridcolor": "white",
                        "linecolor": "white",
                        "ticks": ""
                      },
                      "radialaxis": {
                        "gridcolor": "white",
                        "linecolor": "white",
                        "ticks": ""
                      }
                    },
                    "ternary": {
                      "bgcolor": "#E5ECF6",
                      "aaxis": {
                        "gridcolor": "white",
                        "linecolor": "white",
                        "ticks": ""
                      },
                      "baxis": {
                        "gridcolor": "white",
                        "linecolor": "white",
                        "ticks": ""
                      },
                      "caxis": {
                        "gridcolor": "white",
                        "linecolor": "white",
                        "ticks": ""
                      }
                    },
                    "coloraxis": {
                      "colorbar": {
                        "outlinewidth": 0,
                        "ticks": ""
                      }
                    },
                    "colorscale": {
                      "sequential": [
                        [
                          0,
                          "#0d0887"
                        ],
                        [
                          0.1111111111111111,
                          "#46039f"
                        ],
                        [
                          0.2222222222222222,
                          "#7201a8"
                        ],
                        [
                          0.3333333333333333,
                          "#9c179e"
                        ],
                        [
                          0.4444444444444444,
                          "#bd3786"
                        ],
                        [
                          0.5555555555555556,
                          "#d8576b"
                        ],
                        [
                          0.6666666666666666,
                          "#ed7953"
                        ],
                        [
                          0.7777777777777778,
                          "#fb9f3a"
                        ],
                        [
                          0.8888888888888888,
                          "#fdca26"
                        ],
                        [
                          1,
                          "#f0f921"
                        ]
                      ],
                      "sequentialminus": [
                        [
                          0,
                          "#0d0887"
                        ],
                        [
                          0.1111111111111111,
                          "#46039f"
                        ],
                        [
                          0.2222222222222222,
                          "#7201a8"
                        ],
                        [
                          0.3333333333333333,
                          "#9c179e"
                        ],
                        [
                          0.4444444444444444,
                          "#bd3786"
                        ],
                        [
                          0.5555555555555556,
                          "#d8576b"
                        ],
                        [
                          0.6666666666666666,
                          "#ed7953"
                        ],
                        [
                          0.7777777777777778,
                          "#fb9f3a"
                        ],
                        [
                          0.8888888888888888,
                          "#fdca26"
                        ],
                        [
                          1,
                          "#f0f921"
                        ]
                      ],
                      "diverging": [
                        [
                          0,
                          "#8e0152"
                        ],
                        [
                          0.1,
                          "#c51b7d"
                        ],
                        [
                          0.2,
                          "#de77ae"
                        ],
                        [
                          0.3,
                          "#f1b6da"
                        ],
                        [
                          0.4,
                          "#fde0ef"
                        ],
                        [
                          0.5,
                          "#f7f7f7"
                        ],
                        [
                          0.6,
                          "#e6f5d0"
                        ],
                        [
                          0.7,
                          "#b8e186"
                        ],
                        [
                          0.8,
                          "#7fbc41"
                        ],
                        [
                          0.9,
                          "#4d9221"
                        ],
                        [
                          1,
                          "#276419"
                        ]
                      ]
                    },
                    "xaxis": {
                      "gridcolor": "white",
                      "linecolor": "white",
                      "ticks": "",
                      "title": {
                        "standoff": 15
                      },
                      "zerolinecolor": "white",
                      "automargin": true,
                      "zerolinewidth": 2
                    },
                    "yaxis": {
                      "gridcolor": "white",
                      "linecolor": "white",
                      "ticks": "",
                      "title": {
                        "standoff": 15
                      },
                      "zerolinecolor": "white",
                      "automargin": true,
                      "zerolinewidth": 2
                    },
                    "scene": {
                      "xaxis": {
                        "backgroundcolor": "#E5ECF6",
                        "gridcolor": "white",
                        "linecolor": "white",
                        "showbackground": true,
                        "ticks": "",
                        "zerolinecolor": "white",
                        "gridwidth": 2
                      },
                      "yaxis": {
                        "backgroundcolor": "#E5ECF6",
                        "gridcolor": "white",
                        "linecolor": "white",
                        "showbackground": true,
                        "ticks": "",
                        "zerolinecolor": "white",
                        "gridwidth": 2
                      },
                      "zaxis": {
                        "backgroundcolor": "#E5ECF6",
                        "gridcolor": "white",
                        "linecolor": "white",
                        "showbackground": true,
                        "ticks": "",
                        "zerolinecolor": "white",
                        "gridwidth": 2
                      }
                    },
                    "shapedefaults": {
                      "line": {
                        "color": "#2a3f5f"
                      }
                    },
                    "annotationdefaults": {
                      "arrowcolor": "#2a3f5f",
                      "arrowhead": 0,
                      "arrowwidth": 1
                    },
                    "geo": {
                      "bgcolor": "white",
                      "landcolor": "#E5ECF6",
                      "subunitcolor": "white",
                      "showland": true,
                      "showlakes": true,
                      "lakecolor": "white"
                    },
                    "title": {
                      "x": 0.05
                    },
                    "mapbox": {
                      "style": "light"
                    }
                  }
                },
                "xaxis": {
                  "anchor": "y",
                  "domain": [
                    0,
                    1
                  ],
                  "title": {
                    "text": "Population Density (people/km²)"
                  }
                },
                "yaxis": {
                  "anchor": "x",
                  "domain": [
                    0,
                    1
                  ],
                  "title": {
                    "text": "Growth Rate"
                  }
                },
                "legend": {
                  "title": {
                    "text": "continent"
                  },
                  "tracegroupgap": 0,
                  "itemsizing": "constant"
                },
                "title": {
                  "text": "Growth Rate vs. Population Density"
                },
                "width": 1200,
                "height": 800
              },
              "config": {
                "plotlyServerURL": "https://plot.ly"
              }
            },
            "text/html": "<div>                            <div id=\"41d5b198-8827-4d9b-9b8c-cfc8e677be5d\" class=\"plotly-graph-div\" style=\"height:800px; width:1200px;\"></div>            <script type=\"text/javascript\">                require([\"plotly\"], function(Plotly) {                    window.PLOTLYENV=window.PLOTLYENV || {};                                    if (document.getElementById(\"41d5b198-8827-4d9b-9b8c-cfc8e677be5d\")) {                    Plotly.newPlot(                        \"41d5b198-8827-4d9b-9b8c-cfc8e677be5d\",                        [{\"hovertemplate\":\"\\u003cb\\u003e%{hovertext}\\u003c\\u002fb\\u003e\\u003cbr\\u003e\\u003cbr\\u003econtinent=Asia\\u003cbr\\u003ePopulation Density (people\\u002fkm²)=%{x}\\u003cbr\\u003eGrowth Rate=%{y}\\u003cbr\\u003e2023 population=%{marker.size}\\u003cextra\\u003e\\u003c\\u002fextra\\u003e\",\"hovertext\":[\"India\",\"China\",\"Indonesia\",\"Pakistan\",\"Bangladesh\",\"Japan\",\"Philippines\",\"Vietnam\",\"Iran\",\"Turkey\",\"Thailand\",\"Myanmar\",\"South Korea\",\"Iraq\",\"Afghanistan\",\"Saudi Arabia\",\"Uzbekistan\",\"Yemen\",\"Malaysia\",\"Nepal\",\"North Korea\",\"Taiwan\",\"Syria\",\"Sri Lanka\",\"Kazakhstan\",\"Cambodia\",\"Jordan\",\"Azerbaijan\",\"Tajikistan\",\"United Arab Emirates\",\"Israel\",\"Laos\",\"Hong Kong\",\"Kyrgyzstan\",\"Turkmenistan\",\"Singapore\",\"Palestine\",\"Lebanon\",\"Oman\",\"Kuwait\",\"Georgia\",\"Mongolia\",\"Armenia\",\"Qatar\",\"Bahrain\",\"Timor-Leste\",\"Bhutan\",\"Macau\",\"Maldives\",\"Brunei\"],\"legendgroup\":\"Asia\",\"marker\":{\"color\":\"#440154\",\"size\":[1428627663,1425671352,277534122,240485658,172954319,123294513,117337368,98858950,89172767,85816199,71801279,54577997,51784059,45504560,42239854,36947025,35163944,34449825,34308525,30896590,26160821,23923276,23227014,21893579,19606633,16944826,11337052,10412651,10143543,9516871,9174520,7633779,7491609,6735347,6516100,6014723,5371230,5353930,4644384,4310108,3728282,3447157,2777970,2716391,1485509,1360596,787424,704149,521021,452524],\"sizemode\":\"area\",\"sizeref\":1587364.07,\"symbol\":\"circle\"},\"mode\":\"markers\",\"name\":\"Asia\",\"orientation\":\"h\",\"showlegend\":true,\"x\":[481,151,148,312,1329,338,394,315,55,110,141,84,531,105,65,17,80,65,104,216,217,661,126,354,7,96,128,126,73,134,424,33,7135,35,14,8377,892,523,15,242,54,2,98,236,1892,91,21,21403,1737,86],\"xaxis\":\"x\",\"y\":[\"0.81%\",\"-0.02%\",\"0.74%\",\"1.98%\",\"1.03%\",\"-0.53%\",\"1.54%\",\"0.68%\",\"0.70%\",\"0.56%\",\"0.15%\",\"0.74%\",\"-0.06%\",\"2.27%\",\"2.70%\",\"1.48%\",\"1.55%\",\"2.24%\",\"1.09%\",\"1.14%\",\"0.35%\",\"0.13%\",\"4.98%\",\"0.28%\",\"1.08%\",\"1.06%\",\"0.45%\",\"0.53%\",\"1.92%\",\"0.80%\",\"1.51%\",\"1.39%\",\"0.04%\",\"1.58%\",\"1.33%\",\"0.65%\",\"2.31%\",\"-2.47%\",\"1.49%\",\"0.97%\",\"-0.43%\",\"1.44%\",\"-0.09%\",\"0.79%\",\"0.90%\",\"1.44%\",\"0.64%\",\"1.29%\",\"-0.53%\",\"0.78%\"],\"yaxis\":\"y\",\"type\":\"scatter\"},{\"hovertemplate\":\"\\u003cb\\u003e%{hovertext}\\u003c\\u002fb\\u003e\\u003cbr\\u003e\\u003cbr\\u003econtinent=North America\\u003cbr\\u003ePopulation Density (people\\u002fkm²)=%{x}\\u003cbr\\u003eGrowth Rate=%{y}\\u003cbr\\u003e2023 population=%{marker.size}\\u003cextra\\u003e\\u003c\\u002fextra\\u003e\",\"hovertext\":[\"United States\",\"Mexico\",\"Canada\",\"Guatemala\",\"Haiti\",\"Dominican Republic\",\"Cuba\",\"Honduras\",\"Nicaragua\",\"El Salvador\",\"Costa Rica\",\"Panama\",\"Puerto Rico\",\"Jamaica\",\"Trinidad and Tobago\",\"Bahamas\",\"Belize\",\"Guadeloupe\",\"Martinique\",\"Barbados\",\"Curacao\",\"Saint Lucia\",\"Grenada\",\"Aruba\",\"Saint Vincent and the Grenadines\",\"United States Virgin Islands\",\"Antigua and Barbuda\",\"Dominica\",\"Cayman Islands\",\"Bermuda\",\"Greenland\",\"Saint Kitts and Nevis\",\"Turks and Caicos Islands\",\"Sint Maarten\",\"Saint Martin\",\"British Virgin Islands\",\"Anguilla\",\"Saint Barthelemy\",\"Saint Pierre and Miquelon\",\"Montserrat\"],\"legendgroup\":\"North America\",\"marker\":{\"color\":\"#482677\",\"size\":[339996563,128455567,38781291,18092026,11724763,11332972,11194449,10593798,7046310,6364943,5212173,4468087,3260314,2825544,1534937,412623,410825,395839,366981,281995,192077,180251,126183,106277,103698,98750,94298,73040,69310,64069,56643,47755,46062,44222,32077,31538,15899,10994,5840,4386],\"sizemode\":\"area\",\"sizeref\":1587364.07,\"symbol\":\"circle\"},\"mode\":\"markers\",\"name\":\"North America\",\"orientation\":\"h\",\"showlegend\":true,\"x\":[37,66,4,169,425,235,108,95,59,307,102,60,368,261,299,41,18,243,325,656,433,295,371,590,266,285,214,97,289,1186,0,184,49,1301,642,210,175,440,24,43],\"xaxis\":\"x\",\"y\":[\"0.50%\",\"0.75%\",\"0.85%\",\"1.39%\",\"1.21%\",\"0.93%\",\"-0.16%\",\"1.54%\",\"1.41%\",\"0.45%\",\"0.60%\",\"1.35%\",\"0.24%\",\"-0.06%\",\"0.25%\",\"0.64%\",\"1.37%\",\"0.02%\",\"-0.14%\",\"0.13%\",\"0.48%\",\"0.22%\",\"0.59%\",\"-0.16%\",\"-0.24%\",\"-0.72%\",\"0.57%\",\"0.42%\",\"0.88%\",\"-0.18%\",\"0.31%\",\"0.21%\",\"0.79%\",\"0.11%\",\"0.90%\",\"0.74%\",\"0.26%\",\"0.25%\",\"-0.38%\",\"-0.09%\"],\"yaxis\":\"y\",\"type\":\"scatter\"},{\"hovertemplate\":\"\\u003cb\\u003e%{hovertext}\\u003c\\u002fb\\u003e\\u003cbr\\u003e\\u003cbr\\u003econtinent=Africa\\u003cbr\\u003ePopulation Density (people\\u002fkm²)=%{x}\\u003cbr\\u003eGrowth Rate=%{y}\\u003cbr\\u003e2023 population=%{marker.size}\\u003cextra\\u003e\\u003c\\u002fextra\\u003e\",\"hovertext\":[\"Nigeria\",\"Ethiopia\",\"Egypt\",\"DR Congo\",\"Tanzania\",\"South Africa\",\"Kenya\",\"Uganda\",\"Sudan\",\"Algeria\",\"Morocco\",\"Angola\",\"Ghana\",\"Mozambique\",\"Madagascar\",\"Ivory Coast\",\"Cameroon\",\"Niger\",\"Mali\",\"Burkina Faso\",\"Malawi\",\"Zambia\",\"Chad\",\"Somalia\",\"Senegal\",\"Zimbabwe\",\"Guinea\",\"Rwanda\",\"Benin\",\"Burundi\",\"Tunisia\",\"South Sudan\",\"Togo\",\"Sierra Leone\",\"Libya\",\"Republic of the Congo\",\"Central African Republic\",\"Liberia\",\"Mauritania\",\"Eritrea\",\"Gambia\",\"Botswana\",\"Namibia\",\"Gabon\",\"Lesotho\",\"Guinea-Bissau\",\"Equatorial Guinea\",\"Mauritius\",\"Eswatini\",\"Djibouti\",\"Reunion\",\"Comoros\",\"Cape Verde\",\"Western Sahara\",\"Mayotte\",\"Sao Tome and Principe\",\"Seychelles\"],\"legendgroup\":\"Africa\",\"marker\":{\"color\":\"#3E4989\",\"size\":[223804632,126527060,112716598,102262808,67438106,60414495,55100586,48582334,48109006,45606480,37840044,36684202,34121985,33897354,30325732,28873034,28647293,27202843,23293698,23251485,20931751,20569737,18278568,18143378,17763163,16665409,14190612,14094683,13712828,13238559,12458223,11088796,9053799,8791092,6888388,6106869,5742315,5418377,4862989,3748901,2773168,2675352,2604172,2436566,2330318,2150842,1714671,1300557,1210822,1136455,981796,852075,598682,587259,335995,231856,107660],\"sizemode\":\"area\",\"sizeref\":1587364.07,\"symbol\":\"circle\"},\"mode\":\"markers\",\"name\":\"Africa\",\"orientation\":\"h\",\"showlegend\":true,\"x\":[246,112,113,45,76,50,97,242,26,19,85,29,150,43,52,91,61,21,19,85,222,28,15,29,92,43,58,571,122,516,80,18,166,122,4,18,9,56,5,31,274,5,3,9,77,76,61,641,70,49,391,458,148,2,898,242,234],\"xaxis\":\"x\",\"y\":[\"2.41%\",\"2.55%\",\"1.56%\",\"3.29%\",\"2.96%\",\"0.87%\",\"1.99%\",\"2.82%\",\"2.63%\",\"1.57%\",\"1.02%\",\"3.08%\",\"1.93%\",\"2.81%\",\"2.41%\",\"2.53%\",\"2.63%\",\"3.80%\",\"3.10%\",\"2.55%\",\"2.58%\",\"2.76%\",\"3.13%\",\"3.10%\",\"2.58%\",\"2.11%\",\"2.39%\",\"2.31%\",\"2.70%\",\"2.71%\",\"0.83%\",\"1.61%\",\"2.32%\",\"2.15%\",\"1.12%\",\"2.29%\",\"2.92%\",\"2.18%\",\"2.68%\",\"1.76%\",\"2.48%\",\"1.71%\",\"1.45%\",\"1.99%\",\"1.06%\",\"2.15%\",\"2.37%\",\"0.08%\",\"0.76%\",\"1.39%\",\"0.80%\",\"1.83%\",\"0.93%\",\"1.96%\",\"3.03%\",\"1.97%\",\"0.51%\"],\"yaxis\":\"y\",\"type\":\"scatter\"},{\"hovertemplate\":\"\\u003cb\\u003e%{hovertext}\\u003c\\u002fb\\u003e\\u003cbr\\u003e\\u003cbr\\u003econtinent=South America\\u003cbr\\u003ePopulation Density (people\\u002fkm²)=%{x}\\u003cbr\\u003eGrowth Rate=%{y}\\u003cbr\\u003e2023 population=%{marker.size}\\u003cextra\\u003e\\u003c\\u002fextra\\u003e\",\"hovertext\":[\"Brazil\",\"Colombia\",\"Argentina\",\"Peru\",\"Venezuela\",\"Chile\",\"Ecuador\",\"Bolivia\",\"Paraguay\",\"Uruguay\",\"Guyana\",\"Suriname\",\"French Guiana\",\"Falkland Islands\"],\"legendgroup\":\"South America\",\"marker\":{\"color\":\"#31688E\",\"size\":[216422446,52085168,45773884,34352719,28838499,19629590,18190484,12388571,6861524,3423108,813834,623236,312155,3791],\"sizemode\":\"area\",\"sizeref\":1587364.07,\"symbol\":\"circle\"},\"mode\":\"markers\",\"name\":\"South America\",\"orientation\":\"h\",\"showlegend\":true,\"x\":[26,47,17,27,33,26,73,11,17,20,4,4,4,0],\"xaxis\":\"x\",\"y\":[\"0.52%\",\"0.41%\",\"0.58%\",\"0.89%\",\"1.90%\",\"0.13%\",\"1.05%\",\"1.35%\",\"1.19%\",\"0.01%\",\"0.63%\",\"0.84%\",\"2.49%\",\"0.29%\"],\"yaxis\":\"y\",\"type\":\"scatter\"},{\"hovertemplate\":\"\\u003cb\\u003e%{hovertext}\\u003c\\u002fb\\u003e\\u003cbr\\u003e\\u003cbr\\u003econtinent=Europe\\u003cbr\\u003ePopulation Density (people\\u002fkm²)=%{x}\\u003cbr\\u003eGrowth Rate=%{y}\\u003cbr\\u003e2023 population=%{marker.size}\\u003cextra\\u003e\\u003c\\u002fextra\\u003e\",\"hovertext\":[\"Russia\",\"Germany\",\"United Kingdom\",\"France\",\"Italy\",\"Spain\",\"Poland\",\"Ukraine\",\"Romania\",\"Netherlands\",\"Belgium\",\"Sweden\",\"Czech Republic\",\"Greece\",\"Portugal\",\"Hungary\",\"Belarus\",\"Austria\",\"Switzerland\",\"Serbia\",\"Bulgaria\",\"Denmark\",\"Slovakia\",\"Finland\",\"Norway\",\"Ireland\",\"Croatia\",\"Moldova\",\"Bosnia and Herzegovina\",\"Albania\",\"Lithuania\",\"Slovenia\",\"North Macedonia\",\"Latvia\",\"Estonia\",\"Cyprus\",\"Luxembourg\",\"Montenegro\",\"Malta\",\"Iceland\",\"Jersey\",\"Isle of Man\",\"Andorra\",\"Guernsey\",\"Faroe Islands\",\"Liechtenstein\",\"Monaco\",\"San Marino\",\"Gibraltar\",\"Vatican City\"],\"legendgroup\":\"Europe\",\"marker\":{\"color\":\"#26828E\",\"size\":[144444359,83294633,67736802,64756584,58870762,47519628,41026067,36744634,19892812,17618299,11686140,10612086,10495295,10341277,10247605,10156239,9498238,8958960,8796669,7149077,6687717,5910913,5795199,5545475,5474360,5056935,4008617,3435931,3210847,2832439,2718352,2119675,2085679,1830211,1322765,1260138,654768,626485,535064,375318,111802,84710,80088,63544,53270,39584,36297,33642,32688,518],\"sizemode\":\"area\",\"sizeref\":1587364.07,\"symbol\":\"circle\"},\"mode\":\"markers\",\"name\":\"Europe\",\"orientation\":\"h\",\"showlegend\":true,\"x\":[9,238,280,118,199,95,134,63,86,523,386,26,136,80,112,111,47,109,223,82,62,148,118,18,15,73,72,104,63,103,43,105,83,29,31,136,254,47,1672,4,932,149,170,1009,39,247,18149,561,4807,1177],\"xaxis\":\"x\",\"y\":[\"-0.19%\",\"-0.09%\",\"0.34%\",\"0.20%\",\"-0.28%\",\"-0.08%\",\"2.93%\",\"-7.45%\",\"1.19%\",\"0.31%\",\"0.26%\",\"0.59%\",\"0.01%\",\"-0.42%\",\"-0.23%\",\"1.90%\",\"-0.39%\",\"0.22%\",\"0.64%\",\"-1.00%\",\"-1.39%\",\"0.49%\",\"2.69%\",\"0.09%\",\"0.74%\",\"0.67%\",\"-0.54%\",\"4.98%\",\"-0.70%\",\"-0.35%\",\"-1.15%\",\"-0.01%\",\"-0.38%\",\"-1.10%\",\"-0.25%\",\"0.69%\",\"1.11%\",\"-0.10%\",\"0.33%\",\"0.65%\",\"0.92%\",\"0.23%\",\"0.33%\",\"0.38%\",\"0.34%\",\"0.65%\",\"-0.47%\",\"-0.05%\",\"0.12%\",\"1.57%\"],\"yaxis\":\"y\",\"type\":\"scatter\"},{\"hovertemplate\":\"\\u003cb\\u003e%{hovertext}\\u003c\\u002fb\\u003e\\u003cbr\\u003e\\u003cbr\\u003econtinent=Oceania\\u003cbr\\u003ePopulation Density (people\\u002fkm²)=%{x}\\u003cbr\\u003eGrowth Rate=%{y}\\u003cbr\\u003e2023 population=%{marker.size}\\u003cextra\\u003e\\u003c\\u002fextra\\u003e\",\"hovertext\":[\"Australia\",\"Papua New Guinea\",\"New Zealand\",\"Fiji\",\"Solomon Islands\",\"Vanuatu\",\"French Polynesia\",\"New Caledonia\",\"Samoa\",\"Guam\",\"Kiribati\",\"Micronesia\",\"Tonga\",\"Northern Mariana Islands\",\"American Samoa\",\"Marshall Islands\",\"Palau\",\"Cook Islands\",\"Nauru\",\"Wallis and Futuna\",\"Tuvalu\",\"Niue\",\"Tokelau\"],\"legendgroup\":\"Oceania\",\"marker\":{\"color\":\"#1F9E89\",\"size\":[26439111,10329931,5228100,936375,740424,334506,308872,292991,225681,172952,133515,115224,107773,49796,43914,41996,18058,17044,12780,11502,11396,1935,1893],\"sizemode\":\"area\",\"sizeref\":1587364.07,\"symbol\":\"circle\"},\"mode\":\"markers\",\"name\":\"Oceania\",\"orientation\":\"h\",\"showlegend\":true,\"x\":[3,23,20,51,26,27,89,16,81,320,165,165,150,108,220,233,39,71,639,42,380,7,189],\"xaxis\":\"x\",\"y\":[\"1.00%\",\"1.85%\",\"0.83%\",\"0.71%\",\"2.23%\",\"2.38%\",\"0.85%\",\"1.05%\",\"1.48%\",\"0.69%\",\"1.74%\",\"0.93%\",\"0.86%\",\"0.49%\",\"-0.81%\",\"1.03%\",\"0.02%\",\"0.19%\",\"0.88%\",\"-0.60%\",\"0.74%\",\"0.05%\",\"1.18%\"],\"yaxis\":\"y\",\"type\":\"scatter\"}],                        {\"template\":{\"data\":{\"histogram2dcontour\":[{\"type\":\"histogram2dcontour\",\"colorbar\":{\"outlinewidth\":0,\"ticks\":\"\"},\"colorscale\":[[0.0,\"#0d0887\"],[0.1111111111111111,\"#46039f\"],[0.2222222222222222,\"#7201a8\"],[0.3333333333333333,\"#9c179e\"],[0.4444444444444444,\"#bd3786\"],[0.5555555555555556,\"#d8576b\"],[0.6666666666666666,\"#ed7953\"],[0.7777777777777778,\"#fb9f3a\"],[0.8888888888888888,\"#fdca26\"],[1.0,\"#f0f921\"]]}],\"choropleth\":[{\"type\":\"choropleth\",\"colorbar\":{\"outlinewidth\":0,\"ticks\":\"\"}}],\"histogram2d\":[{\"type\":\"histogram2d\",\"colorbar\":{\"outlinewidth\":0,\"ticks\":\"\"},\"colorscale\":[[0.0,\"#0d0887\"],[0.1111111111111111,\"#46039f\"],[0.2222222222222222,\"#7201a8\"],[0.3333333333333333,\"#9c179e\"],[0.4444444444444444,\"#bd3786\"],[0.5555555555555556,\"#d8576b\"],[0.6666666666666666,\"#ed7953\"],[0.7777777777777778,\"#fb9f3a\"],[0.8888888888888888,\"#fdca26\"],[1.0,\"#f0f921\"]]}],\"heatmap\":[{\"type\":\"heatmap\",\"colorbar\":{\"outlinewidth\":0,\"ticks\":\"\"},\"colorscale\":[[0.0,\"#0d0887\"],[0.1111111111111111,\"#46039f\"],[0.2222222222222222,\"#7201a8\"],[0.3333333333333333,\"#9c179e\"],[0.4444444444444444,\"#bd3786\"],[0.5555555555555556,\"#d8576b\"],[0.6666666666666666,\"#ed7953\"],[0.7777777777777778,\"#fb9f3a\"],[0.8888888888888888,\"#fdca26\"],[1.0,\"#f0f921\"]]}],\"heatmapgl\":[{\"type\":\"heatmapgl\",\"colorbar\":{\"outlinewidth\":0,\"ticks\":\"\"},\"colorscale\":[[0.0,\"#0d0887\"],[0.1111111111111111,\"#46039f\"],[0.2222222222222222,\"#7201a8\"],[0.3333333333333333,\"#9c179e\"],[0.4444444444444444,\"#bd3786\"],[0.5555555555555556,\"#d8576b\"],[0.6666666666666666,\"#ed7953\"],[0.7777777777777778,\"#fb9f3a\"],[0.8888888888888888,\"#fdca26\"],[1.0,\"#f0f921\"]]}],\"contourcarpet\":[{\"type\":\"contourcarpet\",\"colorbar\":{\"outlinewidth\":0,\"ticks\":\"\"}}],\"contour\":[{\"type\":\"contour\",\"colorbar\":{\"outlinewidth\":0,\"ticks\":\"\"},\"colorscale\":[[0.0,\"#0d0887\"],[0.1111111111111111,\"#46039f\"],[0.2222222222222222,\"#7201a8\"],[0.3333333333333333,\"#9c179e\"],[0.4444444444444444,\"#bd3786\"],[0.5555555555555556,\"#d8576b\"],[0.6666666666666666,\"#ed7953\"],[0.7777777777777778,\"#fb9f3a\"],[0.8888888888888888,\"#fdca26\"],[1.0,\"#f0f921\"]]}],\"surface\":[{\"type\":\"surface\",\"colorbar\":{\"outlinewidth\":0,\"ticks\":\"\"},\"colorscale\":[[0.0,\"#0d0887\"],[0.1111111111111111,\"#46039f\"],[0.2222222222222222,\"#7201a8\"],[0.3333333333333333,\"#9c179e\"],[0.4444444444444444,\"#bd3786\"],[0.5555555555555556,\"#d8576b\"],[0.6666666666666666,\"#ed7953\"],[0.7777777777777778,\"#fb9f3a\"],[0.8888888888888888,\"#fdca26\"],[1.0,\"#f0f921\"]]}],\"mesh3d\":[{\"type\":\"mesh3d\",\"colorbar\":{\"outlinewidth\":0,\"ticks\":\"\"}}],\"scatter\":[{\"fillpattern\":{\"fillmode\":\"overlay\",\"size\":10,\"solidity\":0.2},\"type\":\"scatter\"}],\"parcoords\":[{\"type\":\"parcoords\",\"line\":{\"colorbar\":{\"outlinewidth\":0,\"ticks\":\"\"}}}],\"scatterpolargl\":[{\"type\":\"scatterpolargl\",\"marker\":{\"colorbar\":{\"outlinewidth\":0,\"ticks\":\"\"}}}],\"bar\":[{\"error_x\":{\"color\":\"#2a3f5f\"},\"error_y\":{\"color\":\"#2a3f5f\"},\"marker\":{\"line\":{\"color\":\"#E5ECF6\",\"width\":0.5},\"pattern\":{\"fillmode\":\"overlay\",\"size\":10,\"solidity\":0.2}},\"type\":\"bar\"}],\"scattergeo\":[{\"type\":\"scattergeo\",\"marker\":{\"colorbar\":{\"outlinewidth\":0,\"ticks\":\"\"}}}],\"scatterpolar\":[{\"type\":\"scatterpolar\",\"marker\":{\"colorbar\":{\"outlinewidth\":0,\"ticks\":\"\"}}}],\"histogram\":[{\"marker\":{\"pattern\":{\"fillmode\":\"overlay\",\"size\":10,\"solidity\":0.2}},\"type\":\"histogram\"}],\"scattergl\":[{\"type\":\"scattergl\",\"marker\":{\"colorbar\":{\"outlinewidth\":0,\"ticks\":\"\"}}}],\"scatter3d\":[{\"type\":\"scatter3d\",\"line\":{\"colorbar\":{\"outlinewidth\":0,\"ticks\":\"\"}},\"marker\":{\"colorbar\":{\"outlinewidth\":0,\"ticks\":\"\"}}}],\"scattermapbox\":[{\"type\":\"scattermapbox\",\"marker\":{\"colorbar\":{\"outlinewidth\":0,\"ticks\":\"\"}}}],\"scatterternary\":[{\"type\":\"scatterternary\",\"marker\":{\"colorbar\":{\"outlinewidth\":0,\"ticks\":\"\"}}}],\"scattercarpet\":[{\"type\":\"scattercarpet\",\"marker\":{\"colorbar\":{\"outlinewidth\":0,\"ticks\":\"\"}}}],\"carpet\":[{\"aaxis\":{\"endlinecolor\":\"#2a3f5f\",\"gridcolor\":\"white\",\"linecolor\":\"white\",\"minorgridcolor\":\"white\",\"startlinecolor\":\"#2a3f5f\"},\"baxis\":{\"endlinecolor\":\"#2a3f5f\",\"gridcolor\":\"white\",\"linecolor\":\"white\",\"minorgridcolor\":\"white\",\"startlinecolor\":\"#2a3f5f\"},\"type\":\"carpet\"}],\"table\":[{\"cells\":{\"fill\":{\"color\":\"#EBF0F8\"},\"line\":{\"color\":\"white\"}},\"header\":{\"fill\":{\"color\":\"#C8D4E3\"},\"line\":{\"color\":\"white\"}},\"type\":\"table\"}],\"barpolar\":[{\"marker\":{\"line\":{\"color\":\"#E5ECF6\",\"width\":0.5},\"pattern\":{\"fillmode\":\"overlay\",\"size\":10,\"solidity\":0.2}},\"type\":\"barpolar\"}],\"pie\":[{\"automargin\":true,\"type\":\"pie\"}]},\"layout\":{\"autotypenumbers\":\"strict\",\"colorway\":[\"#636efa\",\"#EF553B\",\"#00cc96\",\"#ab63fa\",\"#FFA15A\",\"#19d3f3\",\"#FF6692\",\"#B6E880\",\"#FF97FF\",\"#FECB52\"],\"font\":{\"color\":\"#2a3f5f\"},\"hovermode\":\"closest\",\"hoverlabel\":{\"align\":\"left\"},\"paper_bgcolor\":\"white\",\"plot_bgcolor\":\"#E5ECF6\",\"polar\":{\"bgcolor\":\"#E5ECF6\",\"angularaxis\":{\"gridcolor\":\"white\",\"linecolor\":\"white\",\"ticks\":\"\"},\"radialaxis\":{\"gridcolor\":\"white\",\"linecolor\":\"white\",\"ticks\":\"\"}},\"ternary\":{\"bgcolor\":\"#E5ECF6\",\"aaxis\":{\"gridcolor\":\"white\",\"linecolor\":\"white\",\"ticks\":\"\"},\"baxis\":{\"gridcolor\":\"white\",\"linecolor\":\"white\",\"ticks\":\"\"},\"caxis\":{\"gridcolor\":\"white\",\"linecolor\":\"white\",\"ticks\":\"\"}},\"coloraxis\":{\"colorbar\":{\"outlinewidth\":0,\"ticks\":\"\"}},\"colorscale\":{\"sequential\":[[0.0,\"#0d0887\"],[0.1111111111111111,\"#46039f\"],[0.2222222222222222,\"#7201a8\"],[0.3333333333333333,\"#9c179e\"],[0.4444444444444444,\"#bd3786\"],[0.5555555555555556,\"#d8576b\"],[0.6666666666666666,\"#ed7953\"],[0.7777777777777778,\"#fb9f3a\"],[0.8888888888888888,\"#fdca26\"],[1.0,\"#f0f921\"]],\"sequentialminus\":[[0.0,\"#0d0887\"],[0.1111111111111111,\"#46039f\"],[0.2222222222222222,\"#7201a8\"],[0.3333333333333333,\"#9c179e\"],[0.4444444444444444,\"#bd3786\"],[0.5555555555555556,\"#d8576b\"],[0.6666666666666666,\"#ed7953\"],[0.7777777777777778,\"#fb9f3a\"],[0.8888888888888888,\"#fdca26\"],[1.0,\"#f0f921\"]],\"diverging\":[[0,\"#8e0152\"],[0.1,\"#c51b7d\"],[0.2,\"#de77ae\"],[0.3,\"#f1b6da\"],[0.4,\"#fde0ef\"],[0.5,\"#f7f7f7\"],[0.6,\"#e6f5d0\"],[0.7,\"#b8e186\"],[0.8,\"#7fbc41\"],[0.9,\"#4d9221\"],[1,\"#276419\"]]},\"xaxis\":{\"gridcolor\":\"white\",\"linecolor\":\"white\",\"ticks\":\"\",\"title\":{\"standoff\":15},\"zerolinecolor\":\"white\",\"automargin\":true,\"zerolinewidth\":2},\"yaxis\":{\"gridcolor\":\"white\",\"linecolor\":\"white\",\"ticks\":\"\",\"title\":{\"standoff\":15},\"zerolinecolor\":\"white\",\"automargin\":true,\"zerolinewidth\":2},\"scene\":{\"xaxis\":{\"backgroundcolor\":\"#E5ECF6\",\"gridcolor\":\"white\",\"linecolor\":\"white\",\"showbackground\":true,\"ticks\":\"\",\"zerolinecolor\":\"white\",\"gridwidth\":2},\"yaxis\":{\"backgroundcolor\":\"#E5ECF6\",\"gridcolor\":\"white\",\"linecolor\":\"white\",\"showbackground\":true,\"ticks\":\"\",\"zerolinecolor\":\"white\",\"gridwidth\":2},\"zaxis\":{\"backgroundcolor\":\"#E5ECF6\",\"gridcolor\":\"white\",\"linecolor\":\"white\",\"showbackground\":true,\"ticks\":\"\",\"zerolinecolor\":\"white\",\"gridwidth\":2}},\"shapedefaults\":{\"line\":{\"color\":\"#2a3f5f\"}},\"annotationdefaults\":{\"arrowcolor\":\"#2a3f5f\",\"arrowhead\":0,\"arrowwidth\":1},\"geo\":{\"bgcolor\":\"white\",\"landcolor\":\"#E5ECF6\",\"subunitcolor\":\"white\",\"showland\":true,\"showlakes\":true,\"lakecolor\":\"white\"},\"title\":{\"x\":0.05},\"mapbox\":{\"style\":\"light\"}}},\"xaxis\":{\"anchor\":\"y\",\"domain\":[0.0,1.0],\"title\":{\"text\":\"Population Density (people\\u002fkm²)\"}},\"yaxis\":{\"anchor\":\"x\",\"domain\":[0.0,1.0],\"title\":{\"text\":\"Growth Rate\"}},\"legend\":{\"title\":{\"text\":\"continent\"},\"tracegroupgap\":0,\"itemsizing\":\"constant\"},\"title\":{\"text\":\"Growth Rate vs. Population Density\"},\"width\":1200,\"height\":800},                        {\"responsive\": true}                    ).then(function(){\n                            \nvar gd = document.getElementById('41d5b198-8827-4d9b-9b8c-cfc8e677be5d');\nvar x = new MutationObserver(function (mutations, observer) {{\n        var display = window.getComputedStyle(gd).display;\n        if (!display || display === 'none') {{\n            console.log([gd, 'removed!']);\n            Plotly.purge(gd);\n            observer.disconnect();\n        }}\n}});\n\n// Listen for the removal of the full notebook cells\nvar notebookContainer = gd.closest('#notebook-container');\nif (notebookContainer) {{\n    x.observe(notebookContainer, {childList: true});\n}}\n\n// Listen for the clearing of the current output cell\nvar outputEl = gd.closest('.output');\nif (outputEl) {{\n    x.observe(outputEl, {childList: true});\n}}\n\n                        })                };                });            </script>        </div>"
          },
          "metadata": {}
        }
      ],
      "execution_count": null
    },
    {
      "cell_type": "code",
      "source": [],
      "metadata": {
        "trusted": true,
        "id": "-9SnQsnqZi-b"
      },
      "outputs": [],
      "execution_count": null
    },
    {
      "cell_type": "markdown",
      "source": [
        "<blockquote class=\"imgur-embed-pub\" lang=\"en\" data-id=\"a/GHrOMiH\" data-context=\"false\" ><a href=\"//imgur.com/a/GHrOMiH\"></a></blockquote><script async src=\"//s.imgur.com/min/embed.js\" charset=\"utf-8\"></script>"
      ],
      "metadata": {
        "id": "jqPzpBc1Zi-b"
      }
    }
  ]
}